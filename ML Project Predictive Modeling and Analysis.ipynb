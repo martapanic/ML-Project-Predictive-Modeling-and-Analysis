{
 "cells": [
  {
   "cell_type": "markdown",
   "metadata": {
    "cell_id": "d56cea79655f42f9989e7b9ba36d5f10",
    "deepnote_cell_type": "text-cell-p",
    "formattedRanges": []
   },
   "source": []
  },
  {
   "cell_type": "markdown",
   "metadata": {
    "cell_id": "d5e503cc828e4e38a6a17d62b7ed210c",
    "deepnote_cell_type": "text-cell-h1",
    "formattedRanges": []
   },
   "source": [
    "# Information about the dataset"
   ]
  },
  {
   "cell_type": "markdown",
   "metadata": {},
   "source": [
    "- Dataset Source:The dataset is available on Kaggle: MxMH Survey Results, at https://www.kaggle.com/datasets/catherinerasgaitis/mxmh-survey-results\n",
    "\n",
    "- Structure: It contains 736 rows and 33 columns, including 7 numerical features and 26 categorical features. \n",
    "\n",
    "- Missing Values: The dataset includes 5,398 missing values, mostly in optional fields such as BPM (beats per minute).\n",
    "\n",
    "- Data Collection: Data was gathered via a Google Form, where respondents provided insights into their music preferences, listening habits, and self-reported mental health conditions. Mental health scores (e.g., anxiety, depression, insomnia, OCD) were rated on a scale of 0 to 10.\n",
    "\n",
    "- Participant Demographics: There were no restrictions on age or location. The survey was shared online and promoted in public areas like libraries and parks."
   ]
  },
  {
   "cell_type": "markdown",
   "metadata": {
    "cell_id": "1a8f7223c6b9439ab652206701b5fbcb",
    "deepnote_cell_type": "text-cell-h1",
    "formattedRanges": []
   },
   "source": [
    "# Aim of the project"
   ]
  },
  {
   "cell_type": "markdown",
   "metadata": {
    "cell_id": "9acee3ace8224a8ba24171d91063f502",
    "deepnote_cell_type": "text-cell-p",
    "formattedRanges": [
     {
      "fromCodePoint": 89,
      "marks": {
       "bold": true
      },
      "toCodePoint": 112,
      "type": "marks"
     },
     {
      "fromCodePoint": 115,
      "marks": {
       "bold": true
      },
      "toCodePoint": 125,
      "type": "marks"
     },
     {
      "fromCodePoint": 142,
      "marks": {
       "bold": true
      },
      "toCodePoint": 173,
      "type": "marks"
     },
     {
      "fromCodePoint": 333,
      "marks": {
       "bold": true
      },
      "toCodePoint": 349,
      "type": "marks"
     }
    ]
   },
   "source": [
    "The aim of this project is to develop a machine learning solution to classify a specific mental health condition,  \"Anxiety\" in this case, as significant or not significant based on user-reported data related to music preferences, habits, and potentially correlated mental health conditions. The classification is determined using a threshold of 5: values equal to or exceeding this threshold are labeled as significant (1), while lower values are labeled as not significant (0)."
   ]
  },
  {
   "cell_type": "markdown",
   "metadata": {},
   "source": [
    "# Import"
   ]
  },
  {
   "cell_type": "code",
   "execution_count": 1,
   "metadata": {
    "cell_id": "4dcf6d6c8ece461fb6562adc8e4280b7",
    "deepnote_cell_type": "code",
    "execution_context_id": "bd6ba632-1d63-4e06-aab9-a07fb8971418",
    "execution_millis": 1843,
    "execution_start": 1738081271927,
    "source_hash": "659252e7"
   },
   "outputs": [],
   "source": [
    "# Basic Libraries for Data Manipulation and Visualization\n",
    "import pandas as pd\n",
    "import numpy as np\n",
    "import matplotlib.pyplot as plt\n",
    "import seaborn as sns\n",
    "import warnings\n",
    "import itertools\n",
    "\n",
    "# Suppress warnings for cleaner output\n",
    "warnings.filterwarnings(\"ignore\")\n",
    "\n",
    "# Scikit-learn Transformers and Pipelines\n",
    "from sklearn.base import BaseEstimator, TransformerMixin  # Custom transformers\n",
    "from sklearn.compose import ColumnTransformer  # Combine feature transformations\n",
    "from sklearn.pipeline import Pipeline  # Create machine learning pipelines\n",
    "from sklearn.impute import SimpleImputer, KNNImputer  # Handle missing data\n",
    "from sklearn.preprocessing import (  # Preprocessing tools for feature scaling and encoding\n",
    "    StandardScaler,\n",
    "    OneHotEncoder,\n",
    "    OrdinalEncoder,\n",
    "    MinMaxScaler,\n",
    "    MaxAbsScaler,\n",
    "    FunctionTransformer\n",
    ")\n",
    "\n",
    "# Dimensionality Reduction\n",
    "from sklearn.decomposition import PCA\n",
    "from sklearn.discriminant_analysis import LinearDiscriminantAnalysis as LDA\n",
    "\n",
    "# Model Evaluation Metrics\n",
    "from sklearn.metrics import (\n",
    "    f1_score,\n",
    "    roc_auc_score,\n",
    "    confusion_matrix,\n",
    "    ConfusionMatrixDisplay,\n",
    "    precision_score,\n",
    "    recall_score,\n",
    "    classification_report,\n",
    "    accuracy_score,\n",
    "    precision_recall_curve,\n",
    "    roc_curve,\n",
    "    auc\n",
    ")\n",
    "\n",
    "# Model Selection and Cross-Validation\n",
    "from sklearn.model_selection import (\n",
    "    train_test_split,\n",
    "    KFold,\n",
    "    StratifiedKFold,\n",
    "    RepeatedStratifiedKFold,\n",
    "    cross_val_score,\n",
    "    cross_validate,\n",
    "    learning_curve,\n",
    "    validation_curve,\n",
    "    GridSearchCV,\n",
    "    RandomizedSearchCV\n",
    ")\n",
    "\n",
    "# Classifiers and Models\n",
    "from sklearn.tree import DecisionTreeClassifier\n",
    "from sklearn.linear_model import Perceptron, LogisticRegression\n",
    "from sklearn.neighbors import KNeighborsClassifier\n",
    "from sklearn.ensemble import (\n",
    "    RandomForestClassifier,\n",
    "    BaggingClassifier,\n",
    "    AdaBoostClassifier\n",
    ")\n",
    "from sklearn.svm import SVC  # Support Vector Classifier\n",
    "\n",
    "# Data Sampling for Imbalanced Datasets (Imbalanced-learn)\n",
    "from imblearn.over_sampling import SMOTE, RandomOverSampler  # Oversampling techniques\n",
    "from imblearn.under_sampling import RandomUnderSampler, TomekLinks  # Undersampling techniques\n",
    "from imblearn.pipeline import Pipeline as IMBPipeline  # Pipeline compatible with imbalanced-learn\n",
    "\n",
    "# Feature Selection\n",
    "from mlxtend.feature_selection import SequentialFeatureSelector as SFS\n",
    "\n",
    "# Statistical Distributions for Hyperparameter Search\n",
    "from scipy.stats import loguniform, beta, uniform, randint\n",
    "\n",
    "# Utility Tools\n",
    "from IPython.display import display\n",
    "from matplotlib.colors import LinearSegmentedColormap\n",
    "\n",
    "# Visualizing Missing Data\n",
    "import missingno as msno"
   ]
  },
  {
   "cell_type": "markdown",
   "metadata": {
    "cell_id": "70574542aff846bda89e42d500a05eb9",
    "deepnote_cell_type": "text-cell-p",
    "formattedRanges": [
     {
      "fromCodePoint": 35,
      "marks": {
       "code": true
      },
      "toCodePoint": 43,
      "type": "marks"
     }
    ]
   },
   "source": [
    "Use the Pandas method <code>read_csv</code> to import the dataset."
   ]
  },
  {
   "cell_type": "code",
   "execution_count": 2,
   "metadata": {
    "cell_id": "0294d57ba23e485c8d5431cd422299b5",
    "deepnote_cell_type": "code",
    "execution_context_id": "bd6ba632-1d63-4e06-aab9-a07fb8971418",
    "execution_millis": 129,
    "execution_start": 1738081273819,
    "source_hash": "554832d7"
   },
   "outputs": [],
   "source": [
    "ds = pd.read_csv('survey_results.csv')"
   ]
  },
  {
   "cell_type": "markdown",
   "metadata": {
    "cell_id": "d82996f9f3ac4601806409da4e976b2a",
    "deepnote_cell_type": "text-cell-h1",
    "formattedRanges": []
   },
   "source": [
    "# Data Visualization"
   ]
  },
  {
   "cell_type": "markdown",
   "metadata": {
    "cell_id": "6813e580e52b49c4927eec22f98c22bc",
    "deepnote_cell_type": "text-cell-p",
    "formattedRanges": [
     {
      "fromCodePoint": 46,
      "marks": {
       "code": true
      },
      "toCodePoint": 51,
      "type": "marks"
     }
    ]
   },
   "source": [
    "Retrieve the dataset's dimensions using the <code>shape</code> attribute."
   ]
  },
  {
   "cell_type": "code",
   "execution_count": 3,
   "metadata": {
    "cell_id": "253603d920784fafb3060ffe6f77eadb",
    "deepnote_cell_type": "code",
    "execution_context_id": "bd6ba632-1d63-4e06-aab9-a07fb8971418",
    "execution_millis": 2,
    "execution_start": 1738081273999,
    "source_hash": "30b00607"
   },
   "outputs": [
    {
     "name": "stdout",
     "output_type": "stream",
     "text": [
      "Features: 33\n",
      "Elements: 736\n"
     ]
    }
   ],
   "source": [
    "print(f'Features: {ds.shape[1]}\\nElements: {ds.shape[0]}')"
   ]
  },
  {
   "cell_type": "markdown",
   "metadata": {
    "cell_id": "89b8280f509644369f22061bcaadfd3b",
    "deepnote_cell_type": "text-cell-p",
    "formattedRanges": [
     {
      "fromCodePoint": 12,
      "marks": {
       "bold": true
      },
      "toCodePoint": 19,
      "type": "marks"
     }
    ]
   },
   "source": [
    "Display the dataset:"
   ]
  },
  {
   "cell_type": "code",
   "execution_count": 4,
   "metadata": {
    "cell_id": "539b2ee0f08e4ff59769aed094248c18",
    "deepnote_cell_type": "code",
    "execution_context_id": "bd6ba632-1d63-4e06-aab9-a07fb8971418",
    "execution_millis": 35,
    "execution_start": 1738081274059,
    "source_hash": "8e3cb5ff"
   },
   "outputs": [
    {
     "data": {
      "application/vnd.deepnote.dataframe.v3+json": {
       "column_count": 33,
       "columns": [
        {
         "dtype": "object",
         "name": "Timestamp",
         "stats": {
          "categories": [
           {
            "count": 2,
            "name": "8/28/2022 16:15:08"
           },
           {
            "count": 1,
            "name": "8/27/2022 19:29:02"
           },
           {
            "count": 733,
            "name": "733 others"
           }
          ],
          "nan_count": 0,
          "unique_count": 735
         }
        },
        {
         "dtype": "float64",
         "name": "Age",
         "stats": {
          "histogram": [
           {
            "bin_end": 17.9,
            "bin_start": 10,
            "count": 153
           },
           {
            "bin_end": 25.8,
            "bin_start": 17.9,
            "count": 356
           },
           {
            "bin_end": 33.7,
            "bin_start": 25.8,
            "count": 114
           },
           {
            "bin_end": 41.6,
            "bin_start": 33.7,
            "count": 43
           },
           {
            "bin_end": 49.5,
            "bin_start": 41.6,
            "count": 21
           },
           {
            "bin_end": 57.400000000000006,
            "bin_start": 49.5,
            "count": 16
           },
           {
            "bin_end": 65.30000000000001,
            "bin_start": 57.400000000000006,
            "count": 20
           },
           {
            "bin_end": 73.2,
            "bin_start": 65.30000000000001,
            "count": 9
           },
           {
            "bin_end": 81.10000000000001,
            "bin_start": 73.2,
            "count": 2
           },
           {
            "bin_end": 89,
            "bin_start": 81.10000000000001,
            "count": 1
           }
          ],
          "max": "89.0",
          "min": "10.0",
          "nan_count": 1,
          "unique_count": 61
         }
        },
        {
         "dtype": "object",
         "name": "Primary streaming service",
         "stats": {
          "categories": [
           {
            "count": 458,
            "name": "Spotify"
           },
           {
            "count": 277,
            "name": "5 others"
           },
           {
            "count": 1,
            "name": "Missing"
           }
          ],
          "nan_count": 1,
          "unique_count": 6
         }
        },
        {
         "dtype": "float64",
         "name": "Hours per day",
         "stats": {
          "histogram": [
           {
            "bin_end": 2.4,
            "bin_start": 0,
            "count": 338
           },
           {
            "bin_end": 4.8,
            "bin_start": 2.4,
            "count": 210
           },
           {
            "bin_end": 7.199999999999999,
            "bin_start": 4.8,
            "count": 116
           },
           {
            "bin_end": 9.6,
            "bin_start": 7.199999999999999,
            "count": 32
           },
           {
            "bin_end": 12,
            "bin_start": 9.6,
            "count": 21
           },
           {
            "bin_end": 14.399999999999999,
            "bin_start": 12,
            "count": 11
           },
           {
            "bin_end": 16.8,
            "bin_start": 14.399999999999999,
            "count": 3
           },
           {
            "bin_end": 19.2,
            "bin_start": 16.8,
            "count": 1
           },
           {
            "bin_end": 21.599999999999998,
            "bin_start": 19.2,
            "count": 1
           },
           {
            "bin_end": 24,
            "bin_start": 21.599999999999998,
            "count": 3
           }
          ],
          "max": "24.0",
          "min": "0.0",
          "nan_count": 0,
          "unique_count": 27
         }
        },
        {
         "dtype": "object",
         "name": "While working",
         "stats": {
          "categories": [
           {
            "count": 579,
            "name": "Yes"
           },
           {
            "count": 154,
            "name": "No"
           },
           {
            "count": 3,
            "name": "Missing"
           }
          ],
          "nan_count": 3,
          "unique_count": 2
         }
        },
        {
         "dtype": "object",
         "name": "Instrumentalist",
         "stats": {
          "categories": [
           {
            "count": 497,
            "name": "No"
           },
           {
            "count": 235,
            "name": "Yes"
           },
           {
            "count": 4,
            "name": "Missing"
           }
          ],
          "nan_count": 4,
          "unique_count": 2
         }
        },
        {
         "dtype": "object",
         "name": "Composer",
         "stats": {
          "categories": [
           {
            "count": 609,
            "name": "No"
           },
           {
            "count": 126,
            "name": "Yes"
           },
           {
            "count": 1,
            "name": "Missing"
           }
          ],
          "nan_count": 1,
          "unique_count": 2
         }
        },
        {
         "dtype": "object",
         "name": "Fav genre",
         "stats": {
          "categories": [
           {
            "count": 188,
            "name": "Rock"
           },
           {
            "count": 114,
            "name": "Pop"
           },
           {
            "count": 434,
            "name": "14 others"
           }
          ],
          "nan_count": 0,
          "unique_count": 16
         }
        },
        {
         "dtype": "object",
         "name": "Exploratory",
         "stats": {
          "categories": [
           {
            "count": 525,
            "name": "Yes"
           },
           {
            "count": 211,
            "name": "No"
           }
          ],
          "nan_count": 0,
          "unique_count": 2
         }
        },
        {
         "dtype": "object",
         "name": "Foreign languages",
         "stats": {
          "categories": [
           {
            "count": 404,
            "name": "Yes"
           },
           {
            "count": 328,
            "name": "No"
           },
           {
            "count": 4,
            "name": "Missing"
           }
          ],
          "nan_count": 4,
          "unique_count": 2
         }
        },
        {
         "dtype": "float64",
         "name": "BPM",
         "stats": {
          "histogram": [
           {
            "bin_end": 99999999.9,
            "bin_start": 0,
            "count": 628
           },
           {
            "bin_end": 199999999.8,
            "bin_start": 99999999.9,
            "count": 0
           },
           {
            "bin_end": 299999999.70000005,
            "bin_start": 199999999.8,
            "count": 0
           },
           {
            "bin_end": 399999999.6,
            "bin_start": 299999999.70000005,
            "count": 0
           },
           {
            "bin_end": 499999999.5,
            "bin_start": 399999999.6,
            "count": 0
           },
           {
            "bin_end": 599999999.4000001,
            "bin_start": 499999999.5,
            "count": 0
           },
           {
            "bin_end": 699999999.3000001,
            "bin_start": 599999999.4000001,
            "count": 0
           },
           {
            "bin_end": 799999999.2,
            "bin_start": 699999999.3000001,
            "count": 0
           },
           {
            "bin_end": 899999999.1,
            "bin_start": 799999999.2,
            "count": 0
           },
           {
            "bin_end": 999999999,
            "bin_start": 899999999.1,
            "count": 1
           }
          ],
          "max": "999999999.0",
          "min": "0.0",
          "nan_count": 107,
          "unique_count": 135
         }
        },
        {
         "dtype": "object",
         "name": "Frequency [Classical]",
         "stats": {
          "categories": [
           {
            "count": 259,
            "name": "Rarely"
           },
           {
            "count": 200,
            "name": "Sometimes"
           },
           {
            "count": 277,
            "name": "2 others"
           }
          ],
          "nan_count": 0,
          "unique_count": 4
         }
        },
        {
         "dtype": "object",
         "name": "Frequency [Country]",
         "stats": {
          "categories": [
           {
            "count": 343,
            "name": "Never"
           },
           {
            "count": 233,
            "name": "Rarely"
           },
           {
            "count": 160,
            "name": "2 others"
           }
          ],
          "nan_count": 0,
          "unique_count": 4
         }
        },
        {
         "dtype": "object",
         "name": "Frequency [EDM]",
         "stats": {
          "categories": [
           {
            "count": 307,
            "name": "Never"
           },
           {
            "count": 194,
            "name": "Rarely"
           },
           {
            "count": 235,
            "name": "2 others"
           }
          ],
          "nan_count": 0,
          "unique_count": 4
         }
        },
        {
         "dtype": "object",
         "name": "Frequency [Folk]",
         "stats": {
          "categories": [
           {
            "count": 292,
            "name": "Never"
           },
           {
            "count": 221,
            "name": "Rarely"
           },
           {
            "count": 223,
            "name": "2 others"
           }
          ],
          "nan_count": 0,
          "unique_count": 4
         }
        },
        {
         "dtype": "object",
         "name": "Frequency [Gospel]",
         "stats": {
          "categories": [
           {
            "count": 535,
            "name": "Never"
           },
           {
            "count": 135,
            "name": "Rarely"
           },
           {
            "count": 66,
            "name": "2 others"
           }
          ],
          "nan_count": 0,
          "unique_count": 4
         }
        },
        {
         "dtype": "object",
         "name": "Frequency [Hip hop]",
         "stats": {
          "categories": [
           {
            "count": 218,
            "name": "Sometimes"
           },
           {
            "count": 214,
            "name": "Rarely"
           },
           {
            "count": 304,
            "name": "2 others"
           }
          ],
          "nan_count": 0,
          "unique_count": 4
         }
        },
        {
         "dtype": "object",
         "name": "Frequency [Jazz]",
         "stats": {
          "categories": [
           {
            "count": 261,
            "name": "Never"
           },
           {
            "count": 247,
            "name": "Rarely"
           },
           {
            "count": 228,
            "name": "2 others"
           }
          ],
          "nan_count": 0,
          "unique_count": 4
         }
        },
        {
         "dtype": "object",
         "name": "Frequency [K pop]",
         "stats": {
          "categories": [
           {
            "count": 416,
            "name": "Never"
           },
           {
            "count": 176,
            "name": "Rarely"
           },
           {
            "count": 144,
            "name": "2 others"
           }
          ],
          "nan_count": 0,
          "unique_count": 4
         }
        },
        {
         "dtype": "object",
         "name": "Frequency [Latin]",
         "stats": {
          "categories": [
           {
            "count": 443,
            "name": "Never"
           },
           {
            "count": 172,
            "name": "Rarely"
           },
           {
            "count": 121,
            "name": "2 others"
           }
          ],
          "nan_count": 0,
          "unique_count": 4
         }
        },
        {
         "dtype": "object",
         "name": "Frequency [Lofi]",
         "stats": {
          "categories": [
           {
            "count": 280,
            "name": "Never"
           },
           {
            "count": 211,
            "name": "Rarely"
           },
           {
            "count": 245,
            "name": "2 others"
           }
          ],
          "nan_count": 0,
          "unique_count": 4
         }
        },
        {
         "dtype": "object",
         "name": "Frequency [Metal]",
         "stats": {
          "categories": [
           {
            "count": 264,
            "name": "Never"
           },
           {
            "count": 192,
            "name": "Rarely"
           },
           {
            "count": 280,
            "name": "2 others"
           }
          ],
          "nan_count": 0,
          "unique_count": 4
         }
        },
        {
         "dtype": "object",
         "name": "Frequency [Pop]",
         "stats": {
          "categories": [
           {
            "count": 277,
            "name": "Very frequently"
           },
           {
            "count": 261,
            "name": "Sometimes"
           },
           {
            "count": 198,
            "name": "2 others"
           }
          ],
          "nan_count": 0,
          "unique_count": 4
         }
        },
        {
         "dtype": "object",
         "name": "Frequency [R&B]",
         "stats": {
          "categories": [
           {
            "count": 225,
            "name": "Never"
           },
           {
            "count": 211,
            "name": "Rarely"
           },
           {
            "count": 300,
            "name": "2 others"
           }
          ],
          "nan_count": 0,
          "unique_count": 4
         }
        },
        {
         "dtype": "object",
         "name": "Frequency [Rap]",
         "stats": {
          "categories": [
           {
            "count": 215,
            "name": "Rarely"
           },
           {
            "count": 200,
            "name": "Never"
           },
           {
            "count": 321,
            "name": "2 others"
           }
          ],
          "nan_count": 0,
          "unique_count": 4
         }
        },
        {
         "dtype": "object",
         "name": "Frequency [Rock]",
         "stats": {
          "categories": [
           {
            "count": 330,
            "name": "Very frequently"
           },
           {
            "count": 219,
            "name": "Sometimes"
           },
           {
            "count": 187,
            "name": "2 others"
           }
          ],
          "nan_count": 0,
          "unique_count": 4
         }
        },
        {
         "dtype": "object",
         "name": "Frequency [Video game music]",
         "stats": {
          "categories": [
           {
            "count": 236,
            "name": "Never"
           },
           {
            "count": 197,
            "name": "Rarely"
           },
           {
            "count": 303,
            "name": "2 others"
           }
          ],
          "nan_count": 0,
          "unique_count": 4
         }
        },
        {
         "dtype": "float64",
         "name": "Anxiety",
         "stats": {
          "histogram": [
           {
            "bin_end": 1,
            "bin_start": 0,
            "count": 35
           },
           {
            "bin_end": 2,
            "bin_start": 1,
            "count": 29
           },
           {
            "bin_end": 3,
            "bin_start": 2,
            "count": 44
           },
           {
            "bin_end": 4,
            "bin_start": 3,
            "count": 69
           },
           {
            "bin_end": 5,
            "bin_start": 4,
            "count": 56
           },
           {
            "bin_end": 6,
            "bin_start": 5,
            "count": 59
           },
           {
            "bin_end": 7,
            "bin_start": 6,
            "count": 83
           },
           {
            "bin_end": 8,
            "bin_start": 7,
            "count": 123
           },
           {
            "bin_end": 9,
            "bin_start": 8,
            "count": 115
           },
           {
            "bin_end": 10,
            "bin_start": 9,
            "count": 123
           }
          ],
          "max": "10.0",
          "min": "0.0",
          "nan_count": 0,
          "unique_count": 12
         }
        },
        {
         "dtype": "float64",
         "name": "Depression",
         "stats": {
          "histogram": [
           {
            "bin_end": 1,
            "bin_start": 0,
            "count": 84
           },
           {
            "bin_end": 2,
            "bin_start": 1,
            "count": 40
           },
           {
            "bin_end": 3,
            "bin_start": 2,
            "count": 93
           },
           {
            "bin_end": 4,
            "bin_start": 3,
            "count": 61
           },
           {
            "bin_end": 5,
            "bin_start": 4,
            "count": 58
           },
           {
            "bin_end": 6,
            "bin_start": 5,
            "count": 56
           },
           {
            "bin_end": 7,
            "bin_start": 6,
            "count": 88
           },
           {
            "bin_end": 8,
            "bin_start": 7,
            "count": 96
           },
           {
            "bin_end": 9,
            "bin_start": 8,
            "count": 77
           },
           {
            "bin_end": 10,
            "bin_start": 9,
            "count": 83
           }
          ],
          "max": "10.0",
          "min": "0.0",
          "nan_count": 0,
          "unique_count": 12
         }
        },
        {
         "dtype": "float64",
         "name": "Insomnia",
         "stats": {
          "histogram": [
           {
            "bin_end": 1,
            "bin_start": 0,
            "count": 149
           },
           {
            "bin_end": 2,
            "bin_start": 1,
            "count": 82
           },
           {
            "bin_end": 3,
            "bin_start": 2,
            "count": 88
           },
           {
            "bin_end": 4,
            "bin_start": 3,
            "count": 69
           },
           {
            "bin_end": 5,
            "bin_start": 4,
            "count": 59
           },
           {
            "bin_end": 6,
            "bin_start": 5,
            "count": 58
           },
           {
            "bin_end": 7,
            "bin_start": 6,
            "count": 62
           },
           {
            "bin_end": 8,
            "bin_start": 7,
            "count": 59
           },
           {
            "bin_end": 9,
            "bin_start": 8,
            "count": 49
           },
           {
            "bin_end": 10,
            "bin_start": 9,
            "count": 61
           }
          ],
          "max": "10.0",
          "min": "0.0",
          "nan_count": 0,
          "unique_count": 12
         }
        },
        {
         "dtype": "float64",
         "name": "OCD",
         "stats": {
          "histogram": [
           {
            "bin_end": 1,
            "bin_start": 0,
            "count": 248
           },
           {
            "bin_end": 2,
            "bin_start": 1,
            "count": 95
           },
           {
            "bin_end": 3,
            "bin_start": 2,
            "count": 96
           },
           {
            "bin_end": 4,
            "bin_start": 3,
            "count": 64
           },
           {
            "bin_end": 5,
            "bin_start": 4,
            "count": 48
           },
           {
            "bin_end": 6,
            "bin_start": 5,
            "count": 55
           },
           {
            "bin_end": 7,
            "bin_start": 6,
            "count": 33
           },
           {
            "bin_end": 8,
            "bin_start": 7,
            "count": 34
           },
           {
            "bin_end": 9,
            "bin_start": 8,
            "count": 29
           },
           {
            "bin_end": 10,
            "bin_start": 9,
            "count": 34
           }
          ],
          "max": "10.0",
          "min": "0.0",
          "nan_count": 0,
          "unique_count": 13
         }
        },
        {
         "dtype": "object",
         "name": "Music effects",
         "stats": {
          "categories": [
           {
            "count": 542,
            "name": "Improve"
           },
           {
            "count": 186,
            "name": "2 others"
           },
           {
            "count": 8,
            "name": "Missing"
           }
          ],
          "nan_count": 8,
          "unique_count": 3
         }
        },
        {
         "dtype": "object",
         "name": "Permissions",
         "stats": {
          "categories": [
           {
            "count": 736,
            "name": "I understand."
           }
          ],
          "nan_count": 0,
          "unique_count": 1
         }
        },
        {
         "dtype": "int64",
         "name": "_deepnote_index_column"
        }
       ],
       "row_count": 736,
       "rows": [
        {
         "Age": 18,
         "Anxiety": 3,
         "BPM": 156,
         "Composer": "Yes",
         "Depression": 0,
         "Exploratory": "Yes",
         "Fav genre": "Latin",
         "Foreign languages": "Yes",
         "Frequency [Classical]": "Rarely",
         "Frequency [Country]": "Never",
         "Frequency [EDM]": "Rarely",
         "Frequency [Folk]": "Never",
         "Frequency [Gospel]": "Never",
         "Frequency [Hip hop]": "Sometimes",
         "Frequency [Jazz]": "Never",
         "Frequency [K pop]": "Very frequently",
         "Frequency [Latin]": "Very frequently",
         "Frequency [Lofi]": "Rarely",
         "Frequency [Metal]": "Never",
         "Frequency [Pop]": "Very frequently",
         "Frequency [R&B]": "Sometimes",
         "Frequency [Rap]": "Very frequently",
         "Frequency [Rock]": "Never",
         "Frequency [Video game music]": "Sometimes",
         "Hours per day": 3,
         "Insomnia": 1,
         "Instrumentalist": "Yes",
         "Music effects": "nan",
         "OCD": 0,
         "Permissions": "I understand.",
         "Primary streaming service": "Spotify",
         "Timestamp": "8/27/2022 19:29:02",
         "While working": "Yes",
         "_deepnote_index_column": 0
        },
        {
         "Age": 63,
         "Anxiety": 7,
         "BPM": 119,
         "Composer": "No",
         "Depression": 2,
         "Exploratory": "Yes",
         "Fav genre": "Rock",
         "Foreign languages": "No",
         "Frequency [Classical]": "Sometimes",
         "Frequency [Country]": "Never",
         "Frequency [EDM]": "Never",
         "Frequency [Folk]": "Rarely",
         "Frequency [Gospel]": "Sometimes",
         "Frequency [Hip hop]": "Rarely",
         "Frequency [Jazz]": "Very frequently",
         "Frequency [K pop]": "Rarely",
         "Frequency [Latin]": "Sometimes",
         "Frequency [Lofi]": "Rarely",
         "Frequency [Metal]": "Never",
         "Frequency [Pop]": "Sometimes",
         "Frequency [R&B]": "Sometimes",
         "Frequency [Rap]": "Rarely",
         "Frequency [Rock]": "Very frequently",
         "Frequency [Video game music]": "Rarely",
         "Hours per day": 1.5,
         "Insomnia": 2,
         "Instrumentalist": "No",
         "Music effects": "nan",
         "OCD": 1,
         "Permissions": "I understand.",
         "Primary streaming service": "Pandora",
         "Timestamp": "8/27/2022 19:57:31",
         "While working": "Yes",
         "_deepnote_index_column": 1
        },
        {
         "Age": 18,
         "Anxiety": 7,
         "BPM": 132,
         "Composer": "No",
         "Depression": 7,
         "Exploratory": "No",
         "Fav genre": "Video game music",
         "Foreign languages": "Yes",
         "Frequency [Classical]": "Never",
         "Frequency [Country]": "Never",
         "Frequency [EDM]": "Very frequently",
         "Frequency [Folk]": "Never",
         "Frequency [Gospel]": "Never",
         "Frequency [Hip hop]": "Rarely",
         "Frequency [Jazz]": "Rarely",
         "Frequency [K pop]": "Very frequently",
         "Frequency [Latin]": "Never",
         "Frequency [Lofi]": "Sometimes",
         "Frequency [Metal]": "Sometimes",
         "Frequency [Pop]": "Rarely",
         "Frequency [R&B]": "Never",
         "Frequency [Rap]": "Rarely",
         "Frequency [Rock]": "Rarely",
         "Frequency [Video game music]": "Very frequently",
         "Hours per day": 4,
         "Insomnia": 10,
         "Instrumentalist": "No",
         "Music effects": "No effect",
         "OCD": 2,
         "Permissions": "I understand.",
         "Primary streaming service": "Spotify",
         "Timestamp": "8/27/2022 21:28:18",
         "While working": "No",
         "_deepnote_index_column": 2
        },
        {
         "Age": 61,
         "Anxiety": 9,
         "BPM": 84,
         "Composer": "Yes",
         "Depression": 7,
         "Exploratory": "Yes",
         "Fav genre": "Jazz",
         "Foreign languages": "Yes",
         "Frequency [Classical]": "Sometimes",
         "Frequency [Country]": "Never",
         "Frequency [EDM]": "Never",
         "Frequency [Folk]": "Rarely",
         "Frequency [Gospel]": "Sometimes",
         "Frequency [Hip hop]": "Never",
         "Frequency [Jazz]": "Very frequently",
         "Frequency [K pop]": "Sometimes",
         "Frequency [Latin]": "Very frequently",
         "Frequency [Lofi]": "Sometimes",
         "Frequency [Metal]": "Never",
         "Frequency [Pop]": "Sometimes",
         "Frequency [R&B]": "Sometimes",
         "Frequency [Rap]": "Never",
         "Frequency [Rock]": "Never",
         "Frequency [Video game music]": "Never",
         "Hours per day": 2.5,
         "Insomnia": 3,
         "Instrumentalist": "No",
         "Music effects": "Improve",
         "OCD": 3,
         "Permissions": "I understand.",
         "Primary streaming service": "YouTube Music",
         "Timestamp": "8/27/2022 21:40:40",
         "While working": "Yes",
         "_deepnote_index_column": 3
        },
        {
         "Age": 18,
         "Anxiety": 7,
         "BPM": 107,
         "Composer": "No",
         "Depression": 2,
         "Exploratory": "Yes",
         "Fav genre": "R&B",
         "Foreign languages": "No",
         "Frequency [Classical]": "Never",
         "Frequency [Country]": "Never",
         "Frequency [EDM]": "Rarely",
         "Frequency [Folk]": "Never",
         "Frequency [Gospel]": "Rarely",
         "Frequency [Hip hop]": "Very frequently",
         "Frequency [Jazz]": "Never",
         "Frequency [K pop]": "Very frequently",
         "Frequency [Latin]": "Sometimes",
         "Frequency [Lofi]": "Sometimes",
         "Frequency [Metal]": "Never",
         "Frequency [Pop]": "Sometimes",
         "Frequency [R&B]": "Very frequently",
         "Frequency [Rap]": "Very frequently",
         "Frequency [Rock]": "Never",
         "Frequency [Video game music]": "Rarely",
         "Hours per day": 4,
         "Insomnia": 5,
         "Instrumentalist": "No",
         "Music effects": "Improve",
         "OCD": 9,
         "Permissions": "I understand.",
         "Primary streaming service": "Spotify",
         "Timestamp": "8/27/2022 21:54:47",
         "While working": "Yes",
         "_deepnote_index_column": 4
        },
        {
         "Age": 18,
         "Anxiety": 8,
         "BPM": 86,
         "Composer": "Yes",
         "Depression": 8,
         "Exploratory": "Yes",
         "Fav genre": "Jazz",
         "Foreign languages": "Yes",
         "Frequency [Classical]": "Rarely",
         "Frequency [Country]": "Sometimes",
         "Frequency [EDM]": "Never",
         "Frequency [Folk]": "Never",
         "Frequency [Gospel]": "Never",
         "Frequency [Hip hop]": "Sometimes",
         "Frequency [Jazz]": "Very frequently",
         "Frequency [K pop]": "Very frequently",
         "Frequency [Latin]": "Rarely",
         "Frequency [Lofi]": "Very frequently",
         "Frequency [Metal]": "Rarely",
         "Frequency [Pop]": "Very frequently",
         "Frequency [R&B]": "Very frequently",
         "Frequency [Rap]": "Very frequently",
         "Frequency [Rock]": "Very frequently",
         "Frequency [Video game music]": "Never",
         "Hours per day": 5,
         "Insomnia": 7,
         "Instrumentalist": "Yes",
         "Music effects": "Improve",
         "OCD": 7,
         "Permissions": "I understand.",
         "Primary streaming service": "Spotify",
         "Timestamp": "8/27/2022 21:56:50",
         "While working": "Yes",
         "_deepnote_index_column": 5
        },
        {
         "Age": 18,
         "Anxiety": 4,
         "BPM": 66,
         "Composer": "No",
         "Depression": 8,
         "Exploratory": "Yes",
         "Fav genre": "Video game music",
         "Foreign languages": "Yes",
         "Frequency [Classical]": "Sometimes",
         "Frequency [Country]": "Never",
         "Frequency [EDM]": "Rarely",
         "Frequency [Folk]": "Sometimes",
         "Frequency [Gospel]": "Rarely",
         "Frequency [Hip hop]": "Rarely",
         "Frequency [Jazz]": "Sometimes",
         "Frequency [K pop]": "Never",
         "Frequency [Latin]": "Rarely",
         "Frequency [Lofi]": "Rarely",
         "Frequency [Metal]": "Rarely",
         "Frequency [Pop]": "Rarely",
         "Frequency [R&B]": "Rarely",
         "Frequency [Rap]": "Never",
         "Frequency [Rock]": "Never",
         "Frequency [Video game music]": "Sometimes",
         "Hours per day": 3,
         "Insomnia": 6,
         "Instrumentalist": "Yes",
         "Music effects": "Improve",
         "OCD": 0,
         "Permissions": "I understand.",
         "Primary streaming service": "YouTube Music",
         "Timestamp": "8/27/2022 22:00:29",
         "While working": "Yes",
         "_deepnote_index_column": 6
        },
        {
         "Age": 21,
         "Anxiety": 5,
         "BPM": 95,
         "Composer": "No",
         "Depression": 3,
         "Exploratory": "Yes",
         "Fav genre": "K pop",
         "Foreign languages": "Yes",
         "Frequency [Classical]": "Never",
         "Frequency [Country]": "Never",
         "Frequency [EDM]": "Rarely",
         "Frequency [Folk]": "Never",
         "Frequency [Gospel]": "Never",
         "Frequency [Hip hop]": "Very frequently",
         "Frequency [Jazz]": "Rarely",
         "Frequency [K pop]": "Very frequently",
         "Frequency [Latin]": "Never",
         "Frequency [Lofi]": "Sometimes",
         "Frequency [Metal]": "Never",
         "Frequency [Pop]": "Sometimes",
         "Frequency [R&B]": "Sometimes",
         "Frequency [Rap]": "Rarely",
         "Frequency [Rock]": "Never",
         "Frequency [Video game music]": "Rarely",
         "Hours per day": 1,
         "Insomnia": 5,
         "Instrumentalist": "No",
         "Music effects": "Improve",
         "OCD": 3,
         "Permissions": "I understand.",
         "Primary streaming service": "Spotify",
         "Timestamp": "8/27/2022 22:18:59",
         "While working": "Yes",
         "_deepnote_index_column": 7
        },
        {
         "Age": 19,
         "Anxiety": 2,
         "BPM": 94,
         "Composer": "No",
         "Depression": 0,
         "Exploratory": "No",
         "Fav genre": "Rock",
         "Foreign languages": "No",
         "Frequency [Classical]": "Never",
         "Frequency [Country]": "Very frequently",
         "Frequency [EDM]": "Never",
         "Frequency [Folk]": "Sometimes",
         "Frequency [Gospel]": "Never",
         "Frequency [Hip hop]": "Never",
         "Frequency [Jazz]": "Never",
         "Frequency [K pop]": "Never",
         "Frequency [Latin]": "Never",
         "Frequency [Lofi]": "Never",
         "Frequency [Metal]": "Very frequently",
         "Frequency [Pop]": "Never",
         "Frequency [R&B]": "Never",
         "Frequency [Rap]": "Never",
         "Frequency [Rock]": "Very frequently",
         "Frequency [Video game music]": "Never",
         "Hours per day": 6,
         "Insomnia": 0,
         "Instrumentalist": "No",
         "Music effects": "Improve",
         "OCD": 0,
         "Permissions": "I understand.",
         "Primary streaming service": "Spotify",
         "Timestamp": "8/27/2022 22:33:05",
         "While working": "Yes",
         "_deepnote_index_column": 8
        },
        {
         "Age": 18,
         "Anxiety": 2,
         "BPM": 155,
         "Composer": "No",
         "Depression": 2,
         "Exploratory": "Yes",
         "Fav genre": "R&B",
         "Foreign languages": "Yes",
         "Frequency [Classical]": "Rarely",
         "Frequency [Country]": "Rarely",
         "Frequency [EDM]": "Rarely",
         "Frequency [Folk]": "Rarely",
         "Frequency [Gospel]": "Sometimes",
         "Frequency [Hip hop]": "Rarely",
         "Frequency [Jazz]": "Rarely",
         "Frequency [K pop]": "Never",
         "Frequency [Latin]": "Rarely",
         "Frequency [Lofi]": "Rarely",
         "Frequency [Metal]": "Never",
         "Frequency [Pop]": "Sometimes",
         "Frequency [R&B]": "Sometimes",
         "Frequency [Rap]": "Rarely",
         "Frequency [Rock]": "Sometimes",
         "Frequency [Video game music]": "Sometimes",
         "Hours per day": 1,
         "Insomnia": 5,
         "Instrumentalist": "No",
         "Music effects": "Improve",
         "OCD": 1,
         "Permissions": "I understand.",
         "Primary streaming service": "I do not use a streaming service.",
         "Timestamp": "8/27/2022 22:44:03",
         "While working": "Yes",
         "_deepnote_index_column": 9
        }
       ]
      },
      "text/html": [
       "<div>\n",
       "<style scoped>\n",
       "    .dataframe tbody tr th:only-of-type {\n",
       "        vertical-align: middle;\n",
       "    }\n",
       "\n",
       "    .dataframe tbody tr th {\n",
       "        vertical-align: top;\n",
       "    }\n",
       "\n",
       "    .dataframe thead th {\n",
       "        text-align: right;\n",
       "    }\n",
       "</style>\n",
       "<table border=\"1\" class=\"dataframe\">\n",
       "  <thead>\n",
       "    <tr style=\"text-align: right;\">\n",
       "      <th></th>\n",
       "      <th>Timestamp</th>\n",
       "      <th>Age</th>\n",
       "      <th>Primary streaming service</th>\n",
       "      <th>Hours per day</th>\n",
       "      <th>While working</th>\n",
       "      <th>Instrumentalist</th>\n",
       "      <th>Composer</th>\n",
       "      <th>Fav genre</th>\n",
       "      <th>Exploratory</th>\n",
       "      <th>Foreign languages</th>\n",
       "      <th>...</th>\n",
       "      <th>Frequency [R&amp;B]</th>\n",
       "      <th>Frequency [Rap]</th>\n",
       "      <th>Frequency [Rock]</th>\n",
       "      <th>Frequency [Video game music]</th>\n",
       "      <th>Anxiety</th>\n",
       "      <th>Depression</th>\n",
       "      <th>Insomnia</th>\n",
       "      <th>OCD</th>\n",
       "      <th>Music effects</th>\n",
       "      <th>Permissions</th>\n",
       "    </tr>\n",
       "  </thead>\n",
       "  <tbody>\n",
       "    <tr>\n",
       "      <th>0</th>\n",
       "      <td>8/27/2022 19:29:02</td>\n",
       "      <td>18.0</td>\n",
       "      <td>Spotify</td>\n",
       "      <td>3.0</td>\n",
       "      <td>Yes</td>\n",
       "      <td>Yes</td>\n",
       "      <td>Yes</td>\n",
       "      <td>Latin</td>\n",
       "      <td>Yes</td>\n",
       "      <td>Yes</td>\n",
       "      <td>...</td>\n",
       "      <td>Sometimes</td>\n",
       "      <td>Very frequently</td>\n",
       "      <td>Never</td>\n",
       "      <td>Sometimes</td>\n",
       "      <td>3.0</td>\n",
       "      <td>0.0</td>\n",
       "      <td>1.0</td>\n",
       "      <td>0.0</td>\n",
       "      <td>NaN</td>\n",
       "      <td>I understand.</td>\n",
       "    </tr>\n",
       "    <tr>\n",
       "      <th>1</th>\n",
       "      <td>8/27/2022 19:57:31</td>\n",
       "      <td>63.0</td>\n",
       "      <td>Pandora</td>\n",
       "      <td>1.5</td>\n",
       "      <td>Yes</td>\n",
       "      <td>No</td>\n",
       "      <td>No</td>\n",
       "      <td>Rock</td>\n",
       "      <td>Yes</td>\n",
       "      <td>No</td>\n",
       "      <td>...</td>\n",
       "      <td>Sometimes</td>\n",
       "      <td>Rarely</td>\n",
       "      <td>Very frequently</td>\n",
       "      <td>Rarely</td>\n",
       "      <td>7.0</td>\n",
       "      <td>2.0</td>\n",
       "      <td>2.0</td>\n",
       "      <td>1.0</td>\n",
       "      <td>NaN</td>\n",
       "      <td>I understand.</td>\n",
       "    </tr>\n",
       "    <tr>\n",
       "      <th>2</th>\n",
       "      <td>8/27/2022 21:28:18</td>\n",
       "      <td>18.0</td>\n",
       "      <td>Spotify</td>\n",
       "      <td>4.0</td>\n",
       "      <td>No</td>\n",
       "      <td>No</td>\n",
       "      <td>No</td>\n",
       "      <td>Video game music</td>\n",
       "      <td>No</td>\n",
       "      <td>Yes</td>\n",
       "      <td>...</td>\n",
       "      <td>Never</td>\n",
       "      <td>Rarely</td>\n",
       "      <td>Rarely</td>\n",
       "      <td>Very frequently</td>\n",
       "      <td>7.0</td>\n",
       "      <td>7.0</td>\n",
       "      <td>10.0</td>\n",
       "      <td>2.0</td>\n",
       "      <td>No effect</td>\n",
       "      <td>I understand.</td>\n",
       "    </tr>\n",
       "    <tr>\n",
       "      <th>3</th>\n",
       "      <td>8/27/2022 21:40:40</td>\n",
       "      <td>61.0</td>\n",
       "      <td>YouTube Music</td>\n",
       "      <td>2.5</td>\n",
       "      <td>Yes</td>\n",
       "      <td>No</td>\n",
       "      <td>Yes</td>\n",
       "      <td>Jazz</td>\n",
       "      <td>Yes</td>\n",
       "      <td>Yes</td>\n",
       "      <td>...</td>\n",
       "      <td>Sometimes</td>\n",
       "      <td>Never</td>\n",
       "      <td>Never</td>\n",
       "      <td>Never</td>\n",
       "      <td>9.0</td>\n",
       "      <td>7.0</td>\n",
       "      <td>3.0</td>\n",
       "      <td>3.0</td>\n",
       "      <td>Improve</td>\n",
       "      <td>I understand.</td>\n",
       "    </tr>\n",
       "    <tr>\n",
       "      <th>4</th>\n",
       "      <td>8/27/2022 21:54:47</td>\n",
       "      <td>18.0</td>\n",
       "      <td>Spotify</td>\n",
       "      <td>4.0</td>\n",
       "      <td>Yes</td>\n",
       "      <td>No</td>\n",
       "      <td>No</td>\n",
       "      <td>R&amp;B</td>\n",
       "      <td>Yes</td>\n",
       "      <td>No</td>\n",
       "      <td>...</td>\n",
       "      <td>Very frequently</td>\n",
       "      <td>Very frequently</td>\n",
       "      <td>Never</td>\n",
       "      <td>Rarely</td>\n",
       "      <td>7.0</td>\n",
       "      <td>2.0</td>\n",
       "      <td>5.0</td>\n",
       "      <td>9.0</td>\n",
       "      <td>Improve</td>\n",
       "      <td>I understand.</td>\n",
       "    </tr>\n",
       "    <tr>\n",
       "      <th>...</th>\n",
       "      <td>...</td>\n",
       "      <td>...</td>\n",
       "      <td>...</td>\n",
       "      <td>...</td>\n",
       "      <td>...</td>\n",
       "      <td>...</td>\n",
       "      <td>...</td>\n",
       "      <td>...</td>\n",
       "      <td>...</td>\n",
       "      <td>...</td>\n",
       "      <td>...</td>\n",
       "      <td>...</td>\n",
       "      <td>...</td>\n",
       "      <td>...</td>\n",
       "      <td>...</td>\n",
       "      <td>...</td>\n",
       "      <td>...</td>\n",
       "      <td>...</td>\n",
       "      <td>...</td>\n",
       "      <td>...</td>\n",
       "      <td>...</td>\n",
       "    </tr>\n",
       "    <tr>\n",
       "      <th>731</th>\n",
       "      <td>10/30/2022 14:37:28</td>\n",
       "      <td>17.0</td>\n",
       "      <td>Spotify</td>\n",
       "      <td>2.0</td>\n",
       "      <td>Yes</td>\n",
       "      <td>Yes</td>\n",
       "      <td>No</td>\n",
       "      <td>Rock</td>\n",
       "      <td>Yes</td>\n",
       "      <td>Yes</td>\n",
       "      <td>...</td>\n",
       "      <td>Never</td>\n",
       "      <td>Rarely</td>\n",
       "      <td>Very frequently</td>\n",
       "      <td>Never</td>\n",
       "      <td>7.0</td>\n",
       "      <td>6.0</td>\n",
       "      <td>0.0</td>\n",
       "      <td>9.0</td>\n",
       "      <td>Improve</td>\n",
       "      <td>I understand.</td>\n",
       "    </tr>\n",
       "    <tr>\n",
       "      <th>732</th>\n",
       "      <td>11/1/2022 22:26:42</td>\n",
       "      <td>18.0</td>\n",
       "      <td>Spotify</td>\n",
       "      <td>1.0</td>\n",
       "      <td>Yes</td>\n",
       "      <td>Yes</td>\n",
       "      <td>No</td>\n",
       "      <td>Pop</td>\n",
       "      <td>Yes</td>\n",
       "      <td>Yes</td>\n",
       "      <td>...</td>\n",
       "      <td>Never</td>\n",
       "      <td>Never</td>\n",
       "      <td>Sometimes</td>\n",
       "      <td>Sometimes</td>\n",
       "      <td>3.0</td>\n",
       "      <td>2.0</td>\n",
       "      <td>2.0</td>\n",
       "      <td>5.0</td>\n",
       "      <td>Improve</td>\n",
       "      <td>I understand.</td>\n",
       "    </tr>\n",
       "    <tr>\n",
       "      <th>733</th>\n",
       "      <td>11/3/2022 23:24:38</td>\n",
       "      <td>19.0</td>\n",
       "      <td>Other streaming service</td>\n",
       "      <td>6.0</td>\n",
       "      <td>Yes</td>\n",
       "      <td>No</td>\n",
       "      <td>Yes</td>\n",
       "      <td>Rap</td>\n",
       "      <td>Yes</td>\n",
       "      <td>No</td>\n",
       "      <td>...</td>\n",
       "      <td>Sometimes</td>\n",
       "      <td>Sometimes</td>\n",
       "      <td>Rarely</td>\n",
       "      <td>Rarely</td>\n",
       "      <td>2.0</td>\n",
       "      <td>2.0</td>\n",
       "      <td>2.0</td>\n",
       "      <td>2.0</td>\n",
       "      <td>Improve</td>\n",
       "      <td>I understand.</td>\n",
       "    </tr>\n",
       "    <tr>\n",
       "      <th>734</th>\n",
       "      <td>11/4/2022 17:31:47</td>\n",
       "      <td>19.0</td>\n",
       "      <td>Spotify</td>\n",
       "      <td>5.0</td>\n",
       "      <td>Yes</td>\n",
       "      <td>Yes</td>\n",
       "      <td>No</td>\n",
       "      <td>Classical</td>\n",
       "      <td>No</td>\n",
       "      <td>No</td>\n",
       "      <td>...</td>\n",
       "      <td>Never</td>\n",
       "      <td>Never</td>\n",
       "      <td>Never</td>\n",
       "      <td>Sometimes</td>\n",
       "      <td>2.0</td>\n",
       "      <td>3.0</td>\n",
       "      <td>2.0</td>\n",
       "      <td>1.0</td>\n",
       "      <td>Improve</td>\n",
       "      <td>I understand.</td>\n",
       "    </tr>\n",
       "    <tr>\n",
       "      <th>735</th>\n",
       "      <td>11/9/2022 1:55:20</td>\n",
       "      <td>29.0</td>\n",
       "      <td>YouTube Music</td>\n",
       "      <td>2.0</td>\n",
       "      <td>Yes</td>\n",
       "      <td>No</td>\n",
       "      <td>No</td>\n",
       "      <td>Hip hop</td>\n",
       "      <td>Yes</td>\n",
       "      <td>Yes</td>\n",
       "      <td>...</td>\n",
       "      <td>Very frequently</td>\n",
       "      <td>Very frequently</td>\n",
       "      <td>Very frequently</td>\n",
       "      <td>Rarely</td>\n",
       "      <td>2.0</td>\n",
       "      <td>2.0</td>\n",
       "      <td>2.0</td>\n",
       "      <td>5.0</td>\n",
       "      <td>Improve</td>\n",
       "      <td>I understand.</td>\n",
       "    </tr>\n",
       "  </tbody>\n",
       "</table>\n",
       "<p>736 rows × 33 columns</p>\n",
       "</div>"
      ],
      "text/plain": [
       "               Timestamp   Age Primary streaming service  Hours per day  \\\n",
       "0     8/27/2022 19:29:02  18.0                   Spotify            3.0   \n",
       "1     8/27/2022 19:57:31  63.0                   Pandora            1.5   \n",
       "2     8/27/2022 21:28:18  18.0                   Spotify            4.0   \n",
       "3     8/27/2022 21:40:40  61.0             YouTube Music            2.5   \n",
       "4     8/27/2022 21:54:47  18.0                   Spotify            4.0   \n",
       "..                   ...   ...                       ...            ...   \n",
       "731  10/30/2022 14:37:28  17.0                   Spotify            2.0   \n",
       "732   11/1/2022 22:26:42  18.0                   Spotify            1.0   \n",
       "733   11/3/2022 23:24:38  19.0   Other streaming service            6.0   \n",
       "734   11/4/2022 17:31:47  19.0                   Spotify            5.0   \n",
       "735    11/9/2022 1:55:20  29.0             YouTube Music            2.0   \n",
       "\n",
       "    While working Instrumentalist Composer         Fav genre Exploratory  \\\n",
       "0             Yes             Yes      Yes             Latin         Yes   \n",
       "1             Yes              No       No              Rock         Yes   \n",
       "2              No              No       No  Video game music          No   \n",
       "3             Yes              No      Yes              Jazz         Yes   \n",
       "4             Yes              No       No               R&B         Yes   \n",
       "..            ...             ...      ...               ...         ...   \n",
       "731           Yes             Yes       No              Rock         Yes   \n",
       "732           Yes             Yes       No               Pop         Yes   \n",
       "733           Yes              No      Yes               Rap         Yes   \n",
       "734           Yes             Yes       No         Classical          No   \n",
       "735           Yes              No       No           Hip hop         Yes   \n",
       "\n",
       "    Foreign languages  ...  Frequency [R&B]  Frequency [Rap] Frequency [Rock]  \\\n",
       "0                 Yes  ...        Sometimes  Very frequently            Never   \n",
       "1                  No  ...        Sometimes           Rarely  Very frequently   \n",
       "2                 Yes  ...            Never           Rarely           Rarely   \n",
       "3                 Yes  ...        Sometimes            Never            Never   \n",
       "4                  No  ...  Very frequently  Very frequently            Never   \n",
       "..                ...  ...              ...              ...              ...   \n",
       "731               Yes  ...            Never           Rarely  Very frequently   \n",
       "732               Yes  ...            Never            Never        Sometimes   \n",
       "733                No  ...        Sometimes        Sometimes           Rarely   \n",
       "734                No  ...            Never            Never            Never   \n",
       "735               Yes  ...  Very frequently  Very frequently  Very frequently   \n",
       "\n",
       "    Frequency [Video game music] Anxiety Depression Insomnia  OCD  \\\n",
       "0                      Sometimes     3.0        0.0      1.0  0.0   \n",
       "1                         Rarely     7.0        2.0      2.0  1.0   \n",
       "2                Very frequently     7.0        7.0     10.0  2.0   \n",
       "3                          Never     9.0        7.0      3.0  3.0   \n",
       "4                         Rarely     7.0        2.0      5.0  9.0   \n",
       "..                           ...     ...        ...      ...  ...   \n",
       "731                        Never     7.0        6.0      0.0  9.0   \n",
       "732                    Sometimes     3.0        2.0      2.0  5.0   \n",
       "733                       Rarely     2.0        2.0      2.0  2.0   \n",
       "734                    Sometimes     2.0        3.0      2.0  1.0   \n",
       "735                       Rarely     2.0        2.0      2.0  5.0   \n",
       "\n",
       "    Music effects    Permissions  \n",
       "0             NaN  I understand.  \n",
       "1             NaN  I understand.  \n",
       "2       No effect  I understand.  \n",
       "3         Improve  I understand.  \n",
       "4         Improve  I understand.  \n",
       "..            ...            ...  \n",
       "731       Improve  I understand.  \n",
       "732       Improve  I understand.  \n",
       "733       Improve  I understand.  \n",
       "734       Improve  I understand.  \n",
       "735       Improve  I understand.  \n",
       "\n",
       "[736 rows x 33 columns]"
      ]
     },
     "execution_count": 4,
     "metadata": {},
     "output_type": "execute_result"
    }
   ],
   "source": [
    "ds"
   ]
  },
  {
   "cell_type": "markdown",
   "metadata": {
    "cell_id": "e9a6feca1fcc44f4be52fdb62334d42d",
    "deepnote_cell_type": "text-cell-p",
    "formattedRanges": [
     {
      "fromCodePoint": 54,
      "marks": {
       "code": true
      },
      "toCodePoint": 60,
      "type": "marks"
     }
    ]
   },
   "source": [
    "Obtain details about the dataset's features using the <code>info()</code> method."
   ]
  },
  {
   "cell_type": "code",
   "execution_count": 5,
   "metadata": {
    "cell_id": "f2fe3dc5c09f4e8fb065014cc7279ca8",
    "deepnote_cell_type": "code",
    "execution_context_id": "bd6ba632-1d63-4e06-aab9-a07fb8971418",
    "execution_millis": 1,
    "execution_start": 1738081274139,
    "source_hash": "8d4e427f"
   },
   "outputs": [
    {
     "name": "stdout",
     "output_type": "stream",
     "text": [
      "<class 'pandas.core.frame.DataFrame'>\n",
      "RangeIndex: 736 entries, 0 to 735\n",
      "Data columns (total 33 columns):\n",
      " #   Column                        Non-Null Count  Dtype  \n",
      "---  ------                        --------------  -----  \n",
      " 0   Timestamp                     736 non-null    object \n",
      " 1   Age                           735 non-null    float64\n",
      " 2   Primary streaming service     735 non-null    object \n",
      " 3   Hours per day                 736 non-null    float64\n",
      " 4   While working                 733 non-null    object \n",
      " 5   Instrumentalist               732 non-null    object \n",
      " 6   Composer                      735 non-null    object \n",
      " 7   Fav genre                     736 non-null    object \n",
      " 8   Exploratory                   736 non-null    object \n",
      " 9   Foreign languages             732 non-null    object \n",
      " 10  BPM                           629 non-null    float64\n",
      " 11  Frequency [Classical]         736 non-null    object \n",
      " 12  Frequency [Country]           736 non-null    object \n",
      " 13  Frequency [EDM]               736 non-null    object \n",
      " 14  Frequency [Folk]              736 non-null    object \n",
      " 15  Frequency [Gospel]            736 non-null    object \n",
      " 16  Frequency [Hip hop]           736 non-null    object \n",
      " 17  Frequency [Jazz]              736 non-null    object \n",
      " 18  Frequency [K pop]             736 non-null    object \n",
      " 19  Frequency [Latin]             736 non-null    object \n",
      " 20  Frequency [Lofi]              736 non-null    object \n",
      " 21  Frequency [Metal]             736 non-null    object \n",
      " 22  Frequency [Pop]               736 non-null    object \n",
      " 23  Frequency [R&B]               736 non-null    object \n",
      " 24  Frequency [Rap]               736 non-null    object \n",
      " 25  Frequency [Rock]              736 non-null    object \n",
      " 26  Frequency [Video game music]  736 non-null    object \n",
      " 27  Anxiety                       736 non-null    float64\n",
      " 28  Depression                    736 non-null    float64\n",
      " 29  Insomnia                      736 non-null    float64\n",
      " 30  OCD                           736 non-null    float64\n",
      " 31  Music effects                 728 non-null    object \n",
      " 32  Permissions                   736 non-null    object \n",
      "dtypes: float64(7), object(26)\n",
      "memory usage: 189.9+ KB\n"
     ]
    }
   ],
   "source": [
    "ds.info()"
   ]
  },
  {
   "cell_type": "markdown",
   "metadata": {
    "cell_id": "f10db4c691e44121ba9d55faf518ee5f",
    "deepnote_cell_type": "text-cell-p",
    "formattedRanges": [
     {
      "fromCodePoint": 24,
      "marks": {
       "bold": true
      },
      "toCodePoint": 37,
      "type": "marks"
     }
    ]
   },
   "source": [
    "Analyze the frequency distribution of unique values in each column to detect imbalances, outliers, or preprocessing needs."
   ]
  },
  {
   "cell_type": "code",
   "execution_count": 6,
   "metadata": {
    "cell_id": "ad387cce67324c6894840c70c58e057e",
    "deepnote_cell_type": "code",
    "execution_context_id": "bd6ba632-1d63-4e06-aab9-a07fb8971418",
    "execution_millis": 0,
    "execution_start": 1738081274188,
    "source_hash": "a3cdb364"
   },
   "outputs": [
    {
     "name": "stdout",
     "output_type": "stream",
     "text": [
      "8/28/2022 16:15:08    2\n",
      "9/1/2022 18:38:46     1\n",
      "9/1/2022 19:08:55     1\n",
      "9/1/2022 19:09:32     1\n",
      "9/1/2022 19:36:54     1\n",
      "                     ..\n",
      "8/28/2022 23:34:37    1\n",
      "8/28/2022 23:40:54    1\n",
      "8/28/2022 23:42:24    1\n",
      "8/28/2022 23:47:13    1\n",
      "8/28/2022 23:04:08    1\n",
      "Name: Timestamp, Length: 735, dtype: int64\n",
      "--------------------------------------------------\n",
      "18.0    85\n",
      "19.0    61\n",
      "17.0    59\n",
      "21.0    52\n",
      "16.0    44\n",
      "        ..\n",
      "80.0     1\n",
      "50.0     1\n",
      "68.0     1\n",
      "46.0     1\n",
      "89.0     1\n",
      "Name: Age, Length: 61, dtype: int64\n",
      "--------------------------------------------------\n",
      "Spotify                              458\n",
      "YouTube Music                         94\n",
      "I do not use a streaming service.     71\n",
      "Apple Music                           51\n",
      "Other streaming service               50\n",
      "Pandora                               11\n",
      "Name: Primary streaming service, dtype: int64\n",
      "--------------------------------------------------\n",
      "2.00     173\n",
      "3.00     120\n",
      "1.00     117\n",
      "4.00      83\n",
      "5.00      54\n",
      "6.00      47\n",
      "8.00      29\n",
      "10.00     20\n",
      "0.50      20\n",
      "1.50      17\n",
      "7.00      15\n",
      "12.00      9\n",
      "2.50       6\n",
      "0.00       6\n",
      "24.00      3\n",
      "0.25       3\n",
      "9.00       3\n",
      "15.00      2\n",
      "0.70       1\n",
      "4.50       1\n",
      "20.00      1\n",
      "16.00      1\n",
      "14.00      1\n",
      "13.00      1\n",
      "0.10       1\n",
      "11.00      1\n",
      "18.00      1\n",
      "Name: Hours per day, dtype: int64\n",
      "--------------------------------------------------\n",
      "Yes    579\n",
      "No     154\n",
      "Name: While working, dtype: int64\n",
      "--------------------------------------------------\n",
      "No     497\n",
      "Yes    235\n",
      "Name: Instrumentalist, dtype: int64\n",
      "--------------------------------------------------\n",
      "No     609\n",
      "Yes    126\n",
      "Name: Composer, dtype: int64\n",
      "--------------------------------------------------\n",
      "Rock                188\n",
      "Pop                 114\n",
      "Metal                88\n",
      "Classical            53\n",
      "Video game music     44\n",
      "EDM                  37\n",
      "Hip hop              35\n",
      "R&B                  35\n",
      "Folk                 30\n",
      "K pop                26\n",
      "Country              25\n",
      "Rap                  22\n",
      "Jazz                 20\n",
      "Lofi                 10\n",
      "Gospel                6\n",
      "Latin                 3\n",
      "Name: Fav genre, dtype: int64\n",
      "--------------------------------------------------\n",
      "Yes    525\n",
      "No     211\n",
      "Name: Exploratory, dtype: int64\n",
      "--------------------------------------------------\n",
      "Yes    404\n",
      "No     328\n",
      "Name: Foreign languages, dtype: int64\n",
      "--------------------------------------------------\n",
      "120.0          45\n",
      "140.0          25\n",
      "150.0          18\n",
      "110.0          16\n",
      "105.0          15\n",
      "               ..\n",
      "159.0           1\n",
      "8.0             1\n",
      "999999999.0     1\n",
      "153.0           1\n",
      "168.0           1\n",
      "Name: BPM, Length: 135, dtype: int64\n",
      "--------------------------------------------------\n",
      "Rarely             259\n",
      "Sometimes          200\n",
      "Never              169\n",
      "Very frequently    108\n",
      "Name: Frequency [Classical], dtype: int64\n",
      "--------------------------------------------------\n",
      "Never              343\n",
      "Rarely             233\n",
      "Sometimes          111\n",
      "Very frequently     49\n",
      "Name: Frequency [Country], dtype: int64\n",
      "--------------------------------------------------\n",
      "Never              307\n",
      "Rarely             194\n",
      "Sometimes          146\n",
      "Very frequently     89\n",
      "Name: Frequency [EDM], dtype: int64\n",
      "--------------------------------------------------\n",
      "Never              292\n",
      "Rarely             221\n",
      "Sometimes          145\n",
      "Very frequently     78\n",
      "Name: Frequency [Folk], dtype: int64\n",
      "--------------------------------------------------\n",
      "Never              535\n",
      "Rarely             135\n",
      "Sometimes           52\n",
      "Very frequently     14\n",
      "Name: Frequency [Gospel], dtype: int64\n",
      "--------------------------------------------------\n",
      "Sometimes          218\n",
      "Rarely             214\n",
      "Never              181\n",
      "Very frequently    123\n",
      "Name: Frequency [Hip hop], dtype: int64\n",
      "--------------------------------------------------\n",
      "Never              261\n",
      "Rarely             247\n",
      "Sometimes          175\n",
      "Very frequently     53\n",
      "Name: Frequency [Jazz], dtype: int64\n",
      "--------------------------------------------------\n",
      "Never              416\n",
      "Rarely             176\n",
      "Very frequently     77\n",
      "Sometimes           67\n",
      "Name: Frequency [K pop], dtype: int64\n",
      "--------------------------------------------------\n",
      "Never              443\n",
      "Rarely             172\n",
      "Sometimes           88\n",
      "Very frequently     33\n",
      "Name: Frequency [Latin], dtype: int64\n",
      "--------------------------------------------------\n",
      "Never              280\n",
      "Rarely             211\n",
      "Sometimes          160\n",
      "Very frequently     85\n",
      "Name: Frequency [Lofi], dtype: int64\n",
      "--------------------------------------------------\n",
      "Never              264\n",
      "Rarely             192\n",
      "Very frequently    146\n",
      "Sometimes          134\n",
      "Name: Frequency [Metal], dtype: int64\n",
      "--------------------------------------------------\n",
      "Very frequently    277\n",
      "Sometimes          261\n",
      "Rarely             142\n",
      "Never               56\n",
      "Name: Frequency [Pop], dtype: int64\n",
      "--------------------------------------------------\n",
      "Never              225\n",
      "Rarely             211\n",
      "Sometimes          184\n",
      "Very frequently    116\n",
      "Name: Frequency [R&B], dtype: int64\n",
      "--------------------------------------------------\n",
      "Rarely             215\n",
      "Never              200\n",
      "Sometimes          195\n",
      "Very frequently    126\n",
      "Name: Frequency [Rap], dtype: int64\n",
      "--------------------------------------------------\n",
      "Very frequently    330\n",
      "Sometimes          219\n",
      "Rarely              96\n",
      "Never               91\n",
      "Name: Frequency [Rock], dtype: int64\n",
      "--------------------------------------------------\n",
      "Never              236\n",
      "Rarely             197\n",
      "Sometimes          186\n",
      "Very frequently    117\n",
      "Name: Frequency [Video game music], dtype: int64\n",
      "--------------------------------------------------\n",
      "7.0     122\n",
      "8.0     115\n",
      "6.0      83\n",
      "3.0      69\n",
      "10.0     67\n",
      "5.0      59\n",
      "9.0      56\n",
      "4.0      56\n",
      "2.0      44\n",
      "0.0      35\n",
      "1.0      29\n",
      "7.5       1\n",
      "Name: Anxiety, dtype: int64\n",
      "--------------------------------------------------\n",
      "7.0     96\n",
      "2.0     93\n",
      "6.0     88\n",
      "0.0     84\n",
      "8.0     77\n",
      "3.0     59\n",
      "4.0     58\n",
      "5.0     56\n",
      "10.0    45\n",
      "1.0     40\n",
      "9.0     38\n",
      "3.5      2\n",
      "Name: Depression, dtype: int64\n",
      "--------------------------------------------------\n",
      "0.0     149\n",
      "2.0      88\n",
      "1.0      82\n",
      "3.0      68\n",
      "6.0      62\n",
      "7.0      59\n",
      "4.0      59\n",
      "5.0      58\n",
      "8.0      49\n",
      "10.0     34\n",
      "9.0      27\n",
      "3.5       1\n",
      "Name: Insomnia, dtype: int64\n",
      "--------------------------------------------------\n",
      "0.0     248\n",
      "2.0      96\n",
      "1.0      95\n",
      "3.0      64\n",
      "5.0      54\n",
      "4.0      48\n",
      "7.0      34\n",
      "6.0      33\n",
      "8.0      28\n",
      "10.0     20\n",
      "9.0      14\n",
      "8.5       1\n",
      "5.5       1\n",
      "Name: OCD, dtype: int64\n",
      "--------------------------------------------------\n",
      "Improve      542\n",
      "No effect    169\n",
      "Worsen        17\n",
      "Name: Music effects, dtype: int64\n",
      "--------------------------------------------------\n",
      "I understand.    736\n",
      "Name: Permissions, dtype: int64\n",
      "--------------------------------------------------\n"
     ]
    }
   ],
   "source": [
    "for column in ds.columns:\n",
    "    print(ds[column].value_counts())\n",
    "    print('-'*50)"
   ]
  },
  {
   "cell_type": "markdown",
   "metadata": {},
   "source": [
    "The dataset comprises a combination of numerical and categorical features. Variables, such as 'Age' and mental health scores ('Anxiety', 'Depression', etc.), reveal distinct distributions; categorical features, including 'Primary streaming service' and genre frequency, demonstrate imbalances, with certain categories, like Spotify, showing dominance."
   ]
  },
  {
   "cell_type": "markdown",
   "metadata": {
    "cell_id": "d4ff5ad2048348bfbe4a4db90ba9a510",
    "deepnote_cell_type": "text-cell-h2",
    "formattedRanges": []
   },
   "source": [
    "## Missing Values"
   ]
  },
  {
   "cell_type": "markdown",
   "metadata": {},
   "source": [
    "Calculate the total count and percentage of missing values for each column."
   ]
  },
  {
   "cell_type": "code",
   "execution_count": 7,
   "metadata": {
    "cell_id": "c5b4ebdbe6cd4f2880c5a95083342471",
    "deepnote_cell_type": "code",
    "execution_context_id": "bd6ba632-1d63-4e06-aab9-a07fb8971418",
    "execution_millis": 1,
    "execution_start": 1738081274247,
    "source_hash": "77ad129f"
   },
   "outputs": [
    {
     "name": "stdout",
     "output_type": "stream",
     "text": [
      "                              Missing Values  Percentage (%)\n",
      "Timestamp                                  0        0.000000\n",
      "Age                                        1        0.135870\n",
      "Primary streaming service                  1        0.135870\n",
      "Hours per day                              0        0.000000\n",
      "While working                              3        0.407609\n",
      "Instrumentalist                            4        0.543478\n",
      "Composer                                   1        0.135870\n",
      "Fav genre                                  0        0.000000\n",
      "Exploratory                                0        0.000000\n",
      "Foreign languages                          4        0.543478\n",
      "BPM                                      107       14.538043\n",
      "Frequency [Classical]                      0        0.000000\n",
      "Frequency [Country]                        0        0.000000\n",
      "Frequency [EDM]                            0        0.000000\n",
      "Frequency [Folk]                           0        0.000000\n",
      "Frequency [Gospel]                         0        0.000000\n",
      "Frequency [Hip hop]                        0        0.000000\n",
      "Frequency [Jazz]                           0        0.000000\n",
      "Frequency [K pop]                          0        0.000000\n",
      "Frequency [Latin]                          0        0.000000\n",
      "Frequency [Lofi]                           0        0.000000\n",
      "Frequency [Metal]                          0        0.000000\n",
      "Frequency [Pop]                            0        0.000000\n",
      "Frequency [R&B]                            0        0.000000\n",
      "Frequency [Rap]                            0        0.000000\n",
      "Frequency [Rock]                           0        0.000000\n",
      "Frequency [Video game music]               0        0.000000\n",
      "Anxiety                                    0        0.000000\n",
      "Depression                                 0        0.000000\n",
      "Insomnia                                   0        0.000000\n",
      "OCD                                        0        0.000000\n",
      "Music effects                              8        1.086957\n",
      "Permissions                                0        0.000000\n"
     ]
    }
   ],
   "source": [
    "missing_data= pd.DataFrame({\n",
    "    'Missing Values': ds.isnull().sum(axis=0),\n",
    "    'Percentage (%)': (ds.isnull().sum(axis=0) / ds.shape[0]) * 100\n",
    "})\n",
    "\n",
    "print(missing_data)"
   ]
  },
  {
   "cell_type": "markdown",
   "metadata": {},
   "source": [
    "Visualize the distribution of missing values in the dataset using the <code>missingno.matrix</code> method."
   ]
  },
  {
   "cell_type": "code",
   "execution_count": 8,
   "metadata": {
    "cell_id": "7c0575e1d6c54342b1cb8a421909c2e3",
    "deepnote_cell_type": "code",
    "execution_context_id": "bd6ba632-1d63-4e06-aab9-a07fb8971418",
    "execution_millis": 282,
    "execution_start": 1738081274299,
    "source_hash": "5140862e"
   },
   "outputs": [
    {
     "data": {
      "text/plain": [
       "<Axes: >"
      ]
     },
     "execution_count": 8,
     "metadata": {},
     "output_type": "execute_result"
    },
    {
     "data": {
      "image/png": "[encoded data removed]",
      "text/plain": [
       "<Figure size 2500x1000 with 2 Axes>"
      ]
     },
     "metadata": {
      "image/png": {
       "height": 1074,
       "width": 2044
      }
     },
     "output_type": "display_data"
    }
   ],
   "source": [
    "msno.matrix(ds)"
   ]
  },
  {
   "cell_type": "markdown",
   "metadata": {},
   "source": [
    "In this dataset, the proportion of missing values is minimal and unlikely to significantly affect analysis. The *BPM* column has the highest number of missing values and may require targeted handling"
   ]
  },
  {
   "cell_type": "markdown",
   "metadata": {
    "cell_id": "3e8a13920627438fb76c60c44a139613",
    "deepnote_cell_type": "text-cell-h2",
    "formattedRanges": []
   },
   "source": [
    "## Target Balance"
   ]
  },
  {
   "cell_type": "markdown",
   "metadata": {},
   "source": [
    "To evaluate the balance of the target column, *Anxiety*, the first plot shows a histogram of the raw data, ranging from 0 to 10. This visualization provides an overview of the overall distribution and helps justify the selection of a threshold. Fixing the threshold at 5, the second plot illustrates the classification into significant (≥5) and non-significant (<5) cases, providing a clearer understanding of how the data is divided based on this criterion."
   ]
  },
  {
   "cell_type": "code",
   "execution_count": 9,
   "metadata": {
    "cell_id": "cd54c6189a9a48ae871f58c983b93295",
    "deepnote_cell_type": "code",
    "execution_context_id": "bd6ba632-1d63-4e06-aab9-a07fb8971418",
    "execution_millis": 607,
    "execution_start": 1738081275336,
    "source_hash": "166eb185"
   },
   "outputs": [
    {
     "data": {
      "image/png": "[encoded data removed]",
      "text/plain": [
       "<Figure size 1600x600 with 2 Axes>"
      ]
     },
     "metadata": {
      "image/png": {
       "height": 590,
       "width": 1590
      }
     },
     "output_type": "display_data"
    }
   ],
   "source": [
    "threshold = 5\n",
    "\n",
    "# Calculate counts for significant and non-significant cases\n",
    "counts = [\n",
    "    (ds['Anxiety'] < threshold).sum(),  # Not Significant\n",
    "    (ds['Anxiety'] >= threshold).sum()  # Significant\n",
    "]\n",
    "\n",
    "# Create a DataFrame for easier manipulation and plotting\n",
    "counts_df = pd.DataFrame({\n",
    "    \"Category\": [\"Not Significant (<5)\", \"Significant (>=5)\"], \n",
    "    \"Frequency\": counts\n",
    "})\n",
    "\n",
    "fig, axes = plt.subplots(1, 2, figsize=(16, 6))\n",
    "\n",
    "# Plot 1: Distribution of raw data\n",
    "sns.histplot(\n",
    "    ds['Anxiety'].dropna(), bins=10, kde=True, color='skyblue', ax=axes[0]\n",
    ")\n",
    "axes[0].set_title('Distribution of Anxiety (Raw Data)', fontsize=14)\n",
    "axes[0].set_xlabel('Value (0-10)', fontsize=12)\n",
    "axes[0].set_ylabel('Frequency', fontsize=12)\n",
    "\n",
    "# Plot 2: Significant vs Non-Significant Cases\n",
    "sns.barplot(\n",
    "    x=\"Category\", y=\"Frequency\", data=counts_df, palette=[\"green\", \"red\"], ax=axes[1]\n",
    ")\n",
    "axes[1].set_title('Significant vs Non-Significant Cases (Anxiety)', fontsize=14)\n",
    "axes[1].set_xlabel('Category', fontsize=12)\n",
    "axes[1].set_ylabel('Frequency', fontsize=12)\n",
    "\n",
    "# Add labels to the top of bars\n",
    "for container in axes[1].containers:\n",
    "    axes[1].bar_label(container, fmt='%d', fontsize=10, label_type='edge')\n",
    "\n",
    "plt.tight_layout()\n",
    "plt.show()"
   ]
  },
  {
   "cell_type": "markdown",
   "metadata": {},
   "source": [
    "The data reveals a clear imbalance in the *Anxiety* variable, with the significant anxiety class (≥5) being much more prevalent than the non-significant class (<5). This imbalance could introduce model bias, making the model more inclined to predict the majority class. To mitigate this, balancing techniques will be applied during model selection and training. Additionally, performance will be evaluated using metrics tailored for imbalanced datasets, such as recall and F1-score, to ensure robust and fair assessment."
   ]
  },
  {
   "cell_type": "markdown",
   "metadata": {
    "cell_id": "d31ab6820b364c3db5681947c2a8e748",
    "deepnote_cell_type": "text-cell-h2",
    "formattedRanges": []
   },
   "source": [
    "## Correlation heatmap between Anxiety and the other mental health parameters"
   ]
  },
  {
   "cell_type": "markdown",
   "metadata": {},
   "source": [
    "I analyze this correlation heatmap to explore relationships between mental health parameters, aiming to identify potential predictors for *Anxiety* and understand their interdependencies"
   ]
  },
  {
   "cell_type": "code",
   "execution_count": 10,
   "metadata": {
    "cell_id": "b7a1c5a03851460ea79d88964e99565e",
    "deepnote_cell_type": "code",
    "execution_context_id": "bd6ba632-1d63-4e06-aab9-a07fb8971418",
    "execution_millis": 177,
    "execution_start": 1738081275987,
    "source_hash": "62eecd5"
   },
   "outputs": [
    {
     "data": {
      "image/png": "[encoded data removed]",
      "text/plain": [
       "<Figure size 800x600 with 2 Axes>"
      ]
     },
     "metadata": {
      "image/png": {
       "height": 528,
       "width": 645
      }
     },
     "output_type": "display_data"
    }
   ],
   "source": [
    "correlation_matrix = ds[['Anxiety', 'Depression', 'Insomnia', 'OCD']].corr()\n",
    "plt.figure(figsize=(8, 6))\n",
    "sns.heatmap(correlation_matrix, annot=True, cmap='coolwarm', vmin=-1, vmax=1)\n",
    "plt.title('Correlation heatmap')\n",
    "plt.show()"
   ]
  },
  {
   "cell_type": "markdown",
   "metadata": {},
   "source": [
    "The strong correlation between *Anxiety* and *Depression* indicates that Depression is a significant factor in predicting *Anxiety*. While *Insomnia* and *OCD* show weaker correlations with the target, they still provide valuable insights into additional mental health factors that contribute to anxiety levels. By including all these features, the model will be able to capture the complex interplay between the different mental health conditions, leading to a more accurate prediction of anxiety."
   ]
  },
  {
   "cell_type": "markdown",
   "metadata": {
    "cell_id": "5077ec2f5327428fbe2b46acced23d08",
    "deepnote_cell_type": "text-cell-h2",
    "formattedRanges": []
   },
   "source": [
    "## Correlation between Anxiety and the favorite genres "
   ]
  },
  {
   "cell_type": "code",
   "execution_count": 11,
   "metadata": {
    "cell_id": "49e0ca3c376b45689120b28fa1037e6e",
    "deepnote_cell_type": "code",
    "execution_context_id": "bd6ba632-1d63-4e06-aab9-a07fb8971418",
    "execution_millis": 386,
    "execution_start": 1738081276219,
    "source_hash": "c27b44a0"
   },
   "outputs": [
    {
     "data": {
      "image/png": "[encoded data removed]",
      "text/plain": [
       "<Figure size 1800x1000 with 1 Axes>"
      ]
     },
     "metadata": {
      "image/png": {
       "height": 989,
       "width": 1790
      }
     },
     "output_type": "display_data"
    }
   ],
   "source": [
    "plt.figure(figsize=(18, 10))\n",
    "\n",
    "sns.countplot(\n",
    "    data=ds, \n",
    "    x='Fav genre', \n",
    "    hue=np.where(ds['Anxiety'] >= threshold, 'Significant (>=5)', 'Non-Significant (<5)'),  # Dynamically create hue\n",
    "    palette={'Non-Significant (<5)': 'green', 'Significant (>=5)': 'red'}\n",
    ")\n",
    "\n",
    "plt.title('Anxiety Levels by Favorite Genre', fontsize=16)\n",
    "plt.xlabel('Favorite Genre', fontsize=12)\n",
    "plt.ylabel('Count', fontsize=12)\n",
    "plt.xticks(rotation=45, fontsize=10)\n",
    "plt.legend(title='Anxiety Level', fontsize=10)\n",
    "plt.tight_layout()\n",
    "plt.show()"
   ]
  },
  {
   "cell_type": "markdown",
   "metadata": {},
   "source": [
    "From this data visualization, we observe that certain music genres, like Pop and Rap, are strongly associated with higher anxiety levels, while genres such as Latin and Video Game Music show a greater prevalence of non-significant anxiety. This suggests that music preferences may influence or reflect anxiety levels. Given these correlations, favorite music genre can be considered an effective predictor for anxiety."
   ]
  },
  {
   "cell_type": "markdown",
   "metadata": {
    "cell_id": "b7e809202f6b4f4cbce02a9396a063bd",
    "deepnote_cell_type": "text-cell-h1",
    "formattedRanges": []
   },
   "source": [
    "# Data Pre-Processing"
   ]
  },
  {
   "cell_type": "markdown",
   "metadata": {},
   "source": [
    "## Deleting useless features"
   ]
  },
  {
   "cell_type": "markdown",
   "metadata": {},
   "source": [
    "The columns *Timestamp, Primary Streaming Service,* and *Permissions* are dropped from the dataset using the <code>drop</code> method, as they do not contribute meaningful information to the goal of the project."
   ]
  },
  {
   "cell_type": "code",
   "execution_count": 12,
   "metadata": {
    "cell_id": "e9390c193e3d4702af869c97d0c8476b",
    "deepnote_cell_type": "code",
    "execution_context_id": "bd6ba632-1d63-4e06-aab9-a07fb8971418",
    "execution_millis": 0,
    "execution_start": 1738081276651,
    "source_hash": "c5c4df84"
   },
   "outputs": [],
   "source": [
    "ds.drop(['Timestamp', 'Primary streaming service', 'Permissions'], axis=1, inplace=True)"
   ]
  },
  {
   "cell_type": "markdown",
   "metadata": {},
   "source": [
    "## Cleaning Column Names for Consistency and Readability"
   ]
  },
  {
   "cell_type": "markdown",
   "metadata": {},
   "source": [
    "Column names are cleaned by replacing special characters such as [, ], and < with underscores (_). This enhances readability, prevents potential errors during data manipulation, and maintains consistent naming conventions."
   ]
  },
  {
   "cell_type": "code",
   "execution_count": 13,
   "metadata": {
    "cell_id": "f8452693b6384e41b52490e353a88223",
    "deepnote_cell_type": "code",
    "execution_context_id": "bd6ba632-1d63-4e06-aab9-a07fb8971418",
    "execution_millis": 1,
    "execution_start": 1738081276703,
    "source_hash": "4a0eaf56"
   },
   "outputs": [
    {
     "name": "stdout",
     "output_type": "stream",
     "text": [
      "Index(['Age', 'Hours per day', 'While working', 'Instrumentalist', 'Composer',\n",
      "       'Fav genre', 'Exploratory', 'Foreign languages', 'BPM',\n",
      "       'Frequency _Classical_', 'Frequency _Country_', 'Frequency _EDM_',\n",
      "       'Frequency _Folk_', 'Frequency _Gospel_', 'Frequency _Hip hop_',\n",
      "       'Frequency _Jazz_', 'Frequency _K pop_', 'Frequency _Latin_',\n",
      "       'Frequency _Lofi_', 'Frequency _Metal_', 'Frequency _Pop_',\n",
      "       'Frequency _R&B_', 'Frequency _Rap_', 'Frequency _Rock_',\n",
      "       'Frequency _Video game music_', 'Anxiety', 'Depression', 'Insomnia',\n",
      "       'OCD', 'Music effects'],\n",
      "      dtype='object')\n"
     ]
    }
   ],
   "source": [
    "ds.columns = ds.columns.str.replace(r'[\\[\\]<]', '_', regex=True)\n",
    "print(ds.columns)"
   ]
  },
  {
   "cell_type": "markdown",
   "metadata": {
    "cell_id": "91d10661fbc4436590892cc0e7ddbe77",
    "deepnote_cell_type": "text-cell-h2",
    "formattedRanges": []
   },
   "source": [
    "## Outlier cleaning"
   ]
  },
  {
   "cell_type": "markdown",
   "metadata": {
    "cell_id": "80fdde077e4744a2b2809d303a013235",
    "deepnote_cell_type": "text-cell-p",
    "formattedRanges": []
   },
   "source": [
    "BPM values less than 20 and greater than 250 are considered unrealistic for music and are removed.\n"
   ]
  },
  {
   "cell_type": "code",
   "execution_count": 14,
   "metadata": {
    "cell_id": "ca41b9f95b124b01919f49525a8aaef5",
    "deepnote_cell_type": "code",
    "execution_context_id": "bd6ba632-1d63-4e06-aab9-a07fb8971418",
    "execution_millis": 1,
    "execution_start": 1738081276759,
    "source_hash": "9eefd758"
   },
   "outputs": [
    {
     "name": "stdout",
     "output_type": "stream",
     "text": [
      "Number of BPM values below 20: 5\n",
      "Number of BPM values above 250: 2\n"
     ]
    }
   ],
   "source": [
    "# Count and display the number of unrealistic BPM values\n",
    "bpm_below_20 = ds[ds['BPM'] < 20].shape[0]\n",
    "bpm_above_250 = ds[ds['BPM'] > 250].shape[0]\n",
    "\n",
    "print(f\"Number of BPM values below 20: {bpm_below_20}\")\n",
    "print(f\"Number of BPM values above 250: {bpm_above_250}\")\n",
    "\n",
    "# Remove unrealistic BPM values\n",
    "ds.drop(ds[(ds['BPM'] < 20) | (ds['BPM'] > 250)].index, inplace=True)"
   ]
  },
  {
   "cell_type": "markdown",
   "metadata": {
    "cell_id": "9ad5bc8f63504f4ca0f49424579fde36",
    "deepnote_cell_type": "text-cell-h2",
    "formattedRanges": []
   },
   "source": [
    "## Transformation of the Target Column"
   ]
  },
  {
   "cell_type": "markdown",
   "metadata": {},
   "source": [
    "The target column is now transformed into binary format using te threshold of 5.  This step classifies values greater than or equal to 5 as significant (1) and values below 5 as not significant (0)."
   ]
  },
  {
   "cell_type": "code",
   "execution_count": 15,
   "metadata": {
    "cell_id": "44fa53f4700a44d3ab0c89ffc5ddbc9b",
    "deepnote_cell_type": "code",
    "execution_context_id": "bd6ba632-1d63-4e06-aab9-a07fb8971418",
    "execution_millis": 1,
    "execution_start": 1738081276811,
    "source_hash": "792eb9e7"
   },
   "outputs": [
    {
     "name": "stdout",
     "output_type": "stream",
     "text": [
      "Transformed 'Anxiety' column into binary format:\n",
      "0    0\n",
      "1    1\n",
      "2    1\n",
      "3    1\n",
      "4    1\n",
      "Name: Anxiety, dtype: int64\n",
      "Distribution for 'Anxiety':\n",
      "Class 1: 498 instances (68.31%)\n",
      "Class 0: 231 instances (31.69%)\n",
      "--------------------------------------------------\n"
     ]
    }
   ],
   "source": [
    "# Transform the target column 'Anxiety' into binary format: values >=5 as significant (1) and <5 as not significant (0)\n",
    "ds['Anxiety'] = (ds['Anxiety'] >= threshold).astype(int)\n",
    "\n",
    "print(\"Transformed 'Anxiety' column into binary format:\")\n",
    "print(ds['Anxiety'].head())\n",
    "\n",
    "print(\"Distribution for 'Anxiety':\")\n",
    "counts = ds['Anxiety'].value_counts()\n",
    "percentages = ds['Anxiety'].value_counts(normalize=True) * 100\n",
    "\n",
    "for value in counts.index:\n",
    "    print(f\"Class {value}: {counts[value]} instances ({percentages[value]:.2f}%)\")\n",
    "\n",
    "print('-' * 50)\n"
   ]
  },
  {
   "cell_type": "markdown",
   "metadata": {
    "cell_id": "665c9616cc194f08bda042c6425952cd",
    "deepnote_cell_type": "text-cell-h2",
    "formattedRanges": []
   },
   "source": [
    "## Data Transformation Pipeline"
   ]
  },
  {
   "attachments": {
    "image.png": {
     "image/png": "[encoded data removed]"
    }
   },
   "cell_type": "markdown",
   "metadata": {},
   "source": [
    "![image.png](attachment:image.png)"
   ]
  },
  {
   "cell_type": "markdown",
   "metadata": {
    "cell_id": "f2e6268fd81d4df9acc70335ad4ac71f",
    "deepnote_cell_type": "text-cell-h3",
    "formattedRanges": []
   },
   "source": [
    "### Custom transfomer for BPM"
   ]
  },
  {
   "cell_type": "markdown",
   "metadata": {},
   "source": [
    "The custom transformer imputes missing values in the BPM column based on the average BPM for each preferred music genre (Fav genre). If a genre does not have sufficient data to compute an average, the mean strategy is applied.\n",
    "\n",
    "This method improves data transformation by imputing missing BPM values based on genre-specific averages, addressing the column with the most missing data while preserving dataset structure and minimizing noise."
   ]
  },
  {
   "cell_type": "code",
   "execution_count": 16,
   "metadata": {
    "cell_id": "90be67f17abe40bb960a74161d440e00",
    "deepnote_cell_type": "code",
    "execution_context_id": "bd6ba632-1d63-4e06-aab9-a07fb8971418",
    "execution_millis": 0,
    "execution_start": 1738081276863,
    "source_hash": "f3fecd47"
   },
   "outputs": [],
   "source": [
    "class BPMImputer(BaseEstimator, TransformerMixin):\n",
    "    def __init__(self, fallback='global_mean'):\n",
    "\n",
    "        self.fallback = fallback\n",
    "        self.genre_means_ = None\n",
    "        self.global_mean_ = None\n",
    "\n",
    "    def fit(self, X, y=None):\n",
    "        # Calculate the mean BPM for each music genre\n",
    "        self.genre_means_ = X.groupby('Fav genre')['BPM'].mean()\n",
    "        \n",
    "        # Calculate the global mean BPM as a fallback\n",
    "        self.global_mean_ = X['BPM'].mean()\n",
    "        return self\n",
    "\n",
    "    def transform(self, X, y=None):\n",
    "        X = X.copy()\n",
    "        \n",
    "        # Replace missing BPM values with the mean of the corresponding genre\n",
    "        for genre, mean in self.genre_means_.items():\n",
    "            mask = (X['Fav genre'] == genre) & (X['BPM'].isnull())\n",
    "            X.loc[mask, 'BPM'] = mean\n",
    "\n",
    "        # Handle genres without sufficient BPM data\n",
    "        if self.fallback == 'global_mean':\n",
    "            X['BPM'] = X['BPM'].fillna(self.global_mean_)\n",
    "        \n",
    "        return X[['BPM']]  # Return only the `BPM` column\n",
    "    \n",
    "    def get_feature_names_out(self, input_features=None):\n",
    "        # Return the column name as the output feature name\n",
    "        return ['BPM']"
   ]
  },
  {
   "cell_type": "markdown",
   "metadata": {
    "cell_id": "94dc4e52aa9f412a804c103f80e5b318",
    "deepnote_cell_type": "text-cell-h3",
    "formattedRanges": []
   },
   "source": [
    "### Pipeline for numerical data"
   ]
  },
  {
   "cell_type": "markdown",
   "metadata": {},
   "source": [
    "1. Feature: *BPM*\n",
    "- <code>BPMImputer</code>: Missing values are imputed using the custom transformer.\n",
    "- <code>MinMaxScaler</code> : All features are scaled to a range of [0, 1] to normalize their values."
   ]
  },
  {
   "cell_type": "code",
   "execution_count": 17,
   "metadata": {
    "cell_id": "0ce47c1cb5f64a9ab59bf7894f723fcb",
    "deepnote_cell_type": "code",
    "execution_context_id": "bd6ba632-1d63-4e06-aab9-a07fb8971418",
    "execution_millis": 0,
    "execution_start": 1738081276915,
    "source_hash": "1562483a"
   },
   "outputs": [],
   "source": [
    "pipeline_BPM = Pipeline(steps=[\n",
    "    ('imputer', BPMImputer(fallback='global_mean')),\n",
    "    ('scaler', MinMaxScaler())\n",
    "])"
   ]
  },
  {
   "cell_type": "markdown",
   "metadata": {},
   "source": [
    "2. Features: *Depression, Insomnia, OCD, Hours per day, Age*\n",
    "- <code>SimpleImputer</code>: Missing values in these numerical features are imputed using the mean strategy.\n",
    "- <code>MinMaxScaler</code>"
   ]
  },
  {
   "cell_type": "code",
   "execution_count": 18,
   "metadata": {
    "cell_id": "cbf4c1a2eb5d456b8fa43a1e894823b6",
    "deepnote_cell_type": "code",
    "execution_context_id": "bd6ba632-1d63-4e06-aab9-a07fb8971418",
    "execution_millis": 1,
    "execution_start": 1738081276963,
    "source_hash": "cb0d3916"
   },
   "outputs": [],
   "source": [
    "pipeline_numerical = Pipeline(steps=[\n",
    "    ('null', SimpleImputer(strategy='mean')),\n",
    "    ('min_max', MinMaxScaler())  # Scale to [0, 1]\n",
    "])\n",
    "\n",
    "numerical_columns = ['Depression', 'Insomnia', 'OCD','Age', 'Hours per day']"
   ]
  },
  {
   "cell_type": "markdown",
   "metadata": {
    "cell_id": "3c8cbb0d97234664a2260d5d3fb8441b",
    "deepnote_cell_type": "text-cell-h3",
    "formattedRanges": []
   },
   "source": [
    "### Pipeline for categorical data"
   ]
  },
  {
   "cell_type": "markdown",
   "metadata": {},
   "source": [
    "1. Features: *While working, Instrumentalist, Composer, Music effect, Foreign languages, Exploratory*, and *Frequencies*\n",
    "- <code>SimpleImputer</code>: Missing values are imputed using the most frequent value for each feature.\n",
    "- <code>OrdinalEncoder</code>: Encodes ordinal categories into numerical values."
   ]
  },
  {
   "cell_type": "code",
   "execution_count": 19,
   "metadata": {
    "cell_id": "a185c5a1f1204fb28daae64414b81e4d",
    "deepnote_cell_type": "code",
    "execution_context_id": "bd6ba632-1d63-4e06-aab9-a07fb8971418",
    "execution_millis": 0,
    "execution_start": 1738081277015,
    "source_hash": "cff8fce6"
   },
   "outputs": [],
   "source": [
    "pipeline_categorical = Pipeline(steps=[\n",
    "    ('null', SimpleImputer(strategy='most_frequent')),\n",
    "    ('ordinal_encoder', OrdinalEncoder())\n",
    "])\n",
    "\n",
    "categorical_columns = ['While working', 'Instrumentalist', 'Composer', 'Foreign languages', 'Exploratory',\n",
    "       'Frequency _Classical_', 'Frequency _Country_', 'Frequency _EDM_',\n",
    "       'Frequency _Folk_', 'Frequency _Gospel_', 'Frequency _Hip hop_',\n",
    "       'Frequency _Jazz_', 'Frequency _K pop_', 'Frequency _Latin_',\n",
    "       'Frequency _Lofi_', 'Frequency _Metal_', 'Frequency _Pop_',\n",
    "       'Frequency _R&B_', 'Frequency _Rap_', 'Frequency _Rock_',\n",
    "       'Frequency _Video game music_', 'Music effects']"
   ]
  },
  {
   "cell_type": "markdown",
   "metadata": {},
   "source": [
    "2. Feature: *Fav genre*\n",
    "- <code>SimpleImputer</code>: Missing values are imputed using the most frequent value.\n",
    "- <code>OneHotEncoder</code>: Converts the categorical feature into binary indicators for each genre.\n",
    "- <code>MaxAbsScaler</code>: Scales the resulting one-hot encoded values to normalize sparse binary features."
   ]
  },
  {
   "cell_type": "code",
   "execution_count": 20,
   "metadata": {
    "cell_id": "3a1d1bdc82e94aa7acfd2fccb2fc4bec",
    "deepnote_cell_type": "code",
    "execution_context_id": "bd6ba632-1d63-4e06-aab9-a07fb8971418",
    "execution_millis": 0,
    "execution_start": 1738081277067,
    "source_hash": "16211592"
   },
   "outputs": [],
   "source": [
    "pipeline_fav_genre = Pipeline(steps=[\n",
    "    ('null', SimpleImputer(strategy='most_frequent')),\n",
    "    ('one_hot_encoder', OneHotEncoder(categories='auto', drop='first', handle_unknown='ignore')),\n",
    "    ('max_abs', MaxAbsScaler())\n",
    "])"
   ]
  },
  {
   "cell_type": "markdown",
   "metadata": {
    "cell_id": "593d4faefea34d9083a457d1525ba119",
    "deepnote_cell_type": "text-cell-h3",
    "formattedRanges": []
   },
   "source": [
    "### Definition of the final ColumnTransformer"
   ]
  },
  {
   "cell_type": "markdown",
   "metadata": {},
   "source": [
    "I use the <code>ColumnTransformer</code> to efficiently aggregate the previously defined preprocessing pipelines, ensuring a coherent and streamlined transformation process."
   ]
  },
  {
   "cell_type": "code",
   "execution_count": 21,
   "metadata": {
    "cell_id": "59dc1eccba774b5083a27baaebcd7d0c",
    "deepnote_cell_type": "code",
    "execution_context_id": "bd6ba632-1d63-4e06-aab9-a07fb8971418",
    "execution_millis": 0,
    "execution_start": 1738081277115,
    "source_hash": "1909e12d"
   },
   "outputs": [],
   "source": [
    "data_transformer = ColumnTransformer(transformers=[\n",
    "    ('numerical', pipeline_numerical, numerical_columns),\n",
    "    ('bpm', pipeline_BPM, ['BPM', 'Fav genre']),\n",
    "    ('categorical', pipeline_categorical, categorical_columns),\n",
    "    ('fav_genre', pipeline_fav_genre, ['Fav genre'])\n",
    "\n",
    "],\n",
    "verbose_feature_names_out=False, #Not include original column names and transformation details in the feature names\n",
    "sparse_threshold=0,              #Represent the transformed data in sparse format, regardless of its density\n",
    "remainder='passthrough'          #All the columns that are not specified above are left unmodified\n",
    ")"
   ]
  },
  {
   "cell_type": "markdown",
   "metadata": {
    "cell_id": "35a3bb38f0004fb8904306ca5ce7b71c",
    "deepnote_cell_type": "text-cell-h2",
    "formattedRanges": []
   },
   "source": [
    "## Training and test sets"
   ]
  },
  {
   "cell_type": "markdown",
   "metadata": {},
   "source": [
    "Split the dataset into training and test sets using the <code>train_test_split()</code> method, allocating 80% of the data for training and 20% for testing (<code>test_size=0.2</code>).\n",
    "This approach ensures the test set represents unseen data, enabling a reliable evaluation of the model's performance and generalization capabilities.\n",
    "Stratified sampling is applied to maintain the class distribution in the target variable, preventing imbalances that could negatively affect model training and evaluation"
   ]
  },
  {
   "cell_type": "code",
   "execution_count": 22,
   "metadata": {
    "cell_id": "4f544573bcca471e99bff028306cda37",
    "deepnote_cell_type": "code",
    "execution_context_id": "bd6ba632-1d63-4e06-aab9-a07fb8971418",
    "execution_millis": 0,
    "execution_start": 1738081277163,
    "source_hash": "caa67c95"
   },
   "outputs": [],
   "source": [
    "# Define X (features) and y (target)\n",
    "X = ds.drop(columns='Anxiety')  # Remove 'Anxiety' from X\n",
    "y = ds['Anxiety']  # 'Anxiety' is the binary target variable\n",
    "\n",
    "# Split the dataset into training and test sets\n",
    "X_train, X_test, y_train, y_test = train_test_split(\n",
    "    X,                    # Input data\n",
    "    y,                    # Target variable\n",
    "    test_size=0.2,        # Size of the test set (20%)\n",
    "    stratify=y,           # Ensure the class distribution in y is preserved in both train and test sets\n",
    "    shuffle=True,         # Shuffle the data before splitting\n",
    "    random_state=42       # Ensure reproducibility of the split\n",
    ")"
   ]
  },
  {
   "cell_type": "markdown",
   "metadata": {
    "cell_id": "4af5de02c79e46b982d7c2c39b5f282f",
    "deepnote_cell_type": "text-cell-h3",
    "formattedRanges": []
   },
   "source": [
    "### Data transformation"
   ]
  },
  {
   "cell_type": "markdown",
   "metadata": {},
   "source": [
    " The *ColumnTransformer* is fitted on the training set to learn transformation parameters and then applied to both the training and test sets, ensuring fair evaluation and avoiding data leakage."
   ]
  },
  {
   "cell_type": "code",
   "execution_count": 23,
   "metadata": {
    "cell_id": "deca0db7b71347bc8103937280b3e0f1",
    "deepnote_cell_type": "code",
    "execution_context_id": "bd6ba632-1d63-4e06-aab9-a07fb8971418",
    "execution_millis": 18,
    "execution_start": 1738081277219,
    "source_hash": "72980d50"
   },
   "outputs": [],
   "source": [
    "# Fit the ColumnTransformer on the training set\n",
    "data_transformer.fit(X_train)\n",
    "\n",
    "# Transform the training set\n",
    "X_train_transformed = data_transformer.transform(X_train)\n",
    "\n",
    "# Transform the test set\n",
    "# Use the fitted transformer to ensure the same transformations are applied to the test set\n",
    "X_test_transformed = data_transformer.transform(X_test)"
   ]
  },
  {
   "cell_type": "markdown",
   "metadata": {},
   "source": [
    "The transformed data is converted into a DataFrame for improved readability and easier debugging. Column names are assigned using <code>get_feature_names_out()</code> to provide clear and consistent feature tracking throughout the workflow."
   ]
  },
  {
   "cell_type": "code",
   "execution_count": 24,
   "metadata": {
    "cell_id": "c2ce81362bcc4e6ebb8de4c3b730d376",
    "deepnote_cell_type": "code",
    "execution_context_id": "bd6ba632-1d63-4e06-aab9-a07fb8971418",
    "execution_millis": 0,
    "execution_start": 1738081277287,
    "source_hash": "d67db221"
   },
   "outputs": [],
   "source": [
    "# Convert X_train_transformed to a DataFrame\n",
    "X_train_transformed_df = pd.DataFrame(\n",
    "    X_train_transformed, \n",
    "    columns=data_transformer.get_feature_names_out()\n",
    ")\n",
    "\n",
    "# Convert X_test_transformed to a DataFrame\n",
    "X_test_transformed_df = pd.DataFrame(\n",
    "    X_test_transformed, \n",
    "    columns=data_transformer.get_feature_names_out()\n",
    ")"
   ]
  },
  {
   "cell_type": "markdown",
   "metadata": {
    "cell_id": "75f486ff2dbf45388b9ffdb9395de88a",
    "deepnote_cell_type": "text-cell-p",
    "formattedRanges": [
     {
      "fromCodePoint": 0,
      "marks": {
       "bold": true
      },
      "toCodePoint": 10,
      "type": "marks"
     },
     {
      "fromCodePoint": 35,
      "marks": {
       "bold": true
      },
      "toCodePoint": 51,
      "type": "marks"
     },
     {
      "fromCodePoint": 75,
      "marks": {
       "bold": true
      },
      "toCodePoint": 89,
      "type": "marks"
     }
    ]
   },
   "source": [
    "Verifying the dataset ensures that transformations applied as intended and missing values have been correctly imputed."
   ]
  },
  {
   "cell_type": "code",
   "execution_count": 25,
   "metadata": {
    "cell_id": "206f0772a4ed465883c94a3e98d0d0e3",
    "deepnote_cell_type": "code",
    "execution_context_id": "bd6ba632-1d63-4e06-aab9-a07fb8971418",
    "execution_millis": 1,
    "execution_start": 1738081277351,
    "source_hash": "81f12246"
   },
   "outputs": [
    {
     "name": "stdout",
     "output_type": "stream",
     "text": [
      "Shape of X_train after transformation: (583, 43)\n",
      "Shape of X_test after transformation: (146, 43)\n",
      "Preview of transformed training set:\n",
      "   Depression  Insomnia  OCD       Age  Hours per day    BPM  While working  \\\n",
      "0         0.5       0.3  0.3  0.113924       0.125000  0.475            1.0   \n",
      "1         0.6       0.7  0.5  0.164557       0.166667  0.290            1.0   \n",
      "2         0.3       0.5  0.2  0.113924       0.208333  0.800            1.0   \n",
      "3         0.6       0.8  0.2  0.088608       0.125000  0.500            1.0   \n",
      "4         0.7       0.2  0.1  0.189873       0.208333  0.525            1.0   \n",
      "\n",
      "   Instrumentalist  Composer  Foreign languages  ...  Fav genre_Jazz  \\\n",
      "0              0.0       0.0                1.0  ...             0.0   \n",
      "1              0.0       0.0                1.0  ...             0.0   \n",
      "2              1.0       1.0                1.0  ...             0.0   \n",
      "3              0.0       0.0                1.0  ...             0.0   \n",
      "4              1.0       0.0                0.0  ...             0.0   \n",
      "\n",
      "   Fav genre_K pop  Fav genre_Latin  Fav genre_Lofi  Fav genre_Metal  \\\n",
      "0              0.0              0.0             0.0              0.0   \n",
      "1              0.0              0.0             0.0              0.0   \n",
      "2              0.0              0.0             0.0              1.0   \n",
      "3              0.0              0.0             0.0              0.0   \n",
      "4              0.0              0.0             0.0              0.0   \n",
      "\n",
      "   Fav genre_Pop  Fav genre_R&B  Fav genre_Rap  Fav genre_Rock  \\\n",
      "0            0.0            0.0            1.0             0.0   \n",
      "1            0.0            0.0            0.0             0.0   \n",
      "2            0.0            0.0            0.0             0.0   \n",
      "3            0.0            0.0            0.0             0.0   \n",
      "4            0.0            0.0            0.0             1.0   \n",
      "\n",
      "   Fav genre_Video game music  \n",
      "0                         0.0  \n",
      "1                         0.0  \n",
      "2                         0.0  \n",
      "3                         0.0  \n",
      "4                         0.0  \n",
      "\n",
      "[5 rows x 43 columns]\n",
      "\n",
      "Preview of transformed test set:\n",
      "   Depression  Insomnia   OCD       Age  Hours per day       BPM  \\\n",
      "0        0.80      0.00  0.00  0.202532       0.125000  0.350000   \n",
      "1        0.90      0.60  0.40  0.126582       0.020833  0.650000   \n",
      "2        0.35      0.35  0.55  0.075949       0.125000  0.350000   \n",
      "3        0.10      0.10  0.00  0.088608       0.125000  0.500000   \n",
      "4        0.20      0.10  0.00  0.151899       0.083333  0.483961   \n",
      "\n",
      "   While working  Instrumentalist  Composer  Foreign languages  ...  \\\n",
      "0            1.0              1.0       1.0                1.0  ...   \n",
      "1            0.0              0.0       0.0                1.0  ...   \n",
      "2            0.0              1.0       0.0                1.0  ...   \n",
      "3            1.0              0.0       0.0                1.0  ...   \n",
      "4            1.0              0.0       0.0                0.0  ...   \n",
      "\n",
      "   Fav genre_Jazz  Fav genre_K pop  Fav genre_Latin  Fav genre_Lofi  \\\n",
      "0             1.0              0.0              0.0             0.0   \n",
      "1             0.0              0.0              0.0             0.0   \n",
      "2             0.0              0.0              0.0             0.0   \n",
      "3             0.0              0.0              0.0             0.0   \n",
      "4             0.0              0.0              0.0             0.0   \n",
      "\n",
      "   Fav genre_Metal  Fav genre_Pop  Fav genre_R&B  Fav genre_Rap  \\\n",
      "0              0.0            0.0            0.0            0.0   \n",
      "1              1.0            0.0            0.0            0.0   \n",
      "2              0.0            0.0            0.0            0.0   \n",
      "3              0.0            1.0            0.0            0.0   \n",
      "4              0.0            1.0            0.0            0.0   \n",
      "\n",
      "   Fav genre_Rock  Fav genre_Video game music  \n",
      "0             0.0                         0.0  \n",
      "1             0.0                         0.0  \n",
      "2             1.0                         0.0  \n",
      "3             0.0                         0.0  \n",
      "4             0.0                         0.0  \n",
      "\n",
      "[5 rows x 43 columns]\n"
     ]
    }
   ],
   "source": [
    "# Verify the transformations\n",
    "print(\"Shape of X_train after transformation:\", X_train_transformed_df.shape)\n",
    "print(\"Shape of X_test after transformation:\", X_test_transformed_df.shape)\n",
    "\n",
    "# Preview the transformed datasets\n",
    "print(\"Preview of transformed training set:\")\n",
    "print(X_train_transformed_df.head())\n",
    "print(\"\\nPreview of transformed test set:\")\n",
    "print(X_test_transformed_df.head())"
   ]
  },
  {
   "cell_type": "code",
   "execution_count": 26,
   "metadata": {
    "cell_id": "adf78620d7034062b8f3bb152ef3883d",
    "deepnote_cell_type": "code",
    "execution_context_id": "bd6ba632-1d63-4e06-aab9-a07fb8971418",
    "execution_millis": 1,
    "execution_start": 1738081277399,
    "source_hash": "5bbd55ff"
   },
   "outputs": [
    {
     "name": "stdout",
     "output_type": "stream",
     "text": [
      "Missing values in the transformed training set:\n",
      "Depression                      0\n",
      "Insomnia                        0\n",
      "OCD                             0\n",
      "Age                             0\n",
      "Hours per day                   0\n",
      "BPM                             0\n",
      "While working                   0\n",
      "Instrumentalist                 0\n",
      "Composer                        0\n",
      "Foreign languages               0\n",
      "Exploratory                     0\n",
      "Frequency _Classical_           0\n",
      "Frequency _Country_             0\n",
      "Frequency _EDM_                 0\n",
      "Frequency _Folk_                0\n",
      "Frequency _Gospel_              0\n",
      "Frequency _Hip hop_             0\n",
      "Frequency _Jazz_                0\n",
      "Frequency _K pop_               0\n",
      "Frequency _Latin_               0\n",
      "Frequency _Lofi_                0\n",
      "Frequency _Metal_               0\n",
      "Frequency _Pop_                 0\n",
      "Frequency _R&B_                 0\n",
      "Frequency _Rap_                 0\n",
      "Frequency _Rock_                0\n",
      "Frequency _Video game music_    0\n",
      "Music effects                   0\n",
      "Fav genre_Country               0\n",
      "Fav genre_EDM                   0\n",
      "Fav genre_Folk                  0\n",
      "Fav genre_Gospel                0\n",
      "Fav genre_Hip hop               0\n",
      "Fav genre_Jazz                  0\n",
      "Fav genre_K pop                 0\n",
      "Fav genre_Latin                 0\n",
      "Fav genre_Lofi                  0\n",
      "Fav genre_Metal                 0\n",
      "Fav genre_Pop                   0\n",
      "Fav genre_R&B                   0\n",
      "Fav genre_Rap                   0\n",
      "Fav genre_Rock                  0\n",
      "Fav genre_Video game music      0\n",
      "dtype: int64\n",
      "Missing values in the transformed test set:\n",
      "Depression                      0\n",
      "Insomnia                        0\n",
      "OCD                             0\n",
      "Age                             0\n",
      "Hours per day                   0\n",
      "BPM                             0\n",
      "While working                   0\n",
      "Instrumentalist                 0\n",
      "Composer                        0\n",
      "Foreign languages               0\n",
      "Exploratory                     0\n",
      "Frequency _Classical_           0\n",
      "Frequency _Country_             0\n",
      "Frequency _EDM_                 0\n",
      "Frequency _Folk_                0\n",
      "Frequency _Gospel_              0\n",
      "Frequency _Hip hop_             0\n",
      "Frequency _Jazz_                0\n",
      "Frequency _K pop_               0\n",
      "Frequency _Latin_               0\n",
      "Frequency _Lofi_                0\n",
      "Frequency _Metal_               0\n",
      "Frequency _Pop_                 0\n",
      "Frequency _R&B_                 0\n",
      "Frequency _Rap_                 0\n",
      "Frequency _Rock_                0\n",
      "Frequency _Video game music_    0\n",
      "Music effects                   0\n",
      "Fav genre_Country               0\n",
      "Fav genre_EDM                   0\n",
      "Fav genre_Folk                  0\n",
      "Fav genre_Gospel                0\n",
      "Fav genre_Hip hop               0\n",
      "Fav genre_Jazz                  0\n",
      "Fav genre_K pop                 0\n",
      "Fav genre_Latin                 0\n",
      "Fav genre_Lofi                  0\n",
      "Fav genre_Metal                 0\n",
      "Fav genre_Pop                   0\n",
      "Fav genre_R&B                   0\n",
      "Fav genre_Rap                   0\n",
      "Fav genre_Rock                  0\n",
      "Fav genre_Video game music      0\n",
      "dtype: int64\n"
     ]
    }
   ],
   "source": [
    "# Check missing values in the transformed training set\n",
    "print(\"Missing values in the transformed training set:\")\n",
    "print(X_train_transformed_df.isnull().sum())\n",
    "\n",
    "# Check missing values in the transformed test set\n",
    "print(\"Missing values in the transformed test set:\")\n",
    "print(X_test_transformed_df.isnull().sum())"
   ]
  },
  {
   "cell_type": "markdown",
   "metadata": {
    "cell_id": "2417f1e6031642fb9367a3f610a5ca07",
    "deepnote_cell_type": "text-cell-h1",
    "formattedRanges": []
   },
   "source": [
    "# Model Selection"
   ]
  },
  {
   "cell_type": "markdown",
   "metadata": {},
   "source": [
    "Through the process of model selection, we aim to identify the most effective algorithm (the \"best model\") among various classifiers.\n",
    "To achieve this, we construct an IMBPipeline, which is applied to X_train and y_train. This pipeline integrates class balancing, feature reduction, and classification into a cohesive and systematic workflow. Specifically, we implement the following steps:\n",
    "- *Sampler*: Balances the dataset by addressing class imbalance, ensuring the model learns equally from all classes.\n",
    "\n",
    "- *Dimensionality Reduction*: Simplifies the dataset by reducing the number of features, removing redundancy, and improving computational efficiency.\n",
    "\n",
    "- *Classifier*: The final step that applies a machine learning algorithm to predict the target variable based on the processed data."
   ]
  },
  {
   "cell_type": "code",
   "execution_count": 27,
   "metadata": {
    "cell_id": "d7bfa80021c3427e9da225ba1f07fd69",
    "deepnote_cell_type": "code",
    "execution_context_id": "bd6ba632-1d63-4e06-aab9-a07fb8971418",
    "execution_millis": 0,
    "execution_start": 1738081277447,
    "source_hash": "c1755ef"
   },
   "outputs": [],
   "source": [
    "model_pipeline = IMBPipeline(steps=[\n",
    "    ('transformation', data_transformer),       # Use the ColumnTransformer\n",
    "    ('sampler', SMOTE(random_state=42)),        # SMOTE for class balancing\n",
    "    ('dim_reduction', PCA(n_components=0.8)),   # PCA for dimensionality reduction\n",
    "    ('classifier', DecisionTreeClassifier(random_state=42))  # Decision Tree Classifier\n",
    "])\n",
    "\n",
    "y_train_task = y_train.values "
   ]
  },
  {
   "cell_type": "code",
   "execution_count": 28,
   "metadata": {
    "cell_id": "25ab8763c526480ea2253351361a4634",
    "deepnote_cell_type": "code",
    "execution_context_id": "bd6ba632-1d63-4e06-aab9-a07fb8971418",
    "execution_millis": 291,
    "execution_start": 1738081277507,
    "source_hash": "e7739344"
   },
   "outputs": [
    {
     "data": {
      "text/html": [
       "<style>#sk-container-id-1 {\n",
       "  /* Definition of color scheme common for light and dark mode */\n",
       "  --sklearn-color-text: #000;\n",
       "  --sklearn-color-text-muted: #666;\n",
       "  --sklearn-color-line: gray;\n",
       "  /* Definition of color scheme for unfitted estimators */\n",
       "  --sklearn-color-unfitted-level-0: #fff5e6;\n",
       "  --sklearn-color-unfitted-level-1: #f6e4d2;\n",
       "  --sklearn-color-unfitted-level-2: #ffe0b3;\n",
       "  --sklearn-color-unfitted-level-3: chocolate;\n",
       "  /* Definition of color scheme for fitted estimators */\n",
       "  --sklearn-color-fitted-level-0: #f0f8ff;\n",
       "  --sklearn-color-fitted-level-1: #d4ebff;\n",
       "  --sklearn-color-fitted-level-2: #b3dbfd;\n",
       "  --sklearn-color-fitted-level-3: cornflowerblue;\n",
       "\n",
       "  /* Specific color for light theme */\n",
       "  --sklearn-color-text-on-default-background: var(--sg-text-color, var(--theme-code-foreground, var(--jp-content-font-color1, black)));\n",
       "  --sklearn-color-background: var(--sg-background-color, var(--theme-background, var(--jp-layout-color0, white)));\n",
       "  --sklearn-color-border-box: var(--sg-text-color, var(--theme-code-foreground, var(--jp-content-font-color1, black)));\n",
       "  --sklearn-color-icon: #696969;\n",
       "\n",
       "  @media (prefers-color-scheme: dark) {\n",
       "    /* Redefinition of color scheme for dark theme */\n",
       "    --sklearn-color-text-on-default-background: var(--sg-text-color, var(--theme-code-foreground, var(--jp-content-font-color1, white)));\n",
       "    --sklearn-color-background: var(--sg-background-color, var(--theme-background, var(--jp-layout-color0, #111)));\n",
       "    --sklearn-color-border-box: var(--sg-text-color, var(--theme-code-foreground, var(--jp-content-font-color1, white)));\n",
       "    --sklearn-color-icon: #878787;\n",
       "  }\n",
       "}\n",
       "\n",
       "#sk-container-id-1 {\n",
       "  color: var(--sklearn-color-text);\n",
       "}\n",
       "\n",
       "#sk-container-id-1 pre {\n",
       "  padding: 0;\n",
       "}\n",
       "\n",
       "#sk-container-id-1 input.sk-hidden--visually {\n",
       "  border: 0;\n",
       "  clip: rect(1px 1px 1px 1px);\n",
       "  clip: rect(1px, 1px, 1px, 1px);\n",
       "  height: 1px;\n",
       "  margin: -1px;\n",
       "  overflow: hidden;\n",
       "  padding: 0;\n",
       "  position: absolute;\n",
       "  width: 1px;\n",
       "}\n",
       "\n",
       "#sk-container-id-1 div.sk-dashed-wrapped {\n",
       "  border: 1px dashed var(--sklearn-color-line);\n",
       "  margin: 0 0.4em 0.5em 0.4em;\n",
       "  box-sizing: border-box;\n",
       "  padding-bottom: 0.4em;\n",
       "  background-color: var(--sklearn-color-background);\n",
       "}\n",
       "\n",
       "#sk-container-id-1 div.sk-container {\n",
       "  /* jupyter's `normalize.less` sets `[hidden] { display: none; }`\n",
       "     but bootstrap.min.css set `[hidden] { display: none !important; }`\n",
       "     so we also need the `!important` here to be able to override the\n",
       "     default hidden behavior on the sphinx rendered scikit-learn.org.\n",
       "     See: https://github.com/scikit-learn/scikit-learn/issues/21755 */\n",
       "  display: inline-block !important;\n",
       "  position: relative;\n",
       "}\n",
       "\n",
       "#sk-container-id-1 div.sk-text-repr-fallback {\n",
       "  display: none;\n",
       "}\n",
       "\n",
       "div.sk-parallel-item,\n",
       "div.sk-serial,\n",
       "div.sk-item {\n",
       "  /* draw centered vertical line to link estimators */\n",
       "  background-image: linear-gradient(var(--sklearn-color-text-on-default-background), var(--sklearn-color-text-on-default-background));\n",
       "  background-size: 2px 100%;\n",
       "  background-repeat: no-repeat;\n",
       "  background-position: center center;\n",
       "}\n",
       "\n",
       "/* Parallel-specific style estimator block */\n",
       "\n",
       "#sk-container-id-1 div.sk-parallel-item::after {\n",
       "  content: \"\";\n",
       "  width: 100%;\n",
       "  border-bottom: 2px solid var(--sklearn-color-text-on-default-background);\n",
       "  flex-grow: 1;\n",
       "}\n",
       "\n",
       "#sk-container-id-1 div.sk-parallel {\n",
       "  display: flex;\n",
       "  align-items: stretch;\n",
       "  justify-content: center;\n",
       "  background-color: var(--sklearn-color-background);\n",
       "  position: relative;\n",
       "}\n",
       "\n",
       "#sk-container-id-1 div.sk-parallel-item {\n",
       "  display: flex;\n",
       "  flex-direction: column;\n",
       "}\n",
       "\n",
       "#sk-container-id-1 div.sk-parallel-item:first-child::after {\n",
       "  align-self: flex-end;\n",
       "  width: 50%;\n",
       "}\n",
       "\n",
       "#sk-container-id-1 div.sk-parallel-item:last-child::after {\n",
       "  align-self: flex-start;\n",
       "  width: 50%;\n",
       "}\n",
       "\n",
       "#sk-container-id-1 div.sk-parallel-item:only-child::after {\n",
       "  width: 0;\n",
       "}\n",
       "\n",
       "/* Serial-specific style estimator block */\n",
       "\n",
       "#sk-container-id-1 div.sk-serial {\n",
       "  display: flex;\n",
       "  flex-direction: column;\n",
       "  align-items: center;\n",
       "  background-color: var(--sklearn-color-background);\n",
       "  padding-right: 1em;\n",
       "  padding-left: 1em;\n",
       "}\n",
       "\n",
       "\n",
       "/* Toggleable style: style used for estimator/Pipeline/ColumnTransformer box that is\n",
       "clickable and can be expanded/collapsed.\n",
       "- Pipeline and ColumnTransformer use this feature and define the default style\n",
       "- Estimators will overwrite some part of the style using the `sk-estimator` class\n",
       "*/\n",
       "\n",
       "/* Pipeline and ColumnTransformer style (default) */\n",
       "\n",
       "#sk-container-id-1 div.sk-toggleable {\n",
       "  /* Default theme specific background. It is overwritten whether we have a\n",
       "  specific estimator or a Pipeline/ColumnTransformer */\n",
       "  background-color: var(--sklearn-color-background);\n",
       "}\n",
       "\n",
       "/* Toggleable label */\n",
       "#sk-container-id-1 label.sk-toggleable__label {\n",
       "  cursor: pointer;\n",
       "  display: flex;\n",
       "  width: 100%;\n",
       "  margin-bottom: 0;\n",
       "  padding: 0.5em;\n",
       "  box-sizing: border-box;\n",
       "  text-align: center;\n",
       "  align-items: start;\n",
       "  justify-content: space-between;\n",
       "  gap: 0.5em;\n",
       "}\n",
       "\n",
       "#sk-container-id-1 label.sk-toggleable__label .caption {\n",
       "  font-size: 0.6rem;\n",
       "  font-weight: lighter;\n",
       "  color: var(--sklearn-color-text-muted);\n",
       "}\n",
       "\n",
       "#sk-container-id-1 label.sk-toggleable__label-arrow:before {\n",
       "  /* Arrow on the left of the label */\n",
       "  content: \"▸\";\n",
       "  float: left;\n",
       "  margin-right: 0.25em;\n",
       "  color: var(--sklearn-color-icon);\n",
       "}\n",
       "\n",
       "#sk-container-id-1 label.sk-toggleable__label-arrow:hover:before {\n",
       "  color: var(--sklearn-color-text);\n",
       "}\n",
       "\n",
       "/* Toggleable content - dropdown */\n",
       "\n",
       "#sk-container-id-1 div.sk-toggleable__content {\n",
       "  max-height: 0;\n",
       "  max-width: 0;\n",
       "  overflow: hidden;\n",
       "  text-align: left;\n",
       "  /* unfitted */\n",
       "  background-color: var(--sklearn-color-unfitted-level-0);\n",
       "}\n",
       "\n",
       "#sk-container-id-1 div.sk-toggleable__content.fitted {\n",
       "  /* fitted */\n",
       "  background-color: var(--sklearn-color-fitted-level-0);\n",
       "}\n",
       "\n",
       "#sk-container-id-1 div.sk-toggleable__content pre {\n",
       "  margin: 0.2em;\n",
       "  border-radius: 0.25em;\n",
       "  color: var(--sklearn-color-text);\n",
       "  /* unfitted */\n",
       "  background-color: var(--sklearn-color-unfitted-level-0);\n",
       "}\n",
       "\n",
       "#sk-container-id-1 div.sk-toggleable__content.fitted pre {\n",
       "  /* unfitted */\n",
       "  background-color: var(--sklearn-color-fitted-level-0);\n",
       "}\n",
       "\n",
       "#sk-container-id-1 input.sk-toggleable__control:checked~div.sk-toggleable__content {\n",
       "  /* Expand drop-down */\n",
       "  max-height: 200px;\n",
       "  max-width: 100%;\n",
       "  overflow: auto;\n",
       "}\n",
       "\n",
       "#sk-container-id-1 input.sk-toggleable__control:checked~label.sk-toggleable__label-arrow:before {\n",
       "  content: \"▾\";\n",
       "}\n",
       "\n",
       "/* Pipeline/ColumnTransformer-specific style */\n",
       "\n",
       "#sk-container-id-1 div.sk-label input.sk-toggleable__control:checked~label.sk-toggleable__label {\n",
       "  color: var(--sklearn-color-text);\n",
       "  background-color: var(--sklearn-color-unfitted-level-2);\n",
       "}\n",
       "\n",
       "#sk-container-id-1 div.sk-label.fitted input.sk-toggleable__control:checked~label.sk-toggleable__label {\n",
       "  background-color: var(--sklearn-color-fitted-level-2);\n",
       "}\n",
       "\n",
       "/* Estimator-specific style */\n",
       "\n",
       "/* Colorize estimator box */\n",
       "#sk-container-id-1 div.sk-estimator input.sk-toggleable__control:checked~label.sk-toggleable__label {\n",
       "  /* unfitted */\n",
       "  background-color: var(--sklearn-color-unfitted-level-2);\n",
       "}\n",
       "\n",
       "#sk-container-id-1 div.sk-estimator.fitted input.sk-toggleable__control:checked~label.sk-toggleable__label {\n",
       "  /* fitted */\n",
       "  background-color: var(--sklearn-color-fitted-level-2);\n",
       "}\n",
       "\n",
       "#sk-container-id-1 div.sk-label label.sk-toggleable__label,\n",
       "#sk-container-id-1 div.sk-label label {\n",
       "  /* The background is the default theme color */\n",
       "  color: var(--sklearn-color-text-on-default-background);\n",
       "}\n",
       "\n",
       "/* On hover, darken the color of the background */\n",
       "#sk-container-id-1 div.sk-label:hover label.sk-toggleable__label {\n",
       "  color: var(--sklearn-color-text);\n",
       "  background-color: var(--sklearn-color-unfitted-level-2);\n",
       "}\n",
       "\n",
       "/* Label box, darken color on hover, fitted */\n",
       "#sk-container-id-1 div.sk-label.fitted:hover label.sk-toggleable__label.fitted {\n",
       "  color: var(--sklearn-color-text);\n",
       "  background-color: var(--sklearn-color-fitted-level-2);\n",
       "}\n",
       "\n",
       "/* Estimator label */\n",
       "\n",
       "#sk-container-id-1 div.sk-label label {\n",
       "  font-family: monospace;\n",
       "  font-weight: bold;\n",
       "  display: inline-block;\n",
       "  line-height: 1.2em;\n",
       "}\n",
       "\n",
       "#sk-container-id-1 div.sk-label-container {\n",
       "  text-align: center;\n",
       "}\n",
       "\n",
       "/* Estimator-specific */\n",
       "#sk-container-id-1 div.sk-estimator {\n",
       "  font-family: monospace;\n",
       "  border: 1px dotted var(--sklearn-color-border-box);\n",
       "  border-radius: 0.25em;\n",
       "  box-sizing: border-box;\n",
       "  margin-bottom: 0.5em;\n",
       "  /* unfitted */\n",
       "  background-color: var(--sklearn-color-unfitted-level-0);\n",
       "}\n",
       "\n",
       "#sk-container-id-1 div.sk-estimator.fitted {\n",
       "  /* fitted */\n",
       "  background-color: var(--sklearn-color-fitted-level-0);\n",
       "}\n",
       "\n",
       "/* on hover */\n",
       "#sk-container-id-1 div.sk-estimator:hover {\n",
       "  /* unfitted */\n",
       "  background-color: var(--sklearn-color-unfitted-level-2);\n",
       "}\n",
       "\n",
       "#sk-container-id-1 div.sk-estimator.fitted:hover {\n",
       "  /* fitted */\n",
       "  background-color: var(--sklearn-color-fitted-level-2);\n",
       "}\n",
       "\n",
       "/* Specification for estimator info (e.g. \"i\" and \"?\") */\n",
       "\n",
       "/* Common style for \"i\" and \"?\" */\n",
       "\n",
       ".sk-estimator-doc-link,\n",
       "a:link.sk-estimator-doc-link,\n",
       "a:visited.sk-estimator-doc-link {\n",
       "  float: right;\n",
       "  font-size: smaller;\n",
       "  line-height: 1em;\n",
       "  font-family: monospace;\n",
       "  background-color: var(--sklearn-color-background);\n",
       "  border-radius: 1em;\n",
       "  height: 1em;\n",
       "  width: 1em;\n",
       "  text-decoration: none !important;\n",
       "  margin-left: 0.5em;\n",
       "  text-align: center;\n",
       "  /* unfitted */\n",
       "  border: var(--sklearn-color-unfitted-level-1) 1pt solid;\n",
       "  color: var(--sklearn-color-unfitted-level-1);\n",
       "}\n",
       "\n",
       ".sk-estimator-doc-link.fitted,\n",
       "a:link.sk-estimator-doc-link.fitted,\n",
       "a:visited.sk-estimator-doc-link.fitted {\n",
       "  /* fitted */\n",
       "  border: var(--sklearn-color-fitted-level-1) 1pt solid;\n",
       "  color: var(--sklearn-color-fitted-level-1);\n",
       "}\n",
       "\n",
       "/* On hover */\n",
       "div.sk-estimator:hover .sk-estimator-doc-link:hover,\n",
       ".sk-estimator-doc-link:hover,\n",
       "div.sk-label-container:hover .sk-estimator-doc-link:hover,\n",
       ".sk-estimator-doc-link:hover {\n",
       "  /* unfitted */\n",
       "  background-color: var(--sklearn-color-unfitted-level-3);\n",
       "  color: var(--sklearn-color-background);\n",
       "  text-decoration: none;\n",
       "}\n",
       "\n",
       "div.sk-estimator.fitted:hover .sk-estimator-doc-link.fitted:hover,\n",
       ".sk-estimator-doc-link.fitted:hover,\n",
       "div.sk-label-container:hover .sk-estimator-doc-link.fitted:hover,\n",
       ".sk-estimator-doc-link.fitted:hover {\n",
       "  /* fitted */\n",
       "  background-color: var(--sklearn-color-fitted-level-3);\n",
       "  color: var(--sklearn-color-background);\n",
       "  text-decoration: none;\n",
       "}\n",
       "\n",
       "/* Span, style for the box shown on hovering the info icon */\n",
       ".sk-estimator-doc-link span {\n",
       "  display: none;\n",
       "  z-index: 9999;\n",
       "  position: relative;\n",
       "  font-weight: normal;\n",
       "  right: .2ex;\n",
       "  padding: .5ex;\n",
       "  margin: .5ex;\n",
       "  width: min-content;\n",
       "  min-width: 20ex;\n",
       "  max-width: 50ex;\n",
       "  color: var(--sklearn-color-text);\n",
       "  box-shadow: 2pt 2pt 4pt #999;\n",
       "  /* unfitted */\n",
       "  background: var(--sklearn-color-unfitted-level-0);\n",
       "  border: .5pt solid var(--sklearn-color-unfitted-level-3);\n",
       "}\n",
       "\n",
       ".sk-estimator-doc-link.fitted span {\n",
       "  /* fitted */\n",
       "  background: var(--sklearn-color-fitted-level-0);\n",
       "  border: var(--sklearn-color-fitted-level-3);\n",
       "}\n",
       "\n",
       ".sk-estimator-doc-link:hover span {\n",
       "  display: block;\n",
       "}\n",
       "\n",
       "/* \"?\"-specific style due to the `<a>` HTML tag */\n",
       "\n",
       "#sk-container-id-1 a.estimator_doc_link {\n",
       "  float: right;\n",
       "  font-size: 1rem;\n",
       "  line-height: 1em;\n",
       "  font-family: monospace;\n",
       "  background-color: var(--sklearn-color-background);\n",
       "  border-radius: 1rem;\n",
       "  height: 1rem;\n",
       "  width: 1rem;\n",
       "  text-decoration: none;\n",
       "  /* unfitted */\n",
       "  color: var(--sklearn-color-unfitted-level-1);\n",
       "  border: var(--sklearn-color-unfitted-level-1) 1pt solid;\n",
       "}\n",
       "\n",
       "#sk-container-id-1 a.estimator_doc_link.fitted {\n",
       "  /* fitted */\n",
       "  border: var(--sklearn-color-fitted-level-1) 1pt solid;\n",
       "  color: var(--sklearn-color-fitted-level-1);\n",
       "}\n",
       "\n",
       "/* On hover */\n",
       "#sk-container-id-1 a.estimator_doc_link:hover {\n",
       "  /* unfitted */\n",
       "  background-color: var(--sklearn-color-unfitted-level-3);\n",
       "  color: var(--sklearn-color-background);\n",
       "  text-decoration: none;\n",
       "}\n",
       "\n",
       "#sk-container-id-1 a.estimator_doc_link.fitted:hover {\n",
       "  /* fitted */\n",
       "  background-color: var(--sklearn-color-fitted-level-3);\n",
       "}\n",
       "</style><div id=\"sk-container-id-1\" class=\"sk-top-container\"><div class=\"sk-text-repr-fallback\"><pre>Pipeline(steps=[(&#x27;transformation&#x27;,\n",
       "                 ColumnTransformer(remainder=&#x27;passthrough&#x27;, sparse_threshold=0,\n",
       "                                   transformers=[(&#x27;numerical&#x27;,\n",
       "                                                  Pipeline(steps=[(&#x27;null&#x27;,\n",
       "                                                                   SimpleImputer()),\n",
       "                                                                  (&#x27;min_max&#x27;,\n",
       "                                                                   MinMaxScaler())]),\n",
       "                                                  [&#x27;Depression&#x27;, &#x27;Insomnia&#x27;,\n",
       "                                                   &#x27;OCD&#x27;, &#x27;Age&#x27;,\n",
       "                                                   &#x27;Hours per day&#x27;]),\n",
       "                                                 (&#x27;bpm&#x27;,\n",
       "                                                  Pipeline(steps=[(&#x27;imputer&#x27;,\n",
       "                                                                   BPMImputer()),\n",
       "                                                                  (&#x27;scaler&#x27;,\n",
       "                                                                   MinMaxScaler())]),\n",
       "                                                  [&#x27;BPM&#x27;, &#x27;Fav genre&#x27;]),\n",
       "                                                 (&#x27;categor...\n",
       "                                                 (&#x27;fav_genre&#x27;,\n",
       "                                                  Pipeline(steps=[(&#x27;null&#x27;,\n",
       "                                                                   SimpleImputer(strategy=&#x27;most_frequent&#x27;)),\n",
       "                                                                  (&#x27;one_hot_encoder&#x27;,\n",
       "                                                                   OneHotEncoder(drop=&#x27;first&#x27;,\n",
       "                                                                                 handle_unknown=&#x27;ignore&#x27;)),\n",
       "                                                                  (&#x27;max_abs&#x27;,\n",
       "                                                                   MaxAbsScaler())]),\n",
       "                                                  [&#x27;Fav genre&#x27;])],\n",
       "                                   verbose_feature_names_out=False)),\n",
       "                (&#x27;sampler&#x27;, SMOTE(random_state=42)),\n",
       "                (&#x27;dim_reduction&#x27;, PCA(n_components=0.8)),\n",
       "                (&#x27;classifier&#x27;, DecisionTreeClassifier(random_state=42))])</pre><b>In a Jupyter environment, please rerun this cell to show the HTML representation or trust the notebook. <br />On GitHub, the HTML representation is unable to render, please try loading this page with nbviewer.org.</b></div><div class=\"sk-container\" hidden><div class=\"sk-item sk-dashed-wrapped\"><div class=\"sk-label-container\"><div class=\"sk-label fitted sk-toggleable\"><input class=\"sk-toggleable__control sk-hidden--visually\" id=\"sk-estimator-id-1\" type=\"checkbox\" ><label for=\"sk-estimator-id-1\" class=\"sk-toggleable__label fitted sk-toggleable__label-arrow\"><div><div>Pipeline</div></div><div><span class=\"sk-estimator-doc-link fitted\">i<span>Fitted</span></span></div></label><div class=\"sk-toggleable__content fitted\"><pre>Pipeline(steps=[(&#x27;transformation&#x27;,\n",
       "                 ColumnTransformer(remainder=&#x27;passthrough&#x27;, sparse_threshold=0,\n",
       "                                   transformers=[(&#x27;numerical&#x27;,\n",
       "                                                  Pipeline(steps=[(&#x27;null&#x27;,\n",
       "                                                                   SimpleImputer()),\n",
       "                                                                  (&#x27;min_max&#x27;,\n",
       "                                                                   MinMaxScaler())]),\n",
       "                                                  [&#x27;Depression&#x27;, &#x27;Insomnia&#x27;,\n",
       "                                                   &#x27;OCD&#x27;, &#x27;Age&#x27;,\n",
       "                                                   &#x27;Hours per day&#x27;]),\n",
       "                                                 (&#x27;bpm&#x27;,\n",
       "                                                  Pipeline(steps=[(&#x27;imputer&#x27;,\n",
       "                                                                   BPMImputer()),\n",
       "                                                                  (&#x27;scaler&#x27;,\n",
       "                                                                   MinMaxScaler())]),\n",
       "                                                  [&#x27;BPM&#x27;, &#x27;Fav genre&#x27;]),\n",
       "                                                 (&#x27;categor...\n",
       "                                                 (&#x27;fav_genre&#x27;,\n",
       "                                                  Pipeline(steps=[(&#x27;null&#x27;,\n",
       "                                                                   SimpleImputer(strategy=&#x27;most_frequent&#x27;)),\n",
       "                                                                  (&#x27;one_hot_encoder&#x27;,\n",
       "                                                                   OneHotEncoder(drop=&#x27;first&#x27;,\n",
       "                                                                                 handle_unknown=&#x27;ignore&#x27;)),\n",
       "                                                                  (&#x27;max_abs&#x27;,\n",
       "                                                                   MaxAbsScaler())]),\n",
       "                                                  [&#x27;Fav genre&#x27;])],\n",
       "                                   verbose_feature_names_out=False)),\n",
       "                (&#x27;sampler&#x27;, SMOTE(random_state=42)),\n",
       "                (&#x27;dim_reduction&#x27;, PCA(n_components=0.8)),\n",
       "                (&#x27;classifier&#x27;, DecisionTreeClassifier(random_state=42))])</pre></div> </div></div><div class=\"sk-serial\"><div class=\"sk-item sk-dashed-wrapped\"><div class=\"sk-label-container\"><div class=\"sk-label fitted sk-toggleable\"><input class=\"sk-toggleable__control sk-hidden--visually\" id=\"sk-estimator-id-2\" type=\"checkbox\" ><label for=\"sk-estimator-id-2\" class=\"sk-toggleable__label fitted sk-toggleable__label-arrow\"><div><div>transformation: ColumnTransformer</div></div><div><a class=\"sk-estimator-doc-link fitted\" rel=\"noreferrer\" target=\"_blank\" href=\"https://scikit-learn.org/1.6/modules/generated/sklearn.compose.ColumnTransformer.html\">?<span>Documentation for transformation: ColumnTransformer</span></a></div></label><div class=\"sk-toggleable__content fitted\"><pre>ColumnTransformer(remainder=&#x27;passthrough&#x27;, sparse_threshold=0,\n",
       "                  transformers=[(&#x27;numerical&#x27;,\n",
       "                                 Pipeline(steps=[(&#x27;null&#x27;, SimpleImputer()),\n",
       "                                                 (&#x27;min_max&#x27;, MinMaxScaler())]),\n",
       "                                 [&#x27;Depression&#x27;, &#x27;Insomnia&#x27;, &#x27;OCD&#x27;, &#x27;Age&#x27;,\n",
       "                                  &#x27;Hours per day&#x27;]),\n",
       "                                (&#x27;bpm&#x27;,\n",
       "                                 Pipeline(steps=[(&#x27;imputer&#x27;, BPMImputer()),\n",
       "                                                 (&#x27;scaler&#x27;, MinMaxScaler())]),\n",
       "                                 [&#x27;BPM&#x27;, &#x27;Fav genre&#x27;]),\n",
       "                                (&#x27;categorical&#x27;,\n",
       "                                 Pipeline(steps=[(&#x27;null&#x27;,\n",
       "                                                  Simp...\n",
       "                                  &#x27;Frequency _Lofi_&#x27;, &#x27;Frequency _Metal_&#x27;,\n",
       "                                  &#x27;Frequency _Pop_&#x27;, &#x27;Frequency _R&amp;B_&#x27;,\n",
       "                                  &#x27;Frequency _Rap_&#x27;, &#x27;Frequency _Rock_&#x27;,\n",
       "                                  &#x27;Frequency _Video game music_&#x27;,\n",
       "                                  &#x27;Music effects&#x27;]),\n",
       "                                (&#x27;fav_genre&#x27;,\n",
       "                                 Pipeline(steps=[(&#x27;null&#x27;,\n",
       "                                                  SimpleImputer(strategy=&#x27;most_frequent&#x27;)),\n",
       "                                                 (&#x27;one_hot_encoder&#x27;,\n",
       "                                                  OneHotEncoder(drop=&#x27;first&#x27;,\n",
       "                                                                handle_unknown=&#x27;ignore&#x27;)),\n",
       "                                                 (&#x27;max_abs&#x27;, MaxAbsScaler())]),\n",
       "                                 [&#x27;Fav genre&#x27;])],\n",
       "                  verbose_feature_names_out=False)</pre></div> </div></div><div class=\"sk-parallel\"><div class=\"sk-parallel-item\"><div class=\"sk-item\"><div class=\"sk-label-container\"><div class=\"sk-label fitted sk-toggleable\"><input class=\"sk-toggleable__control sk-hidden--visually\" id=\"sk-estimator-id-3\" type=\"checkbox\" ><label for=\"sk-estimator-id-3\" class=\"sk-toggleable__label fitted sk-toggleable__label-arrow\"><div><div>numerical</div></div></label><div class=\"sk-toggleable__content fitted\"><pre>[&#x27;Depression&#x27;, &#x27;Insomnia&#x27;, &#x27;OCD&#x27;, &#x27;Age&#x27;, &#x27;Hours per day&#x27;]</pre></div> </div></div><div class=\"sk-serial\"><div class=\"sk-item\"><div class=\"sk-serial\"><div class=\"sk-item\"><div class=\"sk-estimator fitted sk-toggleable\"><input class=\"sk-toggleable__control sk-hidden--visually\" id=\"sk-estimator-id-4\" type=\"checkbox\" ><label for=\"sk-estimator-id-4\" class=\"sk-toggleable__label fitted sk-toggleable__label-arrow\"><div><div>SimpleImputer</div></div><div><a class=\"sk-estimator-doc-link fitted\" rel=\"noreferrer\" target=\"_blank\" href=\"https://scikit-learn.org/1.6/modules/generated/sklearn.impute.SimpleImputer.html\">?<span>Documentation for SimpleImputer</span></a></div></label><div class=\"sk-toggleable__content fitted\"><pre>SimpleImputer()</pre></div> </div></div><div class=\"sk-item\"><div class=\"sk-estimator fitted sk-toggleable\"><input class=\"sk-toggleable__control sk-hidden--visually\" id=\"sk-estimator-id-5\" type=\"checkbox\" ><label for=\"sk-estimator-id-5\" class=\"sk-toggleable__label fitted sk-toggleable__label-arrow\"><div><div>MinMaxScaler</div></div><div><a class=\"sk-estimator-doc-link fitted\" rel=\"noreferrer\" target=\"_blank\" href=\"https://scikit-learn.org/1.6/modules/generated/sklearn.preprocessing.MinMaxScaler.html\">?<span>Documentation for MinMaxScaler</span></a></div></label><div class=\"sk-toggleable__content fitted\"><pre>MinMaxScaler()</pre></div> </div></div></div></div></div></div></div><div class=\"sk-parallel-item\"><div class=\"sk-item\"><div class=\"sk-label-container\"><div class=\"sk-label fitted sk-toggleable\"><input class=\"sk-toggleable__control sk-hidden--visually\" id=\"sk-estimator-id-6\" type=\"checkbox\" ><label for=\"sk-estimator-id-6\" class=\"sk-toggleable__label fitted sk-toggleable__label-arrow\"><div><div>bpm</div></div></label><div class=\"sk-toggleable__content fitted\"><pre>[&#x27;BPM&#x27;, &#x27;Fav genre&#x27;]</pre></div> </div></div><div class=\"sk-serial\"><div class=\"sk-item\"><div class=\"sk-serial\"><div class=\"sk-item\"><div class=\"sk-estimator fitted sk-toggleable\"><input class=\"sk-toggleable__control sk-hidden--visually\" id=\"sk-estimator-id-7\" type=\"checkbox\" ><label for=\"sk-estimator-id-7\" class=\"sk-toggleable__label fitted sk-toggleable__label-arrow\"><div><div>BPMImputer</div></div></label><div class=\"sk-toggleable__content fitted\"><pre>BPMImputer()</pre></div> </div></div><div class=\"sk-item\"><div class=\"sk-estimator fitted sk-toggleable\"><input class=\"sk-toggleable__control sk-hidden--visually\" id=\"sk-estimator-id-8\" type=\"checkbox\" ><label for=\"sk-estimator-id-8\" class=\"sk-toggleable__label fitted sk-toggleable__label-arrow\"><div><div>MinMaxScaler</div></div><div><a class=\"sk-estimator-doc-link fitted\" rel=\"noreferrer\" target=\"_blank\" href=\"https://scikit-learn.org/1.6/modules/generated/sklearn.preprocessing.MinMaxScaler.html\">?<span>Documentation for MinMaxScaler</span></a></div></label><div class=\"sk-toggleable__content fitted\"><pre>MinMaxScaler()</pre></div> </div></div></div></div></div></div></div><div class=\"sk-parallel-item\"><div class=\"sk-item\"><div class=\"sk-label-container\"><div class=\"sk-label fitted sk-toggleable\"><input class=\"sk-toggleable__control sk-hidden--visually\" id=\"sk-estimator-id-9\" type=\"checkbox\" ><label for=\"sk-estimator-id-9\" class=\"sk-toggleable__label fitted sk-toggleable__label-arrow\"><div><div>categorical</div></div></label><div class=\"sk-toggleable__content fitted\"><pre>[&#x27;While working&#x27;, &#x27;Instrumentalist&#x27;, &#x27;Composer&#x27;, &#x27;Foreign languages&#x27;, &#x27;Exploratory&#x27;, &#x27;Frequency _Classical_&#x27;, &#x27;Frequency _Country_&#x27;, &#x27;Frequency _EDM_&#x27;, &#x27;Frequency _Folk_&#x27;, &#x27;Frequency _Gospel_&#x27;, &#x27;Frequency _Hip hop_&#x27;, &#x27;Frequency _Jazz_&#x27;, &#x27;Frequency _K pop_&#x27;, &#x27;Frequency _Latin_&#x27;, &#x27;Frequency _Lofi_&#x27;, &#x27;Frequency _Metal_&#x27;, &#x27;Frequency _Pop_&#x27;, &#x27;Frequency _R&amp;B_&#x27;, &#x27;Frequency _Rap_&#x27;, &#x27;Frequency _Rock_&#x27;, &#x27;Frequency _Video game music_&#x27;, &#x27;Music effects&#x27;]</pre></div> </div></div><div class=\"sk-serial\"><div class=\"sk-item\"><div class=\"sk-serial\"><div class=\"sk-item\"><div class=\"sk-estimator fitted sk-toggleable\"><input class=\"sk-toggleable__control sk-hidden--visually\" id=\"sk-estimator-id-10\" type=\"checkbox\" ><label for=\"sk-estimator-id-10\" class=\"sk-toggleable__label fitted sk-toggleable__label-arrow\"><div><div>SimpleImputer</div></div><div><a class=\"sk-estimator-doc-link fitted\" rel=\"noreferrer\" target=\"_blank\" href=\"https://scikit-learn.org/1.6/modules/generated/sklearn.impute.SimpleImputer.html\">?<span>Documentation for SimpleImputer</span></a></div></label><div class=\"sk-toggleable__content fitted\"><pre>SimpleImputer(strategy=&#x27;most_frequent&#x27;)</pre></div> </div></div><div class=\"sk-item\"><div class=\"sk-estimator fitted sk-toggleable\"><input class=\"sk-toggleable__control sk-hidden--visually\" id=\"sk-estimator-id-11\" type=\"checkbox\" ><label for=\"sk-estimator-id-11\" class=\"sk-toggleable__label fitted sk-toggleable__label-arrow\"><div><div>OrdinalEncoder</div></div><div><a class=\"sk-estimator-doc-link fitted\" rel=\"noreferrer\" target=\"_blank\" href=\"https://scikit-learn.org/1.6/modules/generated/sklearn.preprocessing.OrdinalEncoder.html\">?<span>Documentation for OrdinalEncoder</span></a></div></label><div class=\"sk-toggleable__content fitted\"><pre>OrdinalEncoder()</pre></div> </div></div></div></div></div></div></div><div class=\"sk-parallel-item\"><div class=\"sk-item\"><div class=\"sk-label-container\"><div class=\"sk-label fitted sk-toggleable\"><input class=\"sk-toggleable__control sk-hidden--visually\" id=\"sk-estimator-id-12\" type=\"checkbox\" ><label for=\"sk-estimator-id-12\" class=\"sk-toggleable__label fitted sk-toggleable__label-arrow\"><div><div>fav_genre</div></div></label><div class=\"sk-toggleable__content fitted\"><pre>[&#x27;Fav genre&#x27;]</pre></div> </div></div><div class=\"sk-serial\"><div class=\"sk-item\"><div class=\"sk-serial\"><div class=\"sk-item\"><div class=\"sk-estimator fitted sk-toggleable\"><input class=\"sk-toggleable__control sk-hidden--visually\" id=\"sk-estimator-id-13\" type=\"checkbox\" ><label for=\"sk-estimator-id-13\" class=\"sk-toggleable__label fitted sk-toggleable__label-arrow\"><div><div>SimpleImputer</div></div><div><a class=\"sk-estimator-doc-link fitted\" rel=\"noreferrer\" target=\"_blank\" href=\"https://scikit-learn.org/1.6/modules/generated/sklearn.impute.SimpleImputer.html\">?<span>Documentation for SimpleImputer</span></a></div></label><div class=\"sk-toggleable__content fitted\"><pre>SimpleImputer(strategy=&#x27;most_frequent&#x27;)</pre></div> </div></div><div class=\"sk-item\"><div class=\"sk-estimator fitted sk-toggleable\"><input class=\"sk-toggleable__control sk-hidden--visually\" id=\"sk-estimator-id-14\" type=\"checkbox\" ><label for=\"sk-estimator-id-14\" class=\"sk-toggleable__label fitted sk-toggleable__label-arrow\"><div><div>OneHotEncoder</div></div><div><a class=\"sk-estimator-doc-link fitted\" rel=\"noreferrer\" target=\"_blank\" href=\"https://scikit-learn.org/1.6/modules/generated/sklearn.preprocessing.OneHotEncoder.html\">?<span>Documentation for OneHotEncoder</span></a></div></label><div class=\"sk-toggleable__content fitted\"><pre>OneHotEncoder(drop=&#x27;first&#x27;, handle_unknown=&#x27;ignore&#x27;)</pre></div> </div></div><div class=\"sk-item\"><div class=\"sk-estimator fitted sk-toggleable\"><input class=\"sk-toggleable__control sk-hidden--visually\" id=\"sk-estimator-id-15\" type=\"checkbox\" ><label for=\"sk-estimator-id-15\" class=\"sk-toggleable__label fitted sk-toggleable__label-arrow\"><div><div>MaxAbsScaler</div></div><div><a class=\"sk-estimator-doc-link fitted\" rel=\"noreferrer\" target=\"_blank\" href=\"https://scikit-learn.org/1.6/modules/generated/sklearn.preprocessing.MaxAbsScaler.html\">?<span>Documentation for MaxAbsScaler</span></a></div></label><div class=\"sk-toggleable__content fitted\"><pre>MaxAbsScaler()</pre></div> </div></div></div></div></div></div></div><div class=\"sk-parallel-item\"><div class=\"sk-item\"><div class=\"sk-label-container\"><div class=\"sk-label fitted sk-toggleable\"><input class=\"sk-toggleable__control sk-hidden--visually\" id=\"sk-estimator-id-16\" type=\"checkbox\" ><label for=\"sk-estimator-id-16\" class=\"sk-toggleable__label fitted sk-toggleable__label-arrow\"><div><div>remainder</div></div></label><div class=\"sk-toggleable__content fitted\"><pre>[]</pre></div> </div></div><div class=\"sk-serial\"><div class=\"sk-item\"><div class=\"sk-estimator fitted sk-toggleable\"><input class=\"sk-toggleable__control sk-hidden--visually\" id=\"sk-estimator-id-17\" type=\"checkbox\" ><label for=\"sk-estimator-id-17\" class=\"sk-toggleable__label fitted sk-toggleable__label-arrow\"><div><div>passthrough</div></div></label><div class=\"sk-toggleable__content fitted\"><pre>passthrough</pre></div> </div></div></div></div></div></div></div><div class=\"sk-item\"><div class=\"sk-estimator fitted sk-toggleable\"><input class=\"sk-toggleable__control sk-hidden--visually\" id=\"sk-estimator-id-18\" type=\"checkbox\" ><label for=\"sk-estimator-id-18\" class=\"sk-toggleable__label fitted sk-toggleable__label-arrow\"><div><div>SMOTE</div></div></label><div class=\"sk-toggleable__content fitted\"><pre>SMOTE(random_state=42)</pre></div> </div></div><div class=\"sk-item\"><div class=\"sk-estimator fitted sk-toggleable\"><input class=\"sk-toggleable__control sk-hidden--visually\" id=\"sk-estimator-id-19\" type=\"checkbox\" ><label for=\"sk-estimator-id-19\" class=\"sk-toggleable__label fitted sk-toggleable__label-arrow\"><div><div>PCA</div></div><div><a class=\"sk-estimator-doc-link fitted\" rel=\"noreferrer\" target=\"_blank\" href=\"https://scikit-learn.org/1.6/modules/generated/sklearn.decomposition.PCA.html\">?<span>Documentation for PCA</span></a></div></label><div class=\"sk-toggleable__content fitted\"><pre>PCA(n_components=0.8)</pre></div> </div></div><div class=\"sk-item\"><div class=\"sk-estimator fitted sk-toggleable\"><input class=\"sk-toggleable__control sk-hidden--visually\" id=\"sk-estimator-id-20\" type=\"checkbox\" ><label for=\"sk-estimator-id-20\" class=\"sk-toggleable__label fitted sk-toggleable__label-arrow\"><div><div>DecisionTreeClassifier</div></div><div><a class=\"sk-estimator-doc-link fitted\" rel=\"noreferrer\" target=\"_blank\" href=\"https://scikit-learn.org/1.6/modules/generated/sklearn.tree.DecisionTreeClassifier.html\">?<span>Documentation for DecisionTreeClassifier</span></a></div></label><div class=\"sk-toggleable__content fitted\"><pre>DecisionTreeClassifier(random_state=42)</pre></div> </div></div></div></div></div></div>"
      ],
      "text/plain": [
       "Pipeline(steps=[('transformation',\n",
       "                 ColumnTransformer(remainder='passthrough', sparse_threshold=0,\n",
       "                                   transformers=[('numerical',\n",
       "                                                  Pipeline(steps=[('null',\n",
       "                                                                   SimpleImputer()),\n",
       "                                                                  ('min_max',\n",
       "                                                                   MinMaxScaler())]),\n",
       "                                                  ['Depression', 'Insomnia',\n",
       "                                                   'OCD', 'Age',\n",
       "                                                   'Hours per day']),\n",
       "                                                 ('bpm',\n",
       "                                                  Pipeline(steps=[('imputer',\n",
       "                                                                   BPMImputer()),\n",
       "                                                                  ('scaler',\n",
       "                                                                   MinMaxScaler())]),\n",
       "                                                  ['BPM', 'Fav genre']),\n",
       "                                                 ('categor...\n",
       "                                                 ('fav_genre',\n",
       "                                                  Pipeline(steps=[('null',\n",
       "                                                                   SimpleImputer(strategy='most_frequent')),\n",
       "                                                                  ('one_hot_encoder',\n",
       "                                                                   OneHotEncoder(drop='first',\n",
       "                                                                                 handle_unknown='ignore')),\n",
       "                                                                  ('max_abs',\n",
       "                                                                   MaxAbsScaler())]),\n",
       "                                                  ['Fav genre'])],\n",
       "                                   verbose_feature_names_out=False)),\n",
       "                ('sampler', SMOTE(random_state=42)),\n",
       "                ('dim_reduction', PCA(n_components=0.8)),\n",
       "                ('classifier', DecisionTreeClassifier(random_state=42))])"
      ]
     },
     "execution_count": 28,
     "metadata": {},
     "output_type": "execute_result"
    }
   ],
   "source": [
    "model_pipeline.fit(X_train, y_train)"
   ]
  },
  {
   "cell_type": "markdown",
   "metadata": {
    "cell_id": "53e5ac9a19704d4998e4299cad354052",
    "deepnote_cell_type": "text-cell-h2",
    "formattedRanges": []
   },
   "source": [
    "## Configurations"
   ]
  },
  {
   "cell_type": "markdown",
   "metadata": {
    "cell_id": "8e47b3fb8fec4134a5f1aab167c3efe2",
    "deepnote_cell_type": "text-cell-p",
    "formattedRanges": [
     {
      "fromCodePoint": 30,
      "marks": {
       "code": true
      },
      "toCodePoint": 44,
      "type": "marks"
     },
     {
      "fromCodePoint": 63,
      "marks": {
       "bold": true
      },
      "toCodePoint": 97,
      "type": "marks"
     }
    ]
   },
   "source": [
    "For each step of the pipeline model_pipeline, define a list of admissible parameter distribution."
   ]
  },
  {
   "cell_type": "markdown",
   "metadata": {
    "cell_id": "4b8665f890ca47e6a00cb0b9b24ecdaa",
    "deepnote_cell_type": "text-cell-h3",
    "formattedRanges": []
   },
   "source": [
    "### Samplers' configuration dictionary"
   ]
  },
  {
   "cell_type": "markdown",
   "metadata": {},
   "source": [
    "- <code>SMOTE</code>: SMOTE (Synthetic Minority Oversampling Technique) improves class balance by generating synthetic samples for the minority class. It does this by interpolating between a randomly selected sample and its k-nearest neighbors, avoiding simple duplication of data.\n",
    "\n",
    "- <code>RandomOverSampler</code>:  This technique balances the dataset by randomly duplicating existing samples from the minority class, increasing its representation.\n",
    "\n",
    "- <code>TomekLinks</code>: It  identifies pairs of samples from different classes that are closest to each other and remove them, effectively cleaning the decision boundary and reducing noise."
   ]
  },
  {
   "cell_type": "code",
   "execution_count": 29,
   "metadata": {
    "cell_id": "32947b369b014520a0beb336dbe90683",
    "deepnote_cell_type": "code",
    "execution_context_id": "bd6ba632-1d63-4e06-aab9-a07fb8971418",
    "execution_millis": 0,
    "execution_start": 1738081277843,
    "source_hash": "7dd59291"
   },
   "outputs": [],
   "source": [
    "sampler_configurations = [\n",
    "    {\n",
    "        'sampler': [None],  # The element is bypassed\n",
    "    },\n",
    "    {\n",
    "        'sampler': [SMOTE(n_jobs=-1)],\n",
    "        'sampler__sampling_strategy': ['minority', 0.9, 0.7]\n",
    "    },\n",
    "    {\n",
    "        'sampler': [RandomOverSampler()],\n",
    "        'sampler__sampling_strategy': ['minority', 0.9, 0.7]\n",
    "    },\n",
    "\n",
    "    {\n",
    "        'sampler': [TomekLinks()],\n",
    "        'sampler__sampling_strategy': ['majority']\n",
    "    }\n",
    "]"
   ]
  },
  {
   "cell_type": "markdown",
   "metadata": {
    "cell_id": "36acd06beb4242eab3bb2c5895b3f9c4",
    "deepnote_cell_type": "text-cell-h3",
    "formattedRanges": []
   },
   "source": [
    "### Dimensionality reduction's configuration dictionary"
   ]
  },
  {
   "cell_type": "markdown",
   "metadata": {},
   "source": [
    "- <code>LDA</code> (Linear Discriminant Analysis): A supervised dimensionality reduction method that leverages class labels to project data into a lower-dimensional subspace. Its goal is to maximize the separation (distance) between class means while minimizing the spread (variance) within each class.\n",
    "\n",
    "- <code>PCA</code> (Principal Component Analysis): An unsupervised method transforms high-dimensional data into a lower-dimensional space while preserving as much variance (information) as possible. It achieves this by finding new, uncorrelated axes called principal components (PCs), ordered by the amount of variance they explain in the data.\n",
    "\n",
    "- <code>SFS</code> (Sequential Feature Selection): A feature selection technique that iteratively adds or removes features based on their contribution to model performance, identifying the most relevant features while balancing model complexity and predictive accuracy."
   ]
  },
  {
   "cell_type": "code",
   "execution_count": 30,
   "metadata": {
    "cell_id": "b9476b2d0abd4d43b63b964e6d10cea4",
    "deepnote_cell_type": "code",
    "execution_context_id": "bd6ba632-1d63-4e06-aab9-a07fb8971418",
    "execution_millis": 1,
    "execution_start": 1738081277895,
    "source_hash": "332a672"
   },
   "outputs": [],
   "source": [
    "dim_reduction_configurations = [\n",
    "    {\n",
    "        'dim_reduction': [None]\n",
    "    },\n",
    "    {\n",
    "        'dim_reduction': [PCA()],\n",
    "        'dim_reduction__n_components': [0.5, 0.7, 0.9]\n",
    "    },\n",
    "    {\n",
    "        'dim_reduction': [LDA()]\n",
    "    },\n",
    "    {\n",
    "        'dim_reduction': [SFS(estimator=Perceptron(), cv = None, scoring = 'f1')],\n",
    "        'dim_reduction__estimator': [Perceptron(), LogisticRegression()],\n",
    "        'dim_reduction__k_features' : [5,7,10]  \n",
    "    }\n",
    "]"
   ]
  },
  {
   "cell_type": "markdown",
   "metadata": {
    "cell_id": "4d6bc6a630fc4f73b3d6683c843ecec7",
    "deepnote_cell_type": "text-cell-h3",
    "formattedRanges": []
   },
   "source": [
    "### Classifiers' configuration dictionary"
   ]
  },
  {
   "cell_type": "markdown",
   "metadata": {},
   "source": [
    "- <code>KNeighborsClassifier</code>: An instance-based classifier that predicts the class of a data point by considering its k-nearest neighbors in the feature space. The class is determined by majority voting among the neighbors.\n",
    "\n",
    "- <code>RandomForestClassifier</code>: An ensemble learning algorithm that combines multiple decision trees, each trained on bootstrapped subsets of the training data (random subsets, drawn with replacement). By introducing randomness in feature selection at each split and averaging the predictions from all trees, it achieves high accuracy, reduces overfitting, and improves generalization.\n",
    "\n",
    "- <code>DecisionTreeClassifier</code>: A machine learning model that partitions the feature space recursively by choosing features and split points that optimize a split quality criterion. It builds a tree-like structure where internal nodes represent feature-based decisions, branches represent outcomes, and leaf nodes represent class labels. \n",
    "\n",
    "- <code>SVM</code> (Support Vector Machine): A supervised learning algorithm that identifies the hyperplane that maximizes the margin between data points of different classes.\n",
    "\n",
    "- <code>Perceptron</code>: A linear classifier that adjusts weights iteratively to find a decision boundary separating classes.\n",
    "\n",
    "- <code>BaggingClassifier</code>: An ensemble method that trains multiple classifiers on different boostrap samples and then aggregate their individual predictions (by majority voting) to select the most predicted one.\n",
    "\n",
    "- <code>AdaBoostClassifier</code>: An ensemble method that combines multiple weak learners by iteratively assigning higher weights to misclassified instances, building a strong classifier through weighted majority voting.\n",
    "\n",
    "- <code>LogisticRegression</code>: A linear model that predicts class probabilities based on the logistic (sigmoid) function."
   ]
  },
  {
   "cell_type": "code",
   "execution_count": 31,
   "metadata": {
    "cell_id": "335a06668a514ff2b683565cc9100c03",
    "deepnote_cell_type": "code",
    "execution_context_id": "bd6ba632-1d63-4e06-aab9-a07fb8971418",
    "execution_millis": 1,
    "execution_start": 1738081277959,
    "source_hash": "38c3cd54"
   },
   "outputs": [],
   "source": [
    "classifier_configurations = [\n",
    "\n",
    "    # KNeighborsClassifier\n",
    "    {\n",
    "        'classifier': [KNeighborsClassifier()],\n",
    "        'classifier__n_neighbors': [3, 5, 7, 9],         # Number of neighbors considered for predictions\n",
    "        'classifier__weights': ['uniform', 'distance'],  # Weighting neighbors' contributions\n",
    "        'classifier__metric': ['minkowski'],             # Distance metric\n",
    "        'classifier__p': [1, 2],                         # Minkowski distance power parameter\n",
    "        'classifier__algorithm': ['auto', 'ball_tree', 'kd_tree']  # Algorithm for nearest neighbors search\n",
    "    },\n",
    "\n",
    "    # RandomForestClassifier\n",
    "    {\n",
    "        'classifier': [RandomForestClassifier()],\n",
    "        'classifier__n_estimators': [50, 100, 200],      # Number of trees in the forest\n",
    "        'classifier__max_depth': [None, 10, 20],         # Maximum tree depth\n",
    "        'classifier__min_samples_split': [2, 5],         # Minimum samples for a split\n",
    "        'classifier__min_samples_leaf': [1, 2],          # Minimum samples at a leaf node\n",
    "        'classifier__max_features': [None, 'sqrt', 'log2'], # Features considered for the best split\n",
    "        'classifier__bootstrap': [True, False],          # Use bootstrap samples\n",
    "        'classifier__random_state': [42]                 # Seed for reproducibility\n",
    "    },\n",
    "\n",
    "    # DecisionTreeClassifier\n",
    "    {\n",
    "        'classifier': [DecisionTreeClassifier()],\n",
    "        'classifier__criterion': ['gini', 'entropy'],    # Split quality criterion\n",
    "        'classifier__max_depth': [None, 5, 10, 20],\n",
    "        'classifier__min_samples_split': [2, 5, 10],\n",
    "        'classifier__min_samples_leaf': [1, 2],  \n",
    "        'classifier__max_features': [None, 'sqrt', 'log2'], \n",
    "        'classifier__random_state': [42] \n",
    "    },\n",
    "\n",
    "    # SVM (Support Vector Machine)\n",
    "    {\n",
    "        'classifier': [SVC()],\n",
    "        'classifier__C': [0.1, 1, 10],                   # Regularization strength\n",
    "        'classifier__kernel': ['linear', 'rbf'],         # Kernel types for decision boundaries\n",
    "        'classifier__gamma': ['scale', 'auto', 0.1, 1],  # Kernel coefficient for 'rbf'\n",
    "        'classifier__class_weight': ['balanced', {0: 1, 1: 10}],\n",
    "    },\n",
    "\n",
    "    # Perceptron\n",
    "    {\n",
    "        'classifier': [Perceptron()],\n",
    "        'classifier__penalty': [None, 'l1', 'l2'],       # Regularization term\n",
    "        'classifier__alpha': [0.0001, 0.001],            # Regularization strength\n",
    "        'classifier__max_iter': [1000],                  # Maximum number of iterations\n",
    "        'classifier__random_state': [42]                 # Seed for reproducibility\n",
    "    },\n",
    "\n",
    "    # BaggingClassifier\n",
    "    {\n",
    "    'classifier': [BaggingClassifier()],\n",
    "    'classifier__estimator': [\n",
    "        DecisionTreeClassifier(random_state=42),\n",
    "        SVC(kernel='linear', C=1.0, random_state=42)\n",
    "    ],\n",
    "    'classifier__n_estimators': [10, 50, 100],       # Number of base estimators\n",
    "    'classifier__max_samples': [0.8, 1.0],           # Fraction of samples for each base estimator\n",
    "    'classifier__max_features': [0.8, 1.0],          # Fraction of features for each base estimator\n",
    "    'classifier__bootstrap': [True],\n",
    "    'classifier__n_jobs': [-1],\n",
    "    'classifier__random_state': [42] \n",
    "    },\n",
    "\n",
    "    # AdaBoostClassifier\n",
    "    {\n",
    "    'classifier': [AdaBoostClassifier()],\n",
    "    'classifier__estimator': [\n",
    "        DecisionTreeClassifier(random_state=42, max_depth=1)\n",
    "    ],\n",
    "    'classifier__n_estimators': [10, 50, 100],         # Number of boosting rounds\n",
    "    'classifier__learning_rate': [0.01, 0.1],          # Shrinks weights for boosting\n",
    "    'classifier__random_state': [42]                   # Ensure reproducibility\n",
    "    },\n",
    "\n",
    "    # LogisticRegression\n",
    "    {\n",
    "        'classifier': [LogisticRegression()],\n",
    "        'classifier__penalty': ['l2'],                   # Regularization type\n",
    "        'classifier__C': [0.1, 1, 10],                   # Regularization strength\n",
    "        'classifier__solver': ['lbfgs', 'liblinear'],    # Optimization algorithms\n",
    "        'classifier__class_weight': ['balanced']         # Handle class imbalance\n",
    "    }\n",
    "]"
   ]
  },
  {
   "cell_type": "markdown",
   "metadata": {},
   "source": [
    "Generate all possible configurations for the pipeline by combining the sampler, dimensionality reduction, and classifier configurations using <code>itertools.product</code>. This process creates a list of all parameter combinations that can be tested during model selection."
   ]
  },
  {
   "cell_type": "code",
   "execution_count": 32,
   "metadata": {
    "cell_id": "16588a7c277c4b699d19e84cbc94bd56",
    "deepnote_cell_type": "code",
    "execution_context_id": "bd6ba632-1d63-4e06-aab9-a07fb8971418",
    "execution_millis": 0,
    "execution_start": 1738081278011,
    "source_hash": "7573d890"
   },
   "outputs": [],
   "source": [
    "all_configurations = [dict(\n",
    "    itertools.chain(*(e.items() for e in configuration))) \n",
    "    for configuration in itertools.product(\n",
    "        sampler_configurations, \n",
    "        dim_reduction_configurations, \n",
    "        classifier_configurations)]"
   ]
  },
  {
   "cell_type": "code",
   "execution_count": 33,
   "metadata": {
    "cell_id": "5a435579f67546e181fc15704edd9f3e",
    "deepnote_cell_type": "code",
    "execution_context_id": "bd6ba632-1d63-4e06-aab9-a07fb8971418",
    "execution_millis": 1,
    "execution_start": 1738081278063,
    "source_hash": "46f51087"
   },
   "outputs": [
    {
     "data": {
      "text/plain": [
       "'Number of all possible configurations: 128'"
      ]
     },
     "execution_count": 33,
     "metadata": {},
     "output_type": "execute_result"
    }
   ],
   "source": [
    "f'Number of all possible configurations: {len(all_configurations)}'"
   ]
  },
  {
   "cell_type": "markdown",
   "metadata": {
    "cell_id": "09ec947cb63f474ca5d8703388b1b53a",
    "deepnote_cell_type": "text-cell-h2",
    "formattedRanges": []
   },
   "source": [
    "## Model selection with Nested Cross-Validation"
   ]
  },
  {
   "cell_type": "markdown",
   "metadata": {},
   "source": [
    "*Nested cross-validation* is useful to find the best configuration among different ML algorithms. It is composed by:\n",
    "- Inner loop: use <code>RandomizedSearchCV</code> for hyperparameter optimization.\n",
    "- Outer loop: use <code>cross_validate</code> with the best candidate identified in the inner loop as hyperparameter."
   ]
  },
  {
   "cell_type": "markdown",
   "metadata": {},
   "source": [
    "The *RandomizedSearchCV* object takes the list of all configurations, performs a *2-fold cross-validation*, and uses the *F1 score* as the scoring metric to evaluate model performance. The <code>n_iter</code> parameter is set to explore a multiple of the total configurations, ensuring sufficient coverage of the hyperparameter space."
   ]
  },
  {
   "cell_type": "code",
   "execution_count": 34,
   "metadata": {
    "cell_id": "ed5c5df06c5146b28882651b59cc3ae3",
    "deepnote_cell_type": "code",
    "execution_context_id": "2e019826-2cb7-4cf6-ad65-5315e28835ce",
    "execution_millis": 1,
    "execution_start": 1738067353394,
    "source_hash": "709497f8"
   },
   "outputs": [],
   "source": [
    "#Inner loop\n",
    "rs = RandomizedSearchCV(model_pipeline,               # The pipeline to optimize\n",
    "    param_distributions=all_configurations,           # The configurations to test\n",
    "    n_iter=len(all_configurations)* 5,                # Number of configurations to try\n",
    "    n_jobs=-1,                                        # Number of jobs to run in parallel \n",
    "    cv=2,                                             # 2-fold cross-validation\n",
    "    scoring='f1',                                     # Scoring metric\n",
    "    error_score = 'raise',                            #Display errors\n",
    ")"
   ]
  },
  {
   "cell_type": "markdown",
   "metadata": {},
   "source": [
    "Implement the *outer loop* using the <code>cross_validate</code> function to evaluate model performance. Use *F1* as the scoring metric and perform *5-fold cross-validation* to ensure robust evaluation. Set <code>return_estimator=True</code> to retrieve the best estimators for each fold, enabling detailed analysis of the selected models."
   ]
  },
  {
   "cell_type": "code",
   "execution_count": 35,
   "metadata": {
    "cell_id": "159ad9eb11fb4865a2a44115fe77ba79",
    "deepnote_cell_type": "code",
    "execution_context_id": "2e019826-2cb7-4cf6-ad65-5315e28835ce",
    "execution_millis": 5539656,
    "execution_start": 1738067353450,
    "source_hash": "5d272107"
   },
   "outputs": [
    {
     "name": "stdout",
     "output_type": "stream",
     "text": [
      "[CV] END ......................................., score=0.802 total time=18.0min\n",
      "[CV] END ......................................., score=0.788 total time=18.9min\n",
      "[CV] END ......................................., score=0.798 total time=18.8min\n",
      "[CV] END ......................................., score=0.841 total time=18.0min\n",
      "[CV] END ......................................., score=0.826 total time=18.6min\n"
     ]
    }
   ],
   "source": [
    "# Outer loop\n",
    "scores_anxiety = cross_validate(\n",
    "    estimator = rs,                              # RandomizedSearchCV object\n",
    "    X = X_train,\n",
    "    y = y_train,\n",
    "    scoring='f1',                                # Scoring metric\n",
    "    cv = 5,                                      # 5-fold cross-validation\n",
    "    return_estimator = True,                     # Return estimators for further analysis\n",
    "    verbose = 3,\n",
    "    n_jobs = -1,\n",
    "    error_score =  'raise'\n",
    ")"
   ]
  },
  {
   "cell_type": "markdown",
   "metadata": {},
   "source": [
    "For each fold, the best model configuration is retrieved and displayed, including details about the sampler, dimensionality reduction, classifier, their hyperparameters, and the F1 score obtained during cross-validation."
   ]
  },
  {
   "cell_type": "code",
   "execution_count": 36,
   "metadata": {
    "cell_id": "2cc570db8601469b9cf029afbb3d59ac",
    "deepnote_cell_type": "code",
    "execution_context_id": "2e019826-2cb7-4cf6-ad65-5315e28835ce",
    "execution_millis": 0,
    "execution_start": 1738072893174,
    "source_hash": "15b55a12"
   },
   "outputs": [
    {
     "name": "stdout",
     "output_type": "stream",
     "text": [
      "Fold 1:\n",
      "  Sampler: TomekLinks(sampling_strategy='majority')\n",
      "  Dimensionality Reduction: SequentialFeatureSelector(cv=None, estimator=Perceptron(), k_features=(5, 5),\n",
      "                          scoring='f1')\n",
      "  Classifier: AdaBoostClassifier(estimator=DecisionTreeClassifier(max_depth=1,\n",
      "                                                    random_state=42),\n",
      "                   learning_rate=0.1, n_estimators=100, random_state=42)\n",
      "    Classifier Parameters: {'algorithm': 'deprecated', 'estimator__ccp_alpha': 0.0, 'estimator__class_weight': None, 'estimator__criterion': 'gini', 'estimator__max_depth': 1, 'estimator__max_features': None, 'estimator__max_leaf_nodes': None, 'estimator__min_impurity_decrease': 0.0, 'estimator__min_samples_leaf': 1, 'estimator__min_samples_split': 2, 'estimator__min_weight_fraction_leaf': 0.0, 'estimator__monotonic_cst': None, 'estimator__random_state': 42, 'estimator__splitter': 'best', 'estimator': DecisionTreeClassifier(max_depth=1, random_state=42), 'learning_rate': 0.1, 'n_estimators': 100, 'random_state': 42}\n",
      "  F1 Score: 0.8021390374331551\n",
      "----------------------------------------\n",
      "Fold 2:\n",
      "  Sampler: None\n",
      "  Dimensionality Reduction: SequentialFeatureSelector(cv=None, estimator=LogisticRegression(),\n",
      "                          k_features=(5, 5), scoring='f1')\n",
      "  Classifier: BaggingClassifier(estimator=SVC(kernel='linear', random_state=42),\n",
      "                  max_samples=0.8, n_estimators=100, n_jobs=-1,\n",
      "                  random_state=42)\n",
      "    Classifier Parameters: {'bootstrap': True, 'bootstrap_features': False, 'estimator__C': 1.0, 'estimator__break_ties': False, 'estimator__cache_size': 200, 'estimator__class_weight': None, 'estimator__coef0': 0.0, 'estimator__decision_function_shape': 'ovr', 'estimator__degree': 3, 'estimator__gamma': 'scale', 'estimator__kernel': 'linear', 'estimator__max_iter': -1, 'estimator__probability': False, 'estimator__random_state': 42, 'estimator__shrinking': True, 'estimator__tol': 0.001, 'estimator__verbose': False, 'estimator': SVC(kernel='linear', random_state=42), 'max_features': 1.0, 'max_samples': 0.8, 'n_estimators': 100, 'n_jobs': -1, 'oob_score': False, 'random_state': 42, 'verbose': 0, 'warm_start': False}\n",
      "  F1 Score: 0.7875647668393783\n",
      "----------------------------------------\n",
      "Fold 3:\n",
      "  Sampler: RandomOverSampler(sampling_strategy=0.7)\n",
      "  Dimensionality Reduction: None\n",
      "  Classifier: RandomForestClassifier(bootstrap=False, max_depth=10, min_samples_split=5,\n",
      "                       n_estimators=50, random_state=42)\n",
      "    Classifier Parameters: {'bootstrap': False, 'ccp_alpha': 0.0, 'class_weight': None, 'criterion': 'gini', 'max_depth': 10, 'max_features': 'sqrt', 'max_leaf_nodes': None, 'max_samples': None, 'min_impurity_decrease': 0.0, 'min_samples_leaf': 1, 'min_samples_split': 5, 'min_weight_fraction_leaf': 0.0, 'monotonic_cst': None, 'n_estimators': 50, 'n_jobs': None, 'oob_score': False, 'random_state': 42, 'verbose': 0, 'warm_start': False}\n",
      "  F1 Score: 0.7976190476190477\n",
      "----------------------------------------\n",
      "Fold 4:\n",
      "  Sampler: RandomOverSampler(sampling_strategy='minority')\n",
      "  Dimensionality Reduction: None\n",
      "  Classifier: RandomForestClassifier(bootstrap=False, max_depth=10, n_estimators=200,\n",
      "                       random_state=42)\n",
      "    Classifier Parameters: {'bootstrap': False, 'ccp_alpha': 0.0, 'class_weight': None, 'criterion': 'gini', 'max_depth': 10, 'max_features': 'sqrt', 'max_leaf_nodes': None, 'max_samples': None, 'min_impurity_decrease': 0.0, 'min_samples_leaf': 1, 'min_samples_split': 2, 'min_weight_fraction_leaf': 0.0, 'monotonic_cst': None, 'n_estimators': 200, 'n_jobs': None, 'oob_score': False, 'random_state': 42, 'verbose': 0, 'warm_start': False}\n",
      "  F1 Score: 0.8414634146341463\n",
      "----------------------------------------\n",
      "Fold 5:\n",
      "  Sampler: SMOTE(n_jobs=-1, sampling_strategy='minority')\n",
      "  Dimensionality Reduction: None\n",
      "  Classifier: RandomForestClassifier(max_depth=10, min_samples_leaf=2, random_state=42)\n",
      "    Classifier Parameters: {'bootstrap': True, 'ccp_alpha': 0.0, 'class_weight': None, 'criterion': 'gini', 'max_depth': 10, 'max_features': 'sqrt', 'max_leaf_nodes': None, 'max_samples': None, 'min_impurity_decrease': 0.0, 'min_samples_leaf': 2, 'min_samples_split': 2, 'min_weight_fraction_leaf': 0.0, 'monotonic_cst': None, 'n_estimators': 100, 'n_jobs': None, 'oob_score': False, 'random_state': 42, 'verbose': 0, 'warm_start': False}\n",
      "  F1 Score: 0.8263473053892215\n",
      "----------------------------------------\n"
     ]
    }
   ],
   "source": [
    "for index, estimator in enumerate(scores_anxiety['estimator']):\n",
    "    print(f\"Fold {index + 1}:\")\n",
    "    print(f\"  Sampler: {estimator.best_estimator_.get_params().get('sampler', None)}\")\n",
    "    print(f\"  Dimensionality Reduction: {estimator.best_estimator_.get_params().get('dim_reduction', None)}\")\n",
    "    print(f\"  Classifier: {estimator.best_estimator_.get_params().get('classifier', None)}\")\n",
    "    if estimator.best_estimator_.get_params().get('classifier', None):\n",
    "        print(f\"    Classifier Parameters: {estimator.best_estimator_.get_params()['classifier'].get_params()}\")\n",
    "    print(f\"  F1 Score: {scores_anxiety['test_score'][index]}\")\n",
    "    print('-'*40)"
   ]
  },
  {
   "cell_type": "markdown",
   "metadata": {},
   "source": [
    "\n",
    "As we can see from the results, the performance of the models varies depending on the configurations of samplers, dimensionality reduction, and classifiers.\n",
    "\n",
    "- In Fold 1, the model uses *TomekLinks* to address potential class imbalance and *SequentialFeatureSelector* for dimensionality reduction, with an *AdaBoostClassifier* using a shallow *DecisionTreeClassifier* as the base estimator. This configuration achieves an F1 Score of 0.802.\n",
    "\n",
    "- In Fold 2, there is no sampler applied, but *SequentialFeatureSelector* is used for dimensionality reduction with a *LogisticRegression* estimator. The classifier is a *BaggingClassifier* with an SVC base estimator. The performance here is slightly lower, with an F1 Score of 0.787.\n",
    "\n",
    "- Fold 3 applies *RandomOverSampler* to balance the class distribution but does not use dimensionality reduction. The classifier used is RandomForestClassifier, with an F1 Score of 0.798.\n",
    "\n",
    "- Fold 4 uses *RandomOverSampler* to address class imbalance and does not apply dimensionality reduction. *RandomForestClassifier* is the base model, achieving the highest F1 Score of 0.841, suggesting that this configuration performs particularly well with the chosen data split.\n",
    "\n",
    "- Fold 5 applies *SMOTE* to balance the class distribution and uses a *RandomForestClassifier*. The F1 Score here is 0.826, further supporting the idea that *RandomForestClassifier* performs well when combined with oversampling techniques like *SMOTE*."
   ]
  },
  {
   "cell_type": "markdown",
   "metadata": {
    "cell_id": "4095079d31a348bc9443af40db7cfc3d",
    "deepnote_cell_type": "text-cell-p",
    "formattedRanges": [
     {
      "fromCodePoint": 4,
      "marks": {
       "bold": true
      },
      "toCodePoint": 18,
      "type": "marks"
     },
     {
      "fromCodePoint": 38,
      "marks": {
       "bold": true
      },
      "toCodePoint": 71,
      "type": "marks"
     },
     {
      "fromCodePoint": 81,
      "marks": {
       "bold": true
      },
      "toCodePoint": 91,
      "type": "marks"
     },
     {
      "fromCodePoint": 104,
      "marks": {
       "bold": true
      },
      "toCodePoint": 126,
      "type": "marks"
     }
    ]
   },
   "source": [
    "For each estimator, the best model is fitted on the entire training set, and the F1 scores for both the training and test sets are calculated and displayed to evaluate the model's performance and generalization ability."
   ]
  },
  {
   "cell_type": "code",
   "execution_count": 37,
   "metadata": {
    "cell_id": "6b3e47662737405183a7265d1dbdb5ad",
    "deepnote_cell_type": "code",
    "execution_context_id": "2e019826-2cb7-4cf6-ad65-5315e28835ce",
    "execution_millis": 3188,
    "execution_start": 1738072893234,
    "source_hash": "c7a80fad"
   },
   "outputs": [
    {
     "name": "stdout",
     "output_type": "stream",
     "text": [
      "F1 on training set:0.8118609406952966, F1 on test set:0.8130081300813008\n",
      "F1 on training set:0.8443908323281062, F1 on test set:0.8529411764705882\n",
      "F1 on training set:0.998745294855709, F1 on test set:0.8465116279069768\n",
      "F1 on training set:1.0, F1 on test set:0.863849765258216\n",
      "F1 on training set:0.9887076537013801, F1 on test set:0.8585365853658536\n"
     ]
    }
   ],
   "source": [
    "for estimator in scores_anxiety['estimator']:\n",
    "    pred_train = estimator.best_estimator_.fit(X_train, y_train)\n",
    "    pred_train = estimator.best_estimator_.predict(X_train)\n",
    "    pred_test = estimator.best_estimator_.predict(X_test)\n",
    "    f1_train = f1_score(y_train, pred_train)\n",
    "    f1_test = f1_score(y_test, pred_test)\n",
    "    print(f'F1 on training set:{f1_train}, F1 on test set:{f1_test}')"
   ]
  },
  {
   "cell_type": "markdown",
   "metadata": {},
   "source": [
    "Get the best estimator through the <code>best_estimator_</code> method."
   ]
  },
  {
   "cell_type": "code",
   "execution_count": 38,
   "metadata": {
    "cell_id": "9522bb38f38548cd85675fd1251a3200",
    "deepnote_cell_type": "code",
    "execution_context_id": "2e019826-2cb7-4cf6-ad65-5315e28835ce",
    "execution_millis": 58,
    "execution_start": 1738072896490,
    "source_hash": "919bd718"
   },
   "outputs": [
    {
     "data": {
      "text/html": [
       "<style>#sk-container-id-2 {\n",
       "  /* Definition of color scheme common for light and dark mode */\n",
       "  --sklearn-color-text: #000;\n",
       "  --sklearn-color-text-muted: #666;\n",
       "  --sklearn-color-line: gray;\n",
       "  /* Definition of color scheme for unfitted estimators */\n",
       "  --sklearn-color-unfitted-level-0: #fff5e6;\n",
       "  --sklearn-color-unfitted-level-1: #f6e4d2;\n",
       "  --sklearn-color-unfitted-level-2: #ffe0b3;\n",
       "  --sklearn-color-unfitted-level-3: chocolate;\n",
       "  /* Definition of color scheme for fitted estimators */\n",
       "  --sklearn-color-fitted-level-0: #f0f8ff;\n",
       "  --sklearn-color-fitted-level-1: #d4ebff;\n",
       "  --sklearn-color-fitted-level-2: #b3dbfd;\n",
       "  --sklearn-color-fitted-level-3: cornflowerblue;\n",
       "\n",
       "  /* Specific color for light theme */\n",
       "  --sklearn-color-text-on-default-background: var(--sg-text-color, var(--theme-code-foreground, var(--jp-content-font-color1, black)));\n",
       "  --sklearn-color-background: var(--sg-background-color, var(--theme-background, var(--jp-layout-color0, white)));\n",
       "  --sklearn-color-border-box: var(--sg-text-color, var(--theme-code-foreground, var(--jp-content-font-color1, black)));\n",
       "  --sklearn-color-icon: #696969;\n",
       "\n",
       "  @media (prefers-color-scheme: dark) {\n",
       "    /* Redefinition of color scheme for dark theme */\n",
       "    --sklearn-color-text-on-default-background: var(--sg-text-color, var(--theme-code-foreground, var(--jp-content-font-color1, white)));\n",
       "    --sklearn-color-background: var(--sg-background-color, var(--theme-background, var(--jp-layout-color0, #111)));\n",
       "    --sklearn-color-border-box: var(--sg-text-color, var(--theme-code-foreground, var(--jp-content-font-color1, white)));\n",
       "    --sklearn-color-icon: #878787;\n",
       "  }\n",
       "}\n",
       "\n",
       "#sk-container-id-2 {\n",
       "  color: var(--sklearn-color-text);\n",
       "}\n",
       "\n",
       "#sk-container-id-2 pre {\n",
       "  padding: 0;\n",
       "}\n",
       "\n",
       "#sk-container-id-2 input.sk-hidden--visually {\n",
       "  border: 0;\n",
       "  clip: rect(1px 1px 1px 1px);\n",
       "  clip: rect(1px, 1px, 1px, 1px);\n",
       "  height: 1px;\n",
       "  margin: -1px;\n",
       "  overflow: hidden;\n",
       "  padding: 0;\n",
       "  position: absolute;\n",
       "  width: 1px;\n",
       "}\n",
       "\n",
       "#sk-container-id-2 div.sk-dashed-wrapped {\n",
       "  border: 1px dashed var(--sklearn-color-line);\n",
       "  margin: 0 0.4em 0.5em 0.4em;\n",
       "  box-sizing: border-box;\n",
       "  padding-bottom: 0.4em;\n",
       "  background-color: var(--sklearn-color-background);\n",
       "}\n",
       "\n",
       "#sk-container-id-2 div.sk-container {\n",
       "  /* jupyter's `normalize.less` sets `[hidden] { display: none; }`\n",
       "     but bootstrap.min.css set `[hidden] { display: none !important; }`\n",
       "     so we also need the `!important` here to be able to override the\n",
       "     default hidden behavior on the sphinx rendered scikit-learn.org.\n",
       "     See: https://github.com/scikit-learn/scikit-learn/issues/21755 */\n",
       "  display: inline-block !important;\n",
       "  position: relative;\n",
       "}\n",
       "\n",
       "#sk-container-id-2 div.sk-text-repr-fallback {\n",
       "  display: none;\n",
       "}\n",
       "\n",
       "div.sk-parallel-item,\n",
       "div.sk-serial,\n",
       "div.sk-item {\n",
       "  /* draw centered vertical line to link estimators */\n",
       "  background-image: linear-gradient(var(--sklearn-color-text-on-default-background), var(--sklearn-color-text-on-default-background));\n",
       "  background-size: 2px 100%;\n",
       "  background-repeat: no-repeat;\n",
       "  background-position: center center;\n",
       "}\n",
       "\n",
       "/* Parallel-specific style estimator block */\n",
       "\n",
       "#sk-container-id-2 div.sk-parallel-item::after {\n",
       "  content: \"\";\n",
       "  width: 100%;\n",
       "  border-bottom: 2px solid var(--sklearn-color-text-on-default-background);\n",
       "  flex-grow: 1;\n",
       "}\n",
       "\n",
       "#sk-container-id-2 div.sk-parallel {\n",
       "  display: flex;\n",
       "  align-items: stretch;\n",
       "  justify-content: center;\n",
       "  background-color: var(--sklearn-color-background);\n",
       "  position: relative;\n",
       "}\n",
       "\n",
       "#sk-container-id-2 div.sk-parallel-item {\n",
       "  display: flex;\n",
       "  flex-direction: column;\n",
       "}\n",
       "\n",
       "#sk-container-id-2 div.sk-parallel-item:first-child::after {\n",
       "  align-self: flex-end;\n",
       "  width: 50%;\n",
       "}\n",
       "\n",
       "#sk-container-id-2 div.sk-parallel-item:last-child::after {\n",
       "  align-self: flex-start;\n",
       "  width: 50%;\n",
       "}\n",
       "\n",
       "#sk-container-id-2 div.sk-parallel-item:only-child::after {\n",
       "  width: 0;\n",
       "}\n",
       "\n",
       "/* Serial-specific style estimator block */\n",
       "\n",
       "#sk-container-id-2 div.sk-serial {\n",
       "  display: flex;\n",
       "  flex-direction: column;\n",
       "  align-items: center;\n",
       "  background-color: var(--sklearn-color-background);\n",
       "  padding-right: 1em;\n",
       "  padding-left: 1em;\n",
       "}\n",
       "\n",
       "\n",
       "/* Toggleable style: style used for estimator/Pipeline/ColumnTransformer box that is\n",
       "clickable and can be expanded/collapsed.\n",
       "- Pipeline and ColumnTransformer use this feature and define the default style\n",
       "- Estimators will overwrite some part of the style using the `sk-estimator` class\n",
       "*/\n",
       "\n",
       "/* Pipeline and ColumnTransformer style (default) */\n",
       "\n",
       "#sk-container-id-2 div.sk-toggleable {\n",
       "  /* Default theme specific background. It is overwritten whether we have a\n",
       "  specific estimator or a Pipeline/ColumnTransformer */\n",
       "  background-color: var(--sklearn-color-background);\n",
       "}\n",
       "\n",
       "/* Toggleable label */\n",
       "#sk-container-id-2 label.sk-toggleable__label {\n",
       "  cursor: pointer;\n",
       "  display: flex;\n",
       "  width: 100%;\n",
       "  margin-bottom: 0;\n",
       "  padding: 0.5em;\n",
       "  box-sizing: border-box;\n",
       "  text-align: center;\n",
       "  align-items: start;\n",
       "  justify-content: space-between;\n",
       "  gap: 0.5em;\n",
       "}\n",
       "\n",
       "#sk-container-id-2 label.sk-toggleable__label .caption {\n",
       "  font-size: 0.6rem;\n",
       "  font-weight: lighter;\n",
       "  color: var(--sklearn-color-text-muted);\n",
       "}\n",
       "\n",
       "#sk-container-id-2 label.sk-toggleable__label-arrow:before {\n",
       "  /* Arrow on the left of the label */\n",
       "  content: \"▸\";\n",
       "  float: left;\n",
       "  margin-right: 0.25em;\n",
       "  color: var(--sklearn-color-icon);\n",
       "}\n",
       "\n",
       "#sk-container-id-2 label.sk-toggleable__label-arrow:hover:before {\n",
       "  color: var(--sklearn-color-text);\n",
       "}\n",
       "\n",
       "/* Toggleable content - dropdown */\n",
       "\n",
       "#sk-container-id-2 div.sk-toggleable__content {\n",
       "  max-height: 0;\n",
       "  max-width: 0;\n",
       "  overflow: hidden;\n",
       "  text-align: left;\n",
       "  /* unfitted */\n",
       "  background-color: var(--sklearn-color-unfitted-level-0);\n",
       "}\n",
       "\n",
       "#sk-container-id-2 div.sk-toggleable__content.fitted {\n",
       "  /* fitted */\n",
       "  background-color: var(--sklearn-color-fitted-level-0);\n",
       "}\n",
       "\n",
       "#sk-container-id-2 div.sk-toggleable__content pre {\n",
       "  margin: 0.2em;\n",
       "  border-radius: 0.25em;\n",
       "  color: var(--sklearn-color-text);\n",
       "  /* unfitted */\n",
       "  background-color: var(--sklearn-color-unfitted-level-0);\n",
       "}\n",
       "\n",
       "#sk-container-id-2 div.sk-toggleable__content.fitted pre {\n",
       "  /* unfitted */\n",
       "  background-color: var(--sklearn-color-fitted-level-0);\n",
       "}\n",
       "\n",
       "#sk-container-id-2 input.sk-toggleable__control:checked~div.sk-toggleable__content {\n",
       "  /* Expand drop-down */\n",
       "  max-height: 200px;\n",
       "  max-width: 100%;\n",
       "  overflow: auto;\n",
       "}\n",
       "\n",
       "#sk-container-id-2 input.sk-toggleable__control:checked~label.sk-toggleable__label-arrow:before {\n",
       "  content: \"▾\";\n",
       "}\n",
       "\n",
       "/* Pipeline/ColumnTransformer-specific style */\n",
       "\n",
       "#sk-container-id-2 div.sk-label input.sk-toggleable__control:checked~label.sk-toggleable__label {\n",
       "  color: var(--sklearn-color-text);\n",
       "  background-color: var(--sklearn-color-unfitted-level-2);\n",
       "}\n",
       "\n",
       "#sk-container-id-2 div.sk-label.fitted input.sk-toggleable__control:checked~label.sk-toggleable__label {\n",
       "  background-color: var(--sklearn-color-fitted-level-2);\n",
       "}\n",
       "\n",
       "/* Estimator-specific style */\n",
       "\n",
       "/* Colorize estimator box */\n",
       "#sk-container-id-2 div.sk-estimator input.sk-toggleable__control:checked~label.sk-toggleable__label {\n",
       "  /* unfitted */\n",
       "  background-color: var(--sklearn-color-unfitted-level-2);\n",
       "}\n",
       "\n",
       "#sk-container-id-2 div.sk-estimator.fitted input.sk-toggleable__control:checked~label.sk-toggleable__label {\n",
       "  /* fitted */\n",
       "  background-color: var(--sklearn-color-fitted-level-2);\n",
       "}\n",
       "\n",
       "#sk-container-id-2 div.sk-label label.sk-toggleable__label,\n",
       "#sk-container-id-2 div.sk-label label {\n",
       "  /* The background is the default theme color */\n",
       "  color: var(--sklearn-color-text-on-default-background);\n",
       "}\n",
       "\n",
       "/* On hover, darken the color of the background */\n",
       "#sk-container-id-2 div.sk-label:hover label.sk-toggleable__label {\n",
       "  color: var(--sklearn-color-text);\n",
       "  background-color: var(--sklearn-color-unfitted-level-2);\n",
       "}\n",
       "\n",
       "/* Label box, darken color on hover, fitted */\n",
       "#sk-container-id-2 div.sk-label.fitted:hover label.sk-toggleable__label.fitted {\n",
       "  color: var(--sklearn-color-text);\n",
       "  background-color: var(--sklearn-color-fitted-level-2);\n",
       "}\n",
       "\n",
       "/* Estimator label */\n",
       "\n",
       "#sk-container-id-2 div.sk-label label {\n",
       "  font-family: monospace;\n",
       "  font-weight: bold;\n",
       "  display: inline-block;\n",
       "  line-height: 1.2em;\n",
       "}\n",
       "\n",
       "#sk-container-id-2 div.sk-label-container {\n",
       "  text-align: center;\n",
       "}\n",
       "\n",
       "/* Estimator-specific */\n",
       "#sk-container-id-2 div.sk-estimator {\n",
       "  font-family: monospace;\n",
       "  border: 1px dotted var(--sklearn-color-border-box);\n",
       "  border-radius: 0.25em;\n",
       "  box-sizing: border-box;\n",
       "  margin-bottom: 0.5em;\n",
       "  /* unfitted */\n",
       "  background-color: var(--sklearn-color-unfitted-level-0);\n",
       "}\n",
       "\n",
       "#sk-container-id-2 div.sk-estimator.fitted {\n",
       "  /* fitted */\n",
       "  background-color: var(--sklearn-color-fitted-level-0);\n",
       "}\n",
       "\n",
       "/* on hover */\n",
       "#sk-container-id-2 div.sk-estimator:hover {\n",
       "  /* unfitted */\n",
       "  background-color: var(--sklearn-color-unfitted-level-2);\n",
       "}\n",
       "\n",
       "#sk-container-id-2 div.sk-estimator.fitted:hover {\n",
       "  /* fitted */\n",
       "  background-color: var(--sklearn-color-fitted-level-2);\n",
       "}\n",
       "\n",
       "/* Specification for estimator info (e.g. \"i\" and \"?\") */\n",
       "\n",
       "/* Common style for \"i\" and \"?\" */\n",
       "\n",
       ".sk-estimator-doc-link,\n",
       "a:link.sk-estimator-doc-link,\n",
       "a:visited.sk-estimator-doc-link {\n",
       "  float: right;\n",
       "  font-size: smaller;\n",
       "  line-height: 1em;\n",
       "  font-family: monospace;\n",
       "  background-color: var(--sklearn-color-background);\n",
       "  border-radius: 1em;\n",
       "  height: 1em;\n",
       "  width: 1em;\n",
       "  text-decoration: none !important;\n",
       "  margin-left: 0.5em;\n",
       "  text-align: center;\n",
       "  /* unfitted */\n",
       "  border: var(--sklearn-color-unfitted-level-1) 1pt solid;\n",
       "  color: var(--sklearn-color-unfitted-level-1);\n",
       "}\n",
       "\n",
       ".sk-estimator-doc-link.fitted,\n",
       "a:link.sk-estimator-doc-link.fitted,\n",
       "a:visited.sk-estimator-doc-link.fitted {\n",
       "  /* fitted */\n",
       "  border: var(--sklearn-color-fitted-level-1) 1pt solid;\n",
       "  color: var(--sklearn-color-fitted-level-1);\n",
       "}\n",
       "\n",
       "/* On hover */\n",
       "div.sk-estimator:hover .sk-estimator-doc-link:hover,\n",
       ".sk-estimator-doc-link:hover,\n",
       "div.sk-label-container:hover .sk-estimator-doc-link:hover,\n",
       ".sk-estimator-doc-link:hover {\n",
       "  /* unfitted */\n",
       "  background-color: var(--sklearn-color-unfitted-level-3);\n",
       "  color: var(--sklearn-color-background);\n",
       "  text-decoration: none;\n",
       "}\n",
       "\n",
       "div.sk-estimator.fitted:hover .sk-estimator-doc-link.fitted:hover,\n",
       ".sk-estimator-doc-link.fitted:hover,\n",
       "div.sk-label-container:hover .sk-estimator-doc-link.fitted:hover,\n",
       ".sk-estimator-doc-link.fitted:hover {\n",
       "  /* fitted */\n",
       "  background-color: var(--sklearn-color-fitted-level-3);\n",
       "  color: var(--sklearn-color-background);\n",
       "  text-decoration: none;\n",
       "}\n",
       "\n",
       "/* Span, style for the box shown on hovering the info icon */\n",
       ".sk-estimator-doc-link span {\n",
       "  display: none;\n",
       "  z-index: 9999;\n",
       "  position: relative;\n",
       "  font-weight: normal;\n",
       "  right: .2ex;\n",
       "  padding: .5ex;\n",
       "  margin: .5ex;\n",
       "  width: min-content;\n",
       "  min-width: 20ex;\n",
       "  max-width: 50ex;\n",
       "  color: var(--sklearn-color-text);\n",
       "  box-shadow: 2pt 2pt 4pt #999;\n",
       "  /* unfitted */\n",
       "  background: var(--sklearn-color-unfitted-level-0);\n",
       "  border: .5pt solid var(--sklearn-color-unfitted-level-3);\n",
       "}\n",
       "\n",
       ".sk-estimator-doc-link.fitted span {\n",
       "  /* fitted */\n",
       "  background: var(--sklearn-color-fitted-level-0);\n",
       "  border: var(--sklearn-color-fitted-level-3);\n",
       "}\n",
       "\n",
       ".sk-estimator-doc-link:hover span {\n",
       "  display: block;\n",
       "}\n",
       "\n",
       "/* \"?\"-specific style due to the `<a>` HTML tag */\n",
       "\n",
       "#sk-container-id-2 a.estimator_doc_link {\n",
       "  float: right;\n",
       "  font-size: 1rem;\n",
       "  line-height: 1em;\n",
       "  font-family: monospace;\n",
       "  background-color: var(--sklearn-color-background);\n",
       "  border-radius: 1rem;\n",
       "  height: 1rem;\n",
       "  width: 1rem;\n",
       "  text-decoration: none;\n",
       "  /* unfitted */\n",
       "  color: var(--sklearn-color-unfitted-level-1);\n",
       "  border: var(--sklearn-color-unfitted-level-1) 1pt solid;\n",
       "}\n",
       "\n",
       "#sk-container-id-2 a.estimator_doc_link.fitted {\n",
       "  /* fitted */\n",
       "  border: var(--sklearn-color-fitted-level-1) 1pt solid;\n",
       "  color: var(--sklearn-color-fitted-level-1);\n",
       "}\n",
       "\n",
       "/* On hover */\n",
       "#sk-container-id-2 a.estimator_doc_link:hover {\n",
       "  /* unfitted */\n",
       "  background-color: var(--sklearn-color-unfitted-level-3);\n",
       "  color: var(--sklearn-color-background);\n",
       "  text-decoration: none;\n",
       "}\n",
       "\n",
       "#sk-container-id-2 a.estimator_doc_link.fitted:hover {\n",
       "  /* fitted */\n",
       "  background-color: var(--sklearn-color-fitted-level-3);\n",
       "}\n",
       "</style><div id=\"sk-container-id-2\" class=\"sk-top-container\"><div class=\"sk-text-repr-fallback\"><pre>Pipeline(steps=[(&#x27;transformation&#x27;,\n",
       "                 ColumnTransformer(remainder=&#x27;passthrough&#x27;, sparse_threshold=0,\n",
       "                                   transformers=[(&#x27;numerical&#x27;,\n",
       "                                                  Pipeline(steps=[(&#x27;null&#x27;,\n",
       "                                                                   SimpleImputer()),\n",
       "                                                                  (&#x27;min_max&#x27;,\n",
       "                                                                   MinMaxScaler())]),\n",
       "                                                  [&#x27;Depression&#x27;, &#x27;Insomnia&#x27;,\n",
       "                                                   &#x27;OCD&#x27;, &#x27;Age&#x27;,\n",
       "                                                   &#x27;Hours per day&#x27;]),\n",
       "                                                 (&#x27;bpm&#x27;,\n",
       "                                                  Pipeline(steps=[(&#x27;imputer&#x27;,\n",
       "                                                                   BPMImputer()),\n",
       "                                                                  (&#x27;scaler&#x27;,\n",
       "                                                                   MinMaxScaler())]),\n",
       "                                                  [&#x27;BPM&#x27;, &#x27;Fav genre&#x27;]),\n",
       "                                                 (&#x27;categor...\n",
       "                                                                   SimpleImputer(strategy=&#x27;most_frequent&#x27;)),\n",
       "                                                                  (&#x27;one_hot_encoder&#x27;,\n",
       "                                                                   OneHotEncoder(drop=&#x27;first&#x27;,\n",
       "                                                                                 handle_unknown=&#x27;ignore&#x27;)),\n",
       "                                                                  (&#x27;max_abs&#x27;,\n",
       "                                                                   MaxAbsScaler())]),\n",
       "                                                  [&#x27;Fav genre&#x27;])],\n",
       "                                   verbose_feature_names_out=False)),\n",
       "                (&#x27;sampler&#x27;, SMOTE(n_jobs=-1, sampling_strategy=&#x27;minority&#x27;)),\n",
       "                (&#x27;dim_reduction&#x27;, None),\n",
       "                (&#x27;classifier&#x27;,\n",
       "                 RandomForestClassifier(max_depth=10, min_samples_leaf=2,\n",
       "                                        random_state=42))])</pre><b>In a Jupyter environment, please rerun this cell to show the HTML representation or trust the notebook. <br />On GitHub, the HTML representation is unable to render, please try loading this page with nbviewer.org.</b></div><div class=\"sk-container\" hidden><div class=\"sk-item sk-dashed-wrapped\"><div class=\"sk-label-container\"><div class=\"sk-label fitted sk-toggleable\"><input class=\"sk-toggleable__control sk-hidden--visually\" id=\"sk-estimator-id-21\" type=\"checkbox\" ><label for=\"sk-estimator-id-21\" class=\"sk-toggleable__label fitted sk-toggleable__label-arrow\"><div><div>Pipeline</div></div><div><span class=\"sk-estimator-doc-link fitted\">i<span>Fitted</span></span></div></label><div class=\"sk-toggleable__content fitted\"><pre>Pipeline(steps=[(&#x27;transformation&#x27;,\n",
       "                 ColumnTransformer(remainder=&#x27;passthrough&#x27;, sparse_threshold=0,\n",
       "                                   transformers=[(&#x27;numerical&#x27;,\n",
       "                                                  Pipeline(steps=[(&#x27;null&#x27;,\n",
       "                                                                   SimpleImputer()),\n",
       "                                                                  (&#x27;min_max&#x27;,\n",
       "                                                                   MinMaxScaler())]),\n",
       "                                                  [&#x27;Depression&#x27;, &#x27;Insomnia&#x27;,\n",
       "                                                   &#x27;OCD&#x27;, &#x27;Age&#x27;,\n",
       "                                                   &#x27;Hours per day&#x27;]),\n",
       "                                                 (&#x27;bpm&#x27;,\n",
       "                                                  Pipeline(steps=[(&#x27;imputer&#x27;,\n",
       "                                                                   BPMImputer()),\n",
       "                                                                  (&#x27;scaler&#x27;,\n",
       "                                                                   MinMaxScaler())]),\n",
       "                                                  [&#x27;BPM&#x27;, &#x27;Fav genre&#x27;]),\n",
       "                                                 (&#x27;categor...\n",
       "                                                                   SimpleImputer(strategy=&#x27;most_frequent&#x27;)),\n",
       "                                                                  (&#x27;one_hot_encoder&#x27;,\n",
       "                                                                   OneHotEncoder(drop=&#x27;first&#x27;,\n",
       "                                                                                 handle_unknown=&#x27;ignore&#x27;)),\n",
       "                                                                  (&#x27;max_abs&#x27;,\n",
       "                                                                   MaxAbsScaler())]),\n",
       "                                                  [&#x27;Fav genre&#x27;])],\n",
       "                                   verbose_feature_names_out=False)),\n",
       "                (&#x27;sampler&#x27;, SMOTE(n_jobs=-1, sampling_strategy=&#x27;minority&#x27;)),\n",
       "                (&#x27;dim_reduction&#x27;, None),\n",
       "                (&#x27;classifier&#x27;,\n",
       "                 RandomForestClassifier(max_depth=10, min_samples_leaf=2,\n",
       "                                        random_state=42))])</pre></div> </div></div><div class=\"sk-serial\"><div class=\"sk-item sk-dashed-wrapped\"><div class=\"sk-label-container\"><div class=\"sk-label fitted sk-toggleable\"><input class=\"sk-toggleable__control sk-hidden--visually\" id=\"sk-estimator-id-22\" type=\"checkbox\" ><label for=\"sk-estimator-id-22\" class=\"sk-toggleable__label fitted sk-toggleable__label-arrow\"><div><div>transformation: ColumnTransformer</div></div><div><a class=\"sk-estimator-doc-link fitted\" rel=\"noreferrer\" target=\"_blank\" href=\"https://scikit-learn.org/1.6/modules/generated/sklearn.compose.ColumnTransformer.html\">?<span>Documentation for transformation: ColumnTransformer</span></a></div></label><div class=\"sk-toggleable__content fitted\"><pre>ColumnTransformer(remainder=&#x27;passthrough&#x27;, sparse_threshold=0,\n",
       "                  transformers=[(&#x27;numerical&#x27;,\n",
       "                                 Pipeline(steps=[(&#x27;null&#x27;, SimpleImputer()),\n",
       "                                                 (&#x27;min_max&#x27;, MinMaxScaler())]),\n",
       "                                 [&#x27;Depression&#x27;, &#x27;Insomnia&#x27;, &#x27;OCD&#x27;, &#x27;Age&#x27;,\n",
       "                                  &#x27;Hours per day&#x27;]),\n",
       "                                (&#x27;bpm&#x27;,\n",
       "                                 Pipeline(steps=[(&#x27;imputer&#x27;, BPMImputer()),\n",
       "                                                 (&#x27;scaler&#x27;, MinMaxScaler())]),\n",
       "                                 [&#x27;BPM&#x27;, &#x27;Fav genre&#x27;]),\n",
       "                                (&#x27;categorical&#x27;,\n",
       "                                 Pipeline(steps=[(&#x27;null&#x27;,\n",
       "                                                  Simp...\n",
       "                                  &#x27;Frequency _Lofi_&#x27;, &#x27;Frequency _Metal_&#x27;,\n",
       "                                  &#x27;Frequency _Pop_&#x27;, &#x27;Frequency _R&amp;B_&#x27;,\n",
       "                                  &#x27;Frequency _Rap_&#x27;, &#x27;Frequency _Rock_&#x27;,\n",
       "                                  &#x27;Frequency _Video game music_&#x27;,\n",
       "                                  &#x27;Music effects&#x27;]),\n",
       "                                (&#x27;fav_genre&#x27;,\n",
       "                                 Pipeline(steps=[(&#x27;null&#x27;,\n",
       "                                                  SimpleImputer(strategy=&#x27;most_frequent&#x27;)),\n",
       "                                                 (&#x27;one_hot_encoder&#x27;,\n",
       "                                                  OneHotEncoder(drop=&#x27;first&#x27;,\n",
       "                                                                handle_unknown=&#x27;ignore&#x27;)),\n",
       "                                                 (&#x27;max_abs&#x27;, MaxAbsScaler())]),\n",
       "                                 [&#x27;Fav genre&#x27;])],\n",
       "                  verbose_feature_names_out=False)</pre></div> </div></div><div class=\"sk-parallel\"><div class=\"sk-parallel-item\"><div class=\"sk-item\"><div class=\"sk-label-container\"><div class=\"sk-label fitted sk-toggleable\"><input class=\"sk-toggleable__control sk-hidden--visually\" id=\"sk-estimator-id-23\" type=\"checkbox\" ><label for=\"sk-estimator-id-23\" class=\"sk-toggleable__label fitted sk-toggleable__label-arrow\"><div><div>numerical</div></div></label><div class=\"sk-toggleable__content fitted\"><pre>[&#x27;Depression&#x27;, &#x27;Insomnia&#x27;, &#x27;OCD&#x27;, &#x27;Age&#x27;, &#x27;Hours per day&#x27;]</pre></div> </div></div><div class=\"sk-serial\"><div class=\"sk-item\"><div class=\"sk-serial\"><div class=\"sk-item\"><div class=\"sk-estimator fitted sk-toggleable\"><input class=\"sk-toggleable__control sk-hidden--visually\" id=\"sk-estimator-id-24\" type=\"checkbox\" ><label for=\"sk-estimator-id-24\" class=\"sk-toggleable__label fitted sk-toggleable__label-arrow\"><div><div>SimpleImputer</div></div><div><a class=\"sk-estimator-doc-link fitted\" rel=\"noreferrer\" target=\"_blank\" href=\"https://scikit-learn.org/1.6/modules/generated/sklearn.impute.SimpleImputer.html\">?<span>Documentation for SimpleImputer</span></a></div></label><div class=\"sk-toggleable__content fitted\"><pre>SimpleImputer()</pre></div> </div></div><div class=\"sk-item\"><div class=\"sk-estimator fitted sk-toggleable\"><input class=\"sk-toggleable__control sk-hidden--visually\" id=\"sk-estimator-id-25\" type=\"checkbox\" ><label for=\"sk-estimator-id-25\" class=\"sk-toggleable__label fitted sk-toggleable__label-arrow\"><div><div>MinMaxScaler</div></div><div><a class=\"sk-estimator-doc-link fitted\" rel=\"noreferrer\" target=\"_blank\" href=\"https://scikit-learn.org/1.6/modules/generated/sklearn.preprocessing.MinMaxScaler.html\">?<span>Documentation for MinMaxScaler</span></a></div></label><div class=\"sk-toggleable__content fitted\"><pre>MinMaxScaler()</pre></div> </div></div></div></div></div></div></div><div class=\"sk-parallel-item\"><div class=\"sk-item\"><div class=\"sk-label-container\"><div class=\"sk-label fitted sk-toggleable\"><input class=\"sk-toggleable__control sk-hidden--visually\" id=\"sk-estimator-id-26\" type=\"checkbox\" ><label for=\"sk-estimator-id-26\" class=\"sk-toggleable__label fitted sk-toggleable__label-arrow\"><div><div>bpm</div></div></label><div class=\"sk-toggleable__content fitted\"><pre>[&#x27;BPM&#x27;, &#x27;Fav genre&#x27;]</pre></div> </div></div><div class=\"sk-serial\"><div class=\"sk-item\"><div class=\"sk-serial\"><div class=\"sk-item\"><div class=\"sk-estimator fitted sk-toggleable\"><input class=\"sk-toggleable__control sk-hidden--visually\" id=\"sk-estimator-id-27\" type=\"checkbox\" ><label for=\"sk-estimator-id-27\" class=\"sk-toggleable__label fitted sk-toggleable__label-arrow\"><div><div>BPMImputer</div></div></label><div class=\"sk-toggleable__content fitted\"><pre>BPMImputer()</pre></div> </div></div><div class=\"sk-item\"><div class=\"sk-estimator fitted sk-toggleable\"><input class=\"sk-toggleable__control sk-hidden--visually\" id=\"sk-estimator-id-28\" type=\"checkbox\" ><label for=\"sk-estimator-id-28\" class=\"sk-toggleable__label fitted sk-toggleable__label-arrow\"><div><div>MinMaxScaler</div></div><div><a class=\"sk-estimator-doc-link fitted\" rel=\"noreferrer\" target=\"_blank\" href=\"https://scikit-learn.org/1.6/modules/generated/sklearn.preprocessing.MinMaxScaler.html\">?<span>Documentation for MinMaxScaler</span></a></div></label><div class=\"sk-toggleable__content fitted\"><pre>MinMaxScaler()</pre></div> </div></div></div></div></div></div></div><div class=\"sk-parallel-item\"><div class=\"sk-item\"><div class=\"sk-label-container\"><div class=\"sk-label fitted sk-toggleable\"><input class=\"sk-toggleable__control sk-hidden--visually\" id=\"sk-estimator-id-29\" type=\"checkbox\" ><label for=\"sk-estimator-id-29\" class=\"sk-toggleable__label fitted sk-toggleable__label-arrow\"><div><div>categorical</div></div></label><div class=\"sk-toggleable__content fitted\"><pre>[&#x27;While working&#x27;, &#x27;Instrumentalist&#x27;, &#x27;Composer&#x27;, &#x27;Foreign languages&#x27;, &#x27;Exploratory&#x27;, &#x27;Frequency _Classical_&#x27;, &#x27;Frequency _Country_&#x27;, &#x27;Frequency _EDM_&#x27;, &#x27;Frequency _Folk_&#x27;, &#x27;Frequency _Gospel_&#x27;, &#x27;Frequency _Hip hop_&#x27;, &#x27;Frequency _Jazz_&#x27;, &#x27;Frequency _K pop_&#x27;, &#x27;Frequency _Latin_&#x27;, &#x27;Frequency _Lofi_&#x27;, &#x27;Frequency _Metal_&#x27;, &#x27;Frequency _Pop_&#x27;, &#x27;Frequency _R&amp;B_&#x27;, &#x27;Frequency _Rap_&#x27;, &#x27;Frequency _Rock_&#x27;, &#x27;Frequency _Video game music_&#x27;, &#x27;Music effects&#x27;]</pre></div> </div></div><div class=\"sk-serial\"><div class=\"sk-item\"><div class=\"sk-serial\"><div class=\"sk-item\"><div class=\"sk-estimator fitted sk-toggleable\"><input class=\"sk-toggleable__control sk-hidden--visually\" id=\"sk-estimator-id-30\" type=\"checkbox\" ><label for=\"sk-estimator-id-30\" class=\"sk-toggleable__label fitted sk-toggleable__label-arrow\"><div><div>SimpleImputer</div></div><div><a class=\"sk-estimator-doc-link fitted\" rel=\"noreferrer\" target=\"_blank\" href=\"https://scikit-learn.org/1.6/modules/generated/sklearn.impute.SimpleImputer.html\">?<span>Documentation for SimpleImputer</span></a></div></label><div class=\"sk-toggleable__content fitted\"><pre>SimpleImputer(strategy=&#x27;most_frequent&#x27;)</pre></div> </div></div><div class=\"sk-item\"><div class=\"sk-estimator fitted sk-toggleable\"><input class=\"sk-toggleable__control sk-hidden--visually\" id=\"sk-estimator-id-31\" type=\"checkbox\" ><label for=\"sk-estimator-id-31\" class=\"sk-toggleable__label fitted sk-toggleable__label-arrow\"><div><div>OrdinalEncoder</div></div><div><a class=\"sk-estimator-doc-link fitted\" rel=\"noreferrer\" target=\"_blank\" href=\"https://scikit-learn.org/1.6/modules/generated/sklearn.preprocessing.OrdinalEncoder.html\">?<span>Documentation for OrdinalEncoder</span></a></div></label><div class=\"sk-toggleable__content fitted\"><pre>OrdinalEncoder()</pre></div> </div></div></div></div></div></div></div><div class=\"sk-parallel-item\"><div class=\"sk-item\"><div class=\"sk-label-container\"><div class=\"sk-label fitted sk-toggleable\"><input class=\"sk-toggleable__control sk-hidden--visually\" id=\"sk-estimator-id-32\" type=\"checkbox\" ><label for=\"sk-estimator-id-32\" class=\"sk-toggleable__label fitted sk-toggleable__label-arrow\"><div><div>fav_genre</div></div></label><div class=\"sk-toggleable__content fitted\"><pre>[&#x27;Fav genre&#x27;]</pre></div> </div></div><div class=\"sk-serial\"><div class=\"sk-item\"><div class=\"sk-serial\"><div class=\"sk-item\"><div class=\"sk-estimator fitted sk-toggleable\"><input class=\"sk-toggleable__control sk-hidden--visually\" id=\"sk-estimator-id-33\" type=\"checkbox\" ><label for=\"sk-estimator-id-33\" class=\"sk-toggleable__label fitted sk-toggleable__label-arrow\"><div><div>SimpleImputer</div></div><div><a class=\"sk-estimator-doc-link fitted\" rel=\"noreferrer\" target=\"_blank\" href=\"https://scikit-learn.org/1.6/modules/generated/sklearn.impute.SimpleImputer.html\">?<span>Documentation for SimpleImputer</span></a></div></label><div class=\"sk-toggleable__content fitted\"><pre>SimpleImputer(strategy=&#x27;most_frequent&#x27;)</pre></div> </div></div><div class=\"sk-item\"><div class=\"sk-estimator fitted sk-toggleable\"><input class=\"sk-toggleable__control sk-hidden--visually\" id=\"sk-estimator-id-34\" type=\"checkbox\" ><label for=\"sk-estimator-id-34\" class=\"sk-toggleable__label fitted sk-toggleable__label-arrow\"><div><div>OneHotEncoder</div></div><div><a class=\"sk-estimator-doc-link fitted\" rel=\"noreferrer\" target=\"_blank\" href=\"https://scikit-learn.org/1.6/modules/generated/sklearn.preprocessing.OneHotEncoder.html\">?<span>Documentation for OneHotEncoder</span></a></div></label><div class=\"sk-toggleable__content fitted\"><pre>OneHotEncoder(drop=&#x27;first&#x27;, handle_unknown=&#x27;ignore&#x27;)</pre></div> </div></div><div class=\"sk-item\"><div class=\"sk-estimator fitted sk-toggleable\"><input class=\"sk-toggleable__control sk-hidden--visually\" id=\"sk-estimator-id-35\" type=\"checkbox\" ><label for=\"sk-estimator-id-35\" class=\"sk-toggleable__label fitted sk-toggleable__label-arrow\"><div><div>MaxAbsScaler</div></div><div><a class=\"sk-estimator-doc-link fitted\" rel=\"noreferrer\" target=\"_blank\" href=\"https://scikit-learn.org/1.6/modules/generated/sklearn.preprocessing.MaxAbsScaler.html\">?<span>Documentation for MaxAbsScaler</span></a></div></label><div class=\"sk-toggleable__content fitted\"><pre>MaxAbsScaler()</pre></div> </div></div></div></div></div></div></div><div class=\"sk-parallel-item\"><div class=\"sk-item\"><div class=\"sk-label-container\"><div class=\"sk-label fitted sk-toggleable\"><input class=\"sk-toggleable__control sk-hidden--visually\" id=\"sk-estimator-id-36\" type=\"checkbox\" ><label for=\"sk-estimator-id-36\" class=\"sk-toggleable__label fitted sk-toggleable__label-arrow\"><div><div>remainder</div></div></label><div class=\"sk-toggleable__content fitted\"><pre>[]</pre></div> </div></div><div class=\"sk-serial\"><div class=\"sk-item\"><div class=\"sk-estimator fitted sk-toggleable\"><input class=\"sk-toggleable__control sk-hidden--visually\" id=\"sk-estimator-id-37\" type=\"checkbox\" ><label for=\"sk-estimator-id-37\" class=\"sk-toggleable__label fitted sk-toggleable__label-arrow\"><div><div>passthrough</div></div></label><div class=\"sk-toggleable__content fitted\"><pre>passthrough</pre></div> </div></div></div></div></div></div></div><div class=\"sk-item\"><div class=\"sk-estimator fitted sk-toggleable\"><input class=\"sk-toggleable__control sk-hidden--visually\" id=\"sk-estimator-id-38\" type=\"checkbox\" ><label for=\"sk-estimator-id-38\" class=\"sk-toggleable__label fitted sk-toggleable__label-arrow\"><div><div>SMOTE</div></div></label><div class=\"sk-toggleable__content fitted\"><pre>SMOTE(n_jobs=-1, sampling_strategy=&#x27;minority&#x27;)</pre></div> </div></div><div class=\"sk-item\"><div class=\"sk-estimator fitted sk-toggleable\"><input class=\"sk-toggleable__control sk-hidden--visually\" id=\"sk-estimator-id-39\" type=\"checkbox\" ><label for=\"sk-estimator-id-39\" class=\"sk-toggleable__label fitted sk-toggleable__label-arrow\"><div><div>None</div></div></label><div class=\"sk-toggleable__content fitted\"><pre>None</pre></div> </div></div><div class=\"sk-item\"><div class=\"sk-estimator fitted sk-toggleable\"><input class=\"sk-toggleable__control sk-hidden--visually\" id=\"sk-estimator-id-40\" type=\"checkbox\" ><label for=\"sk-estimator-id-40\" class=\"sk-toggleable__label fitted sk-toggleable__label-arrow\"><div><div>RandomForestClassifier</div></div><div><a class=\"sk-estimator-doc-link fitted\" rel=\"noreferrer\" target=\"_blank\" href=\"https://scikit-learn.org/1.6/modules/generated/sklearn.ensemble.RandomForestClassifier.html\">?<span>Documentation for RandomForestClassifier</span></a></div></label><div class=\"sk-toggleable__content fitted\"><pre>RandomForestClassifier(max_depth=10, min_samples_leaf=2, random_state=42)</pre></div> </div></div></div></div></div></div>"
      ],
      "text/plain": [
       "Pipeline(steps=[('transformation',\n",
       "                 ColumnTransformer(remainder='passthrough', sparse_threshold=0,\n",
       "                                   transformers=[('numerical',\n",
       "                                                  Pipeline(steps=[('null',\n",
       "                                                                   SimpleImputer()),\n",
       "                                                                  ('min_max',\n",
       "                                                                   MinMaxScaler())]),\n",
       "                                                  ['Depression', 'Insomnia',\n",
       "                                                   'OCD', 'Age',\n",
       "                                                   'Hours per day']),\n",
       "                                                 ('bpm',\n",
       "                                                  Pipeline(steps=[('imputer',\n",
       "                                                                   BPMImputer()),\n",
       "                                                                  ('scaler',\n",
       "                                                                   MinMaxScaler())]),\n",
       "                                                  ['BPM', 'Fav genre']),\n",
       "                                                 ('categor...\n",
       "                                                                   SimpleImputer(strategy='most_frequent')),\n",
       "                                                                  ('one_hot_encoder',\n",
       "                                                                   OneHotEncoder(drop='first',\n",
       "                                                                                 handle_unknown='ignore')),\n",
       "                                                                  ('max_abs',\n",
       "                                                                   MaxAbsScaler())]),\n",
       "                                                  ['Fav genre'])],\n",
       "                                   verbose_feature_names_out=False)),\n",
       "                ('sampler', SMOTE(n_jobs=-1, sampling_strategy='minority')),\n",
       "                ('dim_reduction', None),\n",
       "                ('classifier',\n",
       "                 RandomForestClassifier(max_depth=10, min_samples_leaf=2,\n",
       "                                        random_state=42))])"
      ]
     },
     "execution_count": 38,
     "metadata": {},
     "output_type": "execute_result"
    }
   ],
   "source": [
    "estimator.best_estimator_"
   ]
  },
  {
   "cell_type": "markdown",
   "metadata": {},
   "source": [
    "We can observe that the best model consists of *SMOTE* for oversampling and *RandomForestClassifier* as the classifier, while no dimensionality reduction technique is applied.\n",
    "\n",
    "- The inclusion of SMOTE with the <code>sampling_strategy='minority'</code> suggests that class imbalance is addressed by generating synthetic samples for the minority class, improving the model's performance on imbalanced data.\n",
    "- The lack of dimensionality reduction indicates that the model is capable of handling the full feature set effectively without excessive overfitting."
   ]
  },
  {
   "cell_type": "markdown",
   "metadata": {},
   "source": [
    "Get the paramters of the best estimator through the <code>get_params()</code> method."
   ]
  },
  {
   "cell_type": "code",
   "execution_count": 39,
   "metadata": {
    "cell_id": "c49c4517faf347528f870cd5e3f45570",
    "deepnote_cell_type": "code",
    "execution_context_id": "2e019826-2cb7-4cf6-ad65-5315e28835ce",
    "execution_millis": 0,
    "execution_start": 1738072896590,
    "source_hash": "aebfcc32"
   },
   "outputs": [
    {
     "data": {
      "text/html": [
       "<style>#sk-container-id-3 {\n",
       "  /* Definition of color scheme common for light and dark mode */\n",
       "  --sklearn-color-text: #000;\n",
       "  --sklearn-color-text-muted: #666;\n",
       "  --sklearn-color-line: gray;\n",
       "  /* Definition of color scheme for unfitted estimators */\n",
       "  --sklearn-color-unfitted-level-0: #fff5e6;\n",
       "  --sklearn-color-unfitted-level-1: #f6e4d2;\n",
       "  --sklearn-color-unfitted-level-2: #ffe0b3;\n",
       "  --sklearn-color-unfitted-level-3: chocolate;\n",
       "  /* Definition of color scheme for fitted estimators */\n",
       "  --sklearn-color-fitted-level-0: #f0f8ff;\n",
       "  --sklearn-color-fitted-level-1: #d4ebff;\n",
       "  --sklearn-color-fitted-level-2: #b3dbfd;\n",
       "  --sklearn-color-fitted-level-3: cornflowerblue;\n",
       "\n",
       "  /* Specific color for light theme */\n",
       "  --sklearn-color-text-on-default-background: var(--sg-text-color, var(--theme-code-foreground, var(--jp-content-font-color1, black)));\n",
       "  --sklearn-color-background: var(--sg-background-color, var(--theme-background, var(--jp-layout-color0, white)));\n",
       "  --sklearn-color-border-box: var(--sg-text-color, var(--theme-code-foreground, var(--jp-content-font-color1, black)));\n",
       "  --sklearn-color-icon: #696969;\n",
       "\n",
       "  @media (prefers-color-scheme: dark) {\n",
       "    /* Redefinition of color scheme for dark theme */\n",
       "    --sklearn-color-text-on-default-background: var(--sg-text-color, var(--theme-code-foreground, var(--jp-content-font-color1, white)));\n",
       "    --sklearn-color-background: var(--sg-background-color, var(--theme-background, var(--jp-layout-color0, #111)));\n",
       "    --sklearn-color-border-box: var(--sg-text-color, var(--theme-code-foreground, var(--jp-content-font-color1, white)));\n",
       "    --sklearn-color-icon: #878787;\n",
       "  }\n",
       "}\n",
       "\n",
       "#sk-container-id-3 {\n",
       "  color: var(--sklearn-color-text);\n",
       "}\n",
       "\n",
       "#sk-container-id-3 pre {\n",
       "  padding: 0;\n",
       "}\n",
       "\n",
       "#sk-container-id-3 input.sk-hidden--visually {\n",
       "  border: 0;\n",
       "  clip: rect(1px 1px 1px 1px);\n",
       "  clip: rect(1px, 1px, 1px, 1px);\n",
       "  height: 1px;\n",
       "  margin: -1px;\n",
       "  overflow: hidden;\n",
       "  padding: 0;\n",
       "  position: absolute;\n",
       "  width: 1px;\n",
       "}\n",
       "\n",
       "#sk-container-id-3 div.sk-dashed-wrapped {\n",
       "  border: 1px dashed var(--sklearn-color-line);\n",
       "  margin: 0 0.4em 0.5em 0.4em;\n",
       "  box-sizing: border-box;\n",
       "  padding-bottom: 0.4em;\n",
       "  background-color: var(--sklearn-color-background);\n",
       "}\n",
       "\n",
       "#sk-container-id-3 div.sk-container {\n",
       "  /* jupyter's `normalize.less` sets `[hidden] { display: none; }`\n",
       "     but bootstrap.min.css set `[hidden] { display: none !important; }`\n",
       "     so we also need the `!important` here to be able to override the\n",
       "     default hidden behavior on the sphinx rendered scikit-learn.org.\n",
       "     See: https://github.com/scikit-learn/scikit-learn/issues/21755 */\n",
       "  display: inline-block !important;\n",
       "  position: relative;\n",
       "}\n",
       "\n",
       "#sk-container-id-3 div.sk-text-repr-fallback {\n",
       "  display: none;\n",
       "}\n",
       "\n",
       "div.sk-parallel-item,\n",
       "div.sk-serial,\n",
       "div.sk-item {\n",
       "  /* draw centered vertical line to link estimators */\n",
       "  background-image: linear-gradient(var(--sklearn-color-text-on-default-background), var(--sklearn-color-text-on-default-background));\n",
       "  background-size: 2px 100%;\n",
       "  background-repeat: no-repeat;\n",
       "  background-position: center center;\n",
       "}\n",
       "\n",
       "/* Parallel-specific style estimator block */\n",
       "\n",
       "#sk-container-id-3 div.sk-parallel-item::after {\n",
       "  content: \"\";\n",
       "  width: 100%;\n",
       "  border-bottom: 2px solid var(--sklearn-color-text-on-default-background);\n",
       "  flex-grow: 1;\n",
       "}\n",
       "\n",
       "#sk-container-id-3 div.sk-parallel {\n",
       "  display: flex;\n",
       "  align-items: stretch;\n",
       "  justify-content: center;\n",
       "  background-color: var(--sklearn-color-background);\n",
       "  position: relative;\n",
       "}\n",
       "\n",
       "#sk-container-id-3 div.sk-parallel-item {\n",
       "  display: flex;\n",
       "  flex-direction: column;\n",
       "}\n",
       "\n",
       "#sk-container-id-3 div.sk-parallel-item:first-child::after {\n",
       "  align-self: flex-end;\n",
       "  width: 50%;\n",
       "}\n",
       "\n",
       "#sk-container-id-3 div.sk-parallel-item:last-child::after {\n",
       "  align-self: flex-start;\n",
       "  width: 50%;\n",
       "}\n",
       "\n",
       "#sk-container-id-3 div.sk-parallel-item:only-child::after {\n",
       "  width: 0;\n",
       "}\n",
       "\n",
       "/* Serial-specific style estimator block */\n",
       "\n",
       "#sk-container-id-3 div.sk-serial {\n",
       "  display: flex;\n",
       "  flex-direction: column;\n",
       "  align-items: center;\n",
       "  background-color: var(--sklearn-color-background);\n",
       "  padding-right: 1em;\n",
       "  padding-left: 1em;\n",
       "}\n",
       "\n",
       "\n",
       "/* Toggleable style: style used for estimator/Pipeline/ColumnTransformer box that is\n",
       "clickable and can be expanded/collapsed.\n",
       "- Pipeline and ColumnTransformer use this feature and define the default style\n",
       "- Estimators will overwrite some part of the style using the `sk-estimator` class\n",
       "*/\n",
       "\n",
       "/* Pipeline and ColumnTransformer style (default) */\n",
       "\n",
       "#sk-container-id-3 div.sk-toggleable {\n",
       "  /* Default theme specific background. It is overwritten whether we have a\n",
       "  specific estimator or a Pipeline/ColumnTransformer */\n",
       "  background-color: var(--sklearn-color-background);\n",
       "}\n",
       "\n",
       "/* Toggleable label */\n",
       "#sk-container-id-3 label.sk-toggleable__label {\n",
       "  cursor: pointer;\n",
       "  display: flex;\n",
       "  width: 100%;\n",
       "  margin-bottom: 0;\n",
       "  padding: 0.5em;\n",
       "  box-sizing: border-box;\n",
       "  text-align: center;\n",
       "  align-items: start;\n",
       "  justify-content: space-between;\n",
       "  gap: 0.5em;\n",
       "}\n",
       "\n",
       "#sk-container-id-3 label.sk-toggleable__label .caption {\n",
       "  font-size: 0.6rem;\n",
       "  font-weight: lighter;\n",
       "  color: var(--sklearn-color-text-muted);\n",
       "}\n",
       "\n",
       "#sk-container-id-3 label.sk-toggleable__label-arrow:before {\n",
       "  /* Arrow on the left of the label */\n",
       "  content: \"▸\";\n",
       "  float: left;\n",
       "  margin-right: 0.25em;\n",
       "  color: var(--sklearn-color-icon);\n",
       "}\n",
       "\n",
       "#sk-container-id-3 label.sk-toggleable__label-arrow:hover:before {\n",
       "  color: var(--sklearn-color-text);\n",
       "}\n",
       "\n",
       "/* Toggleable content - dropdown */\n",
       "\n",
       "#sk-container-id-3 div.sk-toggleable__content {\n",
       "  max-height: 0;\n",
       "  max-width: 0;\n",
       "  overflow: hidden;\n",
       "  text-align: left;\n",
       "  /* unfitted */\n",
       "  background-color: var(--sklearn-color-unfitted-level-0);\n",
       "}\n",
       "\n",
       "#sk-container-id-3 div.sk-toggleable__content.fitted {\n",
       "  /* fitted */\n",
       "  background-color: var(--sklearn-color-fitted-level-0);\n",
       "}\n",
       "\n",
       "#sk-container-id-3 div.sk-toggleable__content pre {\n",
       "  margin: 0.2em;\n",
       "  border-radius: 0.25em;\n",
       "  color: var(--sklearn-color-text);\n",
       "  /* unfitted */\n",
       "  background-color: var(--sklearn-color-unfitted-level-0);\n",
       "}\n",
       "\n",
       "#sk-container-id-3 div.sk-toggleable__content.fitted pre {\n",
       "  /* unfitted */\n",
       "  background-color: var(--sklearn-color-fitted-level-0);\n",
       "}\n",
       "\n",
       "#sk-container-id-3 input.sk-toggleable__control:checked~div.sk-toggleable__content {\n",
       "  /* Expand drop-down */\n",
       "  max-height: 200px;\n",
       "  max-width: 100%;\n",
       "  overflow: auto;\n",
       "}\n",
       "\n",
       "#sk-container-id-3 input.sk-toggleable__control:checked~label.sk-toggleable__label-arrow:before {\n",
       "  content: \"▾\";\n",
       "}\n",
       "\n",
       "/* Pipeline/ColumnTransformer-specific style */\n",
       "\n",
       "#sk-container-id-3 div.sk-label input.sk-toggleable__control:checked~label.sk-toggleable__label {\n",
       "  color: var(--sklearn-color-text);\n",
       "  background-color: var(--sklearn-color-unfitted-level-2);\n",
       "}\n",
       "\n",
       "#sk-container-id-3 div.sk-label.fitted input.sk-toggleable__control:checked~label.sk-toggleable__label {\n",
       "  background-color: var(--sklearn-color-fitted-level-2);\n",
       "}\n",
       "\n",
       "/* Estimator-specific style */\n",
       "\n",
       "/* Colorize estimator box */\n",
       "#sk-container-id-3 div.sk-estimator input.sk-toggleable__control:checked~label.sk-toggleable__label {\n",
       "  /* unfitted */\n",
       "  background-color: var(--sklearn-color-unfitted-level-2);\n",
       "}\n",
       "\n",
       "#sk-container-id-3 div.sk-estimator.fitted input.sk-toggleable__control:checked~label.sk-toggleable__label {\n",
       "  /* fitted */\n",
       "  background-color: var(--sklearn-color-fitted-level-2);\n",
       "}\n",
       "\n",
       "#sk-container-id-3 div.sk-label label.sk-toggleable__label,\n",
       "#sk-container-id-3 div.sk-label label {\n",
       "  /* The background is the default theme color */\n",
       "  color: var(--sklearn-color-text-on-default-background);\n",
       "}\n",
       "\n",
       "/* On hover, darken the color of the background */\n",
       "#sk-container-id-3 div.sk-label:hover label.sk-toggleable__label {\n",
       "  color: var(--sklearn-color-text);\n",
       "  background-color: var(--sklearn-color-unfitted-level-2);\n",
       "}\n",
       "\n",
       "/* Label box, darken color on hover, fitted */\n",
       "#sk-container-id-3 div.sk-label.fitted:hover label.sk-toggleable__label.fitted {\n",
       "  color: var(--sklearn-color-text);\n",
       "  background-color: var(--sklearn-color-fitted-level-2);\n",
       "}\n",
       "\n",
       "/* Estimator label */\n",
       "\n",
       "#sk-container-id-3 div.sk-label label {\n",
       "  font-family: monospace;\n",
       "  font-weight: bold;\n",
       "  display: inline-block;\n",
       "  line-height: 1.2em;\n",
       "}\n",
       "\n",
       "#sk-container-id-3 div.sk-label-container {\n",
       "  text-align: center;\n",
       "}\n",
       "\n",
       "/* Estimator-specific */\n",
       "#sk-container-id-3 div.sk-estimator {\n",
       "  font-family: monospace;\n",
       "  border: 1px dotted var(--sklearn-color-border-box);\n",
       "  border-radius: 0.25em;\n",
       "  box-sizing: border-box;\n",
       "  margin-bottom: 0.5em;\n",
       "  /* unfitted */\n",
       "  background-color: var(--sklearn-color-unfitted-level-0);\n",
       "}\n",
       "\n",
       "#sk-container-id-3 div.sk-estimator.fitted {\n",
       "  /* fitted */\n",
       "  background-color: var(--sklearn-color-fitted-level-0);\n",
       "}\n",
       "\n",
       "/* on hover */\n",
       "#sk-container-id-3 div.sk-estimator:hover {\n",
       "  /* unfitted */\n",
       "  background-color: var(--sklearn-color-unfitted-level-2);\n",
       "}\n",
       "\n",
       "#sk-container-id-3 div.sk-estimator.fitted:hover {\n",
       "  /* fitted */\n",
       "  background-color: var(--sklearn-color-fitted-level-2);\n",
       "}\n",
       "\n",
       "/* Specification for estimator info (e.g. \"i\" and \"?\") */\n",
       "\n",
       "/* Common style for \"i\" and \"?\" */\n",
       "\n",
       ".sk-estimator-doc-link,\n",
       "a:link.sk-estimator-doc-link,\n",
       "a:visited.sk-estimator-doc-link {\n",
       "  float: right;\n",
       "  font-size: smaller;\n",
       "  line-height: 1em;\n",
       "  font-family: monospace;\n",
       "  background-color: var(--sklearn-color-background);\n",
       "  border-radius: 1em;\n",
       "  height: 1em;\n",
       "  width: 1em;\n",
       "  text-decoration: none !important;\n",
       "  margin-left: 0.5em;\n",
       "  text-align: center;\n",
       "  /* unfitted */\n",
       "  border: var(--sklearn-color-unfitted-level-1) 1pt solid;\n",
       "  color: var(--sklearn-color-unfitted-level-1);\n",
       "}\n",
       "\n",
       ".sk-estimator-doc-link.fitted,\n",
       "a:link.sk-estimator-doc-link.fitted,\n",
       "a:visited.sk-estimator-doc-link.fitted {\n",
       "  /* fitted */\n",
       "  border: var(--sklearn-color-fitted-level-1) 1pt solid;\n",
       "  color: var(--sklearn-color-fitted-level-1);\n",
       "}\n",
       "\n",
       "/* On hover */\n",
       "div.sk-estimator:hover .sk-estimator-doc-link:hover,\n",
       ".sk-estimator-doc-link:hover,\n",
       "div.sk-label-container:hover .sk-estimator-doc-link:hover,\n",
       ".sk-estimator-doc-link:hover {\n",
       "  /* unfitted */\n",
       "  background-color: var(--sklearn-color-unfitted-level-3);\n",
       "  color: var(--sklearn-color-background);\n",
       "  text-decoration: none;\n",
       "}\n",
       "\n",
       "div.sk-estimator.fitted:hover .sk-estimator-doc-link.fitted:hover,\n",
       ".sk-estimator-doc-link.fitted:hover,\n",
       "div.sk-label-container:hover .sk-estimator-doc-link.fitted:hover,\n",
       ".sk-estimator-doc-link.fitted:hover {\n",
       "  /* fitted */\n",
       "  background-color: var(--sklearn-color-fitted-level-3);\n",
       "  color: var(--sklearn-color-background);\n",
       "  text-decoration: none;\n",
       "}\n",
       "\n",
       "/* Span, style for the box shown on hovering the info icon */\n",
       ".sk-estimator-doc-link span {\n",
       "  display: none;\n",
       "  z-index: 9999;\n",
       "  position: relative;\n",
       "  font-weight: normal;\n",
       "  right: .2ex;\n",
       "  padding: .5ex;\n",
       "  margin: .5ex;\n",
       "  width: min-content;\n",
       "  min-width: 20ex;\n",
       "  max-width: 50ex;\n",
       "  color: var(--sklearn-color-text);\n",
       "  box-shadow: 2pt 2pt 4pt #999;\n",
       "  /* unfitted */\n",
       "  background: var(--sklearn-color-unfitted-level-0);\n",
       "  border: .5pt solid var(--sklearn-color-unfitted-level-3);\n",
       "}\n",
       "\n",
       ".sk-estimator-doc-link.fitted span {\n",
       "  /* fitted */\n",
       "  background: var(--sklearn-color-fitted-level-0);\n",
       "  border: var(--sklearn-color-fitted-level-3);\n",
       "}\n",
       "\n",
       ".sk-estimator-doc-link:hover span {\n",
       "  display: block;\n",
       "}\n",
       "\n",
       "/* \"?\"-specific style due to the `<a>` HTML tag */\n",
       "\n",
       "#sk-container-id-3 a.estimator_doc_link {\n",
       "  float: right;\n",
       "  font-size: 1rem;\n",
       "  line-height: 1em;\n",
       "  font-family: monospace;\n",
       "  background-color: var(--sklearn-color-background);\n",
       "  border-radius: 1rem;\n",
       "  height: 1rem;\n",
       "  width: 1rem;\n",
       "  text-decoration: none;\n",
       "  /* unfitted */\n",
       "  color: var(--sklearn-color-unfitted-level-1);\n",
       "  border: var(--sklearn-color-unfitted-level-1) 1pt solid;\n",
       "}\n",
       "\n",
       "#sk-container-id-3 a.estimator_doc_link.fitted {\n",
       "  /* fitted */\n",
       "  border: var(--sklearn-color-fitted-level-1) 1pt solid;\n",
       "  color: var(--sklearn-color-fitted-level-1);\n",
       "}\n",
       "\n",
       "/* On hover */\n",
       "#sk-container-id-3 a.estimator_doc_link:hover {\n",
       "  /* unfitted */\n",
       "  background-color: var(--sklearn-color-unfitted-level-3);\n",
       "  color: var(--sklearn-color-background);\n",
       "  text-decoration: none;\n",
       "}\n",
       "\n",
       "#sk-container-id-3 a.estimator_doc_link.fitted:hover {\n",
       "  /* fitted */\n",
       "  background-color: var(--sklearn-color-fitted-level-3);\n",
       "}\n",
       "</style><div id=\"sk-container-id-3\" class=\"sk-top-container\"><div class=\"sk-text-repr-fallback\"><pre>RandomForestClassifier(max_depth=10, min_samples_leaf=2, random_state=42)</pre><b>In a Jupyter environment, please rerun this cell to show the HTML representation or trust the notebook. <br />On GitHub, the HTML representation is unable to render, please try loading this page with nbviewer.org.</b></div><div class=\"sk-container\" hidden><div class=\"sk-item\"><div class=\"sk-estimator fitted sk-toggleable\"><input class=\"sk-toggleable__control sk-hidden--visually\" id=\"sk-estimator-id-41\" type=\"checkbox\" checked><label for=\"sk-estimator-id-41\" class=\"sk-toggleable__label fitted sk-toggleable__label-arrow\"><div><div>RandomForestClassifier</div></div><div><a class=\"sk-estimator-doc-link fitted\" rel=\"noreferrer\" target=\"_blank\" href=\"https://scikit-learn.org/1.6/modules/generated/sklearn.ensemble.RandomForestClassifier.html\">?<span>Documentation for RandomForestClassifier</span></a><span class=\"sk-estimator-doc-link fitted\">i<span>Fitted</span></span></div></label><div class=\"sk-toggleable__content fitted\"><pre>RandomForestClassifier(max_depth=10, min_samples_leaf=2, random_state=42)</pre></div> </div></div></div></div>"
      ],
      "text/plain": [
       "RandomForestClassifier(max_depth=10, min_samples_leaf=2, random_state=42)"
      ]
     },
     "execution_count": 39,
     "metadata": {},
     "output_type": "execute_result"
    }
   ],
   "source": [
    "best_classifier = estimator.best_estimator_.get_params()['classifier']\n",
    "best_classifier"
   ]
  },
  {
   "cell_type": "markdown",
   "metadata": {
    "cell_id": "5c359de74cbf466c9ce458f8428cd532",
    "deepnote_cell_type": "text-cell-p",
    "formattedRanges": [
     {
      "fromCodePoint": 42,
      "marks": {
       "bold": true
      },
      "toCodePoint": 65,
      "type": "marks"
     }
    ]
   },
   "source": [
    "The *RandomForestClassifier* is configured with a *maximum depth* of 10, a *min_samples_leaf* of 2 (ensuring each leaf node contains at least 2 samples), and the random state is fixed at 42 for reproducibility."
   ]
  },
  {
   "cell_type": "markdown",
   "metadata": {
    "cell_id": "dd19122fb45448a1949ecc277d0dc88f",
    "deepnote_cell_type": "text-cell-h1",
    "formattedRanges": []
   },
   "source": [
    "# Refinement of the selected model"
   ]
  },
  {
   "cell_type": "markdown",
   "metadata": {},
   "source": [
    "Now that the best model has been selected, the next step is to tune its hyperparameters for optimal performance.\n",
    "\n",
    "I firstly define the <code>best_model_pipeline</code> :"
   ]
  },
  {
   "cell_type": "code",
   "execution_count": 35,
   "metadata": {
    "cell_id": "26b51e72c1ab4b1380229e6717a3d80f",
    "deepnote_cell_type": "code",
    "execution_context_id": "bd6ba632-1d63-4e06-aab9-a07fb8971418",
    "execution_millis": 7,
    "execution_start": 1738081291005,
    "source_hash": "86af1020"
   },
   "outputs": [],
   "source": [
    "best_model_pipeline = IMBPipeline([\n",
    "    ('transformation', data_transformer),\n",
    "    ('sampler', SMOTE(\n",
    "        n_jobs=-1,\n",
    "        sampling_strategy='minority'\n",
    "    )),\n",
    "    ('dim_reduction',None),\n",
    "    ('classifier', RandomForestClassifier(\n",
    "        max_depth=10,\n",
    "        min_samples_leaf=2,\n",
    "        random_state=42\n",
    "    ))\n",
    "])"
   ]
  },
  {
   "cell_type": "markdown",
   "metadata": {
    "cell_id": "9ffea8a450c5419e9f6191c7d6aee2e4",
    "deepnote_cell_type": "text-cell-p",
    "formattedRanges": [
     {
      "fromCodePoint": 19,
      "marks": {
       "bold": true
      },
      "toCodePoint": 35,
      "type": "marks"
     }
    ]
   },
   "source": [
    "The list of possible hyperparameters for the best model pipeline includes SMOTE's <code>sampling_strategy</code>, the Random Forest's maximum tree depth (<code>max_depth</code>), and minimum number of samples per leaf (<code>min_samples_leaf</code>)."
   ]
  },
  {
   "cell_type": "code",
   "execution_count": 36,
   "metadata": {
    "cell_id": "8e9ae83c6862432e974f1d1eab787bdf",
    "deepnote_cell_type": "code",
    "execution_context_id": "bd6ba632-1d63-4e06-aab9-a07fb8971418",
    "execution_millis": 0,
    "execution_start": 1738081291063,
    "source_hash": "895e9112"
   },
   "outputs": [],
   "source": [
    "params = {\n",
    "    # Hyperparameters for SMOTE\n",
    "    'sampler__sampling_strategy': ['minority', 0.9, 0.7],\n",
    "    #Hyperparameters for RandomForestClassifier\n",
    "    'classifier__max_depth': [5, 10, 20, 30, 50],\n",
    "    'classifier__min_samples_leaf': [1,2,3,5]\n",
    "}"
   ]
  },
  {
   "cell_type": "markdown",
   "metadata": {},
   "source": [
    "To identify the best hyperparameter configuration, I define a *RandomizedSearchCV* object with *100 random parameter combinations*, *2-fold cross-validation*, *F1 as the scoring metric*, and *parallel processing* for efficiency."
   ]
  },
  {
   "cell_type": "code",
   "execution_count": 37,
   "metadata": {
    "cell_id": "2024d442bb8d4f98b6a9cd860f49a1e0",
    "deepnote_cell_type": "code",
    "execution_context_id": "bd6ba632-1d63-4e06-aab9-a07fb8971418",
    "execution_millis": 0,
    "execution_start": 1738081291112,
    "source_hash": "6265c579"
   },
   "outputs": [],
   "source": [
    "best_rs = RandomizedSearchCV(\n",
    "    estimator=best_model_pipeline,                       # The pipeline to optimize\n",
    "    param_distributions=params,                          # Parameter configurations to test\n",
    "    n_iter=100,                                          # Number of configurations to try\n",
    "    n_jobs=-1,                                           # Number of jobs to run in parallel\n",
    "    cv=2,                                                # 2-fold cross-validation\n",
    "    scoring='f1',                                        # Scoring metric\n",
    "    error_score='raise',                                 # Display errors\n",
    "    random_state=42                                      # Ensure reproducibility\n",
    ")"
   ]
  },
  {
   "cell_type": "markdown",
   "metadata": {},
   "source": [
    "Run the <code>fit</code> method to train the dataset on the best model pipeline using the specified hyperparameter configurations and cross-validation settings."
   ]
  },
  {
   "cell_type": "code",
   "execution_count": 38,
   "metadata": {
    "cell_id": "534524ebd6904da6b5b2e4ff93a6bf69",
    "deepnote_cell_type": "code",
    "execution_context_id": "bd6ba632-1d63-4e06-aab9-a07fb8971418",
    "execution_millis": 29140,
    "execution_start": 1738081291163,
    "source_hash": "8e6fcca4"
   },
   "outputs": [
    {
     "data": {
      "text/html": [
       "<style>#sk-container-id-2 {\n",
       "  /* Definition of color scheme common for light and dark mode */\n",
       "  --sklearn-color-text: #000;\n",
       "  --sklearn-color-text-muted: #666;\n",
       "  --sklearn-color-line: gray;\n",
       "  /* Definition of color scheme for unfitted estimators */\n",
       "  --sklearn-color-unfitted-level-0: #fff5e6;\n",
       "  --sklearn-color-unfitted-level-1: #f6e4d2;\n",
       "  --sklearn-color-unfitted-level-2: #ffe0b3;\n",
       "  --sklearn-color-unfitted-level-3: chocolate;\n",
       "  /* Definition of color scheme for fitted estimators */\n",
       "  --sklearn-color-fitted-level-0: #f0f8ff;\n",
       "  --sklearn-color-fitted-level-1: #d4ebff;\n",
       "  --sklearn-color-fitted-level-2: #b3dbfd;\n",
       "  --sklearn-color-fitted-level-3: cornflowerblue;\n",
       "\n",
       "  /* Specific color for light theme */\n",
       "  --sklearn-color-text-on-default-background: var(--sg-text-color, var(--theme-code-foreground, var(--jp-content-font-color1, black)));\n",
       "  --sklearn-color-background: var(--sg-background-color, var(--theme-background, var(--jp-layout-color0, white)));\n",
       "  --sklearn-color-border-box: var(--sg-text-color, var(--theme-code-foreground, var(--jp-content-font-color1, black)));\n",
       "  --sklearn-color-icon: #696969;\n",
       "\n",
       "  @media (prefers-color-scheme: dark) {\n",
       "    /* Redefinition of color scheme for dark theme */\n",
       "    --sklearn-color-text-on-default-background: var(--sg-text-color, var(--theme-code-foreground, var(--jp-content-font-color1, white)));\n",
       "    --sklearn-color-background: var(--sg-background-color, var(--theme-background, var(--jp-layout-color0, #111)));\n",
       "    --sklearn-color-border-box: var(--sg-text-color, var(--theme-code-foreground, var(--jp-content-font-color1, white)));\n",
       "    --sklearn-color-icon: #878787;\n",
       "  }\n",
       "}\n",
       "\n",
       "#sk-container-id-2 {\n",
       "  color: var(--sklearn-color-text);\n",
       "}\n",
       "\n",
       "#sk-container-id-2 pre {\n",
       "  padding: 0;\n",
       "}\n",
       "\n",
       "#sk-container-id-2 input.sk-hidden--visually {\n",
       "  border: 0;\n",
       "  clip: rect(1px 1px 1px 1px);\n",
       "  clip: rect(1px, 1px, 1px, 1px);\n",
       "  height: 1px;\n",
       "  margin: -1px;\n",
       "  overflow: hidden;\n",
       "  padding: 0;\n",
       "  position: absolute;\n",
       "  width: 1px;\n",
       "}\n",
       "\n",
       "#sk-container-id-2 div.sk-dashed-wrapped {\n",
       "  border: 1px dashed var(--sklearn-color-line);\n",
       "  margin: 0 0.4em 0.5em 0.4em;\n",
       "  box-sizing: border-box;\n",
       "  padding-bottom: 0.4em;\n",
       "  background-color: var(--sklearn-color-background);\n",
       "}\n",
       "\n",
       "#sk-container-id-2 div.sk-container {\n",
       "  /* jupyter's `normalize.less` sets `[hidden] { display: none; }`\n",
       "     but bootstrap.min.css set `[hidden] { display: none !important; }`\n",
       "     so we also need the `!important` here to be able to override the\n",
       "     default hidden behavior on the sphinx rendered scikit-learn.org.\n",
       "     See: https://github.com/scikit-learn/scikit-learn/issues/21755 */\n",
       "  display: inline-block !important;\n",
       "  position: relative;\n",
       "}\n",
       "\n",
       "#sk-container-id-2 div.sk-text-repr-fallback {\n",
       "  display: none;\n",
       "}\n",
       "\n",
       "div.sk-parallel-item,\n",
       "div.sk-serial,\n",
       "div.sk-item {\n",
       "  /* draw centered vertical line to link estimators */\n",
       "  background-image: linear-gradient(var(--sklearn-color-text-on-default-background), var(--sklearn-color-text-on-default-background));\n",
       "  background-size: 2px 100%;\n",
       "  background-repeat: no-repeat;\n",
       "  background-position: center center;\n",
       "}\n",
       "\n",
       "/* Parallel-specific style estimator block */\n",
       "\n",
       "#sk-container-id-2 div.sk-parallel-item::after {\n",
       "  content: \"\";\n",
       "  width: 100%;\n",
       "  border-bottom: 2px solid var(--sklearn-color-text-on-default-background);\n",
       "  flex-grow: 1;\n",
       "}\n",
       "\n",
       "#sk-container-id-2 div.sk-parallel {\n",
       "  display: flex;\n",
       "  align-items: stretch;\n",
       "  justify-content: center;\n",
       "  background-color: var(--sklearn-color-background);\n",
       "  position: relative;\n",
       "}\n",
       "\n",
       "#sk-container-id-2 div.sk-parallel-item {\n",
       "  display: flex;\n",
       "  flex-direction: column;\n",
       "}\n",
       "\n",
       "#sk-container-id-2 div.sk-parallel-item:first-child::after {\n",
       "  align-self: flex-end;\n",
       "  width: 50%;\n",
       "}\n",
       "\n",
       "#sk-container-id-2 div.sk-parallel-item:last-child::after {\n",
       "  align-self: flex-start;\n",
       "  width: 50%;\n",
       "}\n",
       "\n",
       "#sk-container-id-2 div.sk-parallel-item:only-child::after {\n",
       "  width: 0;\n",
       "}\n",
       "\n",
       "/* Serial-specific style estimator block */\n",
       "\n",
       "#sk-container-id-2 div.sk-serial {\n",
       "  display: flex;\n",
       "  flex-direction: column;\n",
       "  align-items: center;\n",
       "  background-color: var(--sklearn-color-background);\n",
       "  padding-right: 1em;\n",
       "  padding-left: 1em;\n",
       "}\n",
       "\n",
       "\n",
       "/* Toggleable style: style used for estimator/Pipeline/ColumnTransformer box that is\n",
       "clickable and can be expanded/collapsed.\n",
       "- Pipeline and ColumnTransformer use this feature and define the default style\n",
       "- Estimators will overwrite some part of the style using the `sk-estimator` class\n",
       "*/\n",
       "\n",
       "/* Pipeline and ColumnTransformer style (default) */\n",
       "\n",
       "#sk-container-id-2 div.sk-toggleable {\n",
       "  /* Default theme specific background. It is overwritten whether we have a\n",
       "  specific estimator or a Pipeline/ColumnTransformer */\n",
       "  background-color: var(--sklearn-color-background);\n",
       "}\n",
       "\n",
       "/* Toggleable label */\n",
       "#sk-container-id-2 label.sk-toggleable__label {\n",
       "  cursor: pointer;\n",
       "  display: flex;\n",
       "  width: 100%;\n",
       "  margin-bottom: 0;\n",
       "  padding: 0.5em;\n",
       "  box-sizing: border-box;\n",
       "  text-align: center;\n",
       "  align-items: start;\n",
       "  justify-content: space-between;\n",
       "  gap: 0.5em;\n",
       "}\n",
       "\n",
       "#sk-container-id-2 label.sk-toggleable__label .caption {\n",
       "  font-size: 0.6rem;\n",
       "  font-weight: lighter;\n",
       "  color: var(--sklearn-color-text-muted);\n",
       "}\n",
       "\n",
       "#sk-container-id-2 label.sk-toggleable__label-arrow:before {\n",
       "  /* Arrow on the left of the label */\n",
       "  content: \"▸\";\n",
       "  float: left;\n",
       "  margin-right: 0.25em;\n",
       "  color: var(--sklearn-color-icon);\n",
       "}\n",
       "\n",
       "#sk-container-id-2 label.sk-toggleable__label-arrow:hover:before {\n",
       "  color: var(--sklearn-color-text);\n",
       "}\n",
       "\n",
       "/* Toggleable content - dropdown */\n",
       "\n",
       "#sk-container-id-2 div.sk-toggleable__content {\n",
       "  max-height: 0;\n",
       "  max-width: 0;\n",
       "  overflow: hidden;\n",
       "  text-align: left;\n",
       "  /* unfitted */\n",
       "  background-color: var(--sklearn-color-unfitted-level-0);\n",
       "}\n",
       "\n",
       "#sk-container-id-2 div.sk-toggleable__content.fitted {\n",
       "  /* fitted */\n",
       "  background-color: var(--sklearn-color-fitted-level-0);\n",
       "}\n",
       "\n",
       "#sk-container-id-2 div.sk-toggleable__content pre {\n",
       "  margin: 0.2em;\n",
       "  border-radius: 0.25em;\n",
       "  color: var(--sklearn-color-text);\n",
       "  /* unfitted */\n",
       "  background-color: var(--sklearn-color-unfitted-level-0);\n",
       "}\n",
       "\n",
       "#sk-container-id-2 div.sk-toggleable__content.fitted pre {\n",
       "  /* unfitted */\n",
       "  background-color: var(--sklearn-color-fitted-level-0);\n",
       "}\n",
       "\n",
       "#sk-container-id-2 input.sk-toggleable__control:checked~div.sk-toggleable__content {\n",
       "  /* Expand drop-down */\n",
       "  max-height: 200px;\n",
       "  max-width: 100%;\n",
       "  overflow: auto;\n",
       "}\n",
       "\n",
       "#sk-container-id-2 input.sk-toggleable__control:checked~label.sk-toggleable__label-arrow:before {\n",
       "  content: \"▾\";\n",
       "}\n",
       "\n",
       "/* Pipeline/ColumnTransformer-specific style */\n",
       "\n",
       "#sk-container-id-2 div.sk-label input.sk-toggleable__control:checked~label.sk-toggleable__label {\n",
       "  color: var(--sklearn-color-text);\n",
       "  background-color: var(--sklearn-color-unfitted-level-2);\n",
       "}\n",
       "\n",
       "#sk-container-id-2 div.sk-label.fitted input.sk-toggleable__control:checked~label.sk-toggleable__label {\n",
       "  background-color: var(--sklearn-color-fitted-level-2);\n",
       "}\n",
       "\n",
       "/* Estimator-specific style */\n",
       "\n",
       "/* Colorize estimator box */\n",
       "#sk-container-id-2 div.sk-estimator input.sk-toggleable__control:checked~label.sk-toggleable__label {\n",
       "  /* unfitted */\n",
       "  background-color: var(--sklearn-color-unfitted-level-2);\n",
       "}\n",
       "\n",
       "#sk-container-id-2 div.sk-estimator.fitted input.sk-toggleable__control:checked~label.sk-toggleable__label {\n",
       "  /* fitted */\n",
       "  background-color: var(--sklearn-color-fitted-level-2);\n",
       "}\n",
       "\n",
       "#sk-container-id-2 div.sk-label label.sk-toggleable__label,\n",
       "#sk-container-id-2 div.sk-label label {\n",
       "  /* The background is the default theme color */\n",
       "  color: var(--sklearn-color-text-on-default-background);\n",
       "}\n",
       "\n",
       "/* On hover, darken the color of the background */\n",
       "#sk-container-id-2 div.sk-label:hover label.sk-toggleable__label {\n",
       "  color: var(--sklearn-color-text);\n",
       "  background-color: var(--sklearn-color-unfitted-level-2);\n",
       "}\n",
       "\n",
       "/* Label box, darken color on hover, fitted */\n",
       "#sk-container-id-2 div.sk-label.fitted:hover label.sk-toggleable__label.fitted {\n",
       "  color: var(--sklearn-color-text);\n",
       "  background-color: var(--sklearn-color-fitted-level-2);\n",
       "}\n",
       "\n",
       "/* Estimator label */\n",
       "\n",
       "#sk-container-id-2 div.sk-label label {\n",
       "  font-family: monospace;\n",
       "  font-weight: bold;\n",
       "  display: inline-block;\n",
       "  line-height: 1.2em;\n",
       "}\n",
       "\n",
       "#sk-container-id-2 div.sk-label-container {\n",
       "  text-align: center;\n",
       "}\n",
       "\n",
       "/* Estimator-specific */\n",
       "#sk-container-id-2 div.sk-estimator {\n",
       "  font-family: monospace;\n",
       "  border: 1px dotted var(--sklearn-color-border-box);\n",
       "  border-radius: 0.25em;\n",
       "  box-sizing: border-box;\n",
       "  margin-bottom: 0.5em;\n",
       "  /* unfitted */\n",
       "  background-color: var(--sklearn-color-unfitted-level-0);\n",
       "}\n",
       "\n",
       "#sk-container-id-2 div.sk-estimator.fitted {\n",
       "  /* fitted */\n",
       "  background-color: var(--sklearn-color-fitted-level-0);\n",
       "}\n",
       "\n",
       "/* on hover */\n",
       "#sk-container-id-2 div.sk-estimator:hover {\n",
       "  /* unfitted */\n",
       "  background-color: var(--sklearn-color-unfitted-level-2);\n",
       "}\n",
       "\n",
       "#sk-container-id-2 div.sk-estimator.fitted:hover {\n",
       "  /* fitted */\n",
       "  background-color: var(--sklearn-color-fitted-level-2);\n",
       "}\n",
       "\n",
       "/* Specification for estimator info (e.g. \"i\" and \"?\") */\n",
       "\n",
       "/* Common style for \"i\" and \"?\" */\n",
       "\n",
       ".sk-estimator-doc-link,\n",
       "a:link.sk-estimator-doc-link,\n",
       "a:visited.sk-estimator-doc-link {\n",
       "  float: right;\n",
       "  font-size: smaller;\n",
       "  line-height: 1em;\n",
       "  font-family: monospace;\n",
       "  background-color: var(--sklearn-color-background);\n",
       "  border-radius: 1em;\n",
       "  height: 1em;\n",
       "  width: 1em;\n",
       "  text-decoration: none !important;\n",
       "  margin-left: 0.5em;\n",
       "  text-align: center;\n",
       "  /* unfitted */\n",
       "  border: var(--sklearn-color-unfitted-level-1) 1pt solid;\n",
       "  color: var(--sklearn-color-unfitted-level-1);\n",
       "}\n",
       "\n",
       ".sk-estimator-doc-link.fitted,\n",
       "a:link.sk-estimator-doc-link.fitted,\n",
       "a:visited.sk-estimator-doc-link.fitted {\n",
       "  /* fitted */\n",
       "  border: var(--sklearn-color-fitted-level-1) 1pt solid;\n",
       "  color: var(--sklearn-color-fitted-level-1);\n",
       "}\n",
       "\n",
       "/* On hover */\n",
       "div.sk-estimator:hover .sk-estimator-doc-link:hover,\n",
       ".sk-estimator-doc-link:hover,\n",
       "div.sk-label-container:hover .sk-estimator-doc-link:hover,\n",
       ".sk-estimator-doc-link:hover {\n",
       "  /* unfitted */\n",
       "  background-color: var(--sklearn-color-unfitted-level-3);\n",
       "  color: var(--sklearn-color-background);\n",
       "  text-decoration: none;\n",
       "}\n",
       "\n",
       "div.sk-estimator.fitted:hover .sk-estimator-doc-link.fitted:hover,\n",
       ".sk-estimator-doc-link.fitted:hover,\n",
       "div.sk-label-container:hover .sk-estimator-doc-link.fitted:hover,\n",
       ".sk-estimator-doc-link.fitted:hover {\n",
       "  /* fitted */\n",
       "  background-color: var(--sklearn-color-fitted-level-3);\n",
       "  color: var(--sklearn-color-background);\n",
       "  text-decoration: none;\n",
       "}\n",
       "\n",
       "/* Span, style for the box shown on hovering the info icon */\n",
       ".sk-estimator-doc-link span {\n",
       "  display: none;\n",
       "  z-index: 9999;\n",
       "  position: relative;\n",
       "  font-weight: normal;\n",
       "  right: .2ex;\n",
       "  padding: .5ex;\n",
       "  margin: .5ex;\n",
       "  width: min-content;\n",
       "  min-width: 20ex;\n",
       "  max-width: 50ex;\n",
       "  color: var(--sklearn-color-text);\n",
       "  box-shadow: 2pt 2pt 4pt #999;\n",
       "  /* unfitted */\n",
       "  background: var(--sklearn-color-unfitted-level-0);\n",
       "  border: .5pt solid var(--sklearn-color-unfitted-level-3);\n",
       "}\n",
       "\n",
       ".sk-estimator-doc-link.fitted span {\n",
       "  /* fitted */\n",
       "  background: var(--sklearn-color-fitted-level-0);\n",
       "  border: var(--sklearn-color-fitted-level-3);\n",
       "}\n",
       "\n",
       ".sk-estimator-doc-link:hover span {\n",
       "  display: block;\n",
       "}\n",
       "\n",
       "/* \"?\"-specific style due to the `<a>` HTML tag */\n",
       "\n",
       "#sk-container-id-2 a.estimator_doc_link {\n",
       "  float: right;\n",
       "  font-size: 1rem;\n",
       "  line-height: 1em;\n",
       "  font-family: monospace;\n",
       "  background-color: var(--sklearn-color-background);\n",
       "  border-radius: 1rem;\n",
       "  height: 1rem;\n",
       "  width: 1rem;\n",
       "  text-decoration: none;\n",
       "  /* unfitted */\n",
       "  color: var(--sklearn-color-unfitted-level-1);\n",
       "  border: var(--sklearn-color-unfitted-level-1) 1pt solid;\n",
       "}\n",
       "\n",
       "#sk-container-id-2 a.estimator_doc_link.fitted {\n",
       "  /* fitted */\n",
       "  border: var(--sklearn-color-fitted-level-1) 1pt solid;\n",
       "  color: var(--sklearn-color-fitted-level-1);\n",
       "}\n",
       "\n",
       "/* On hover */\n",
       "#sk-container-id-2 a.estimator_doc_link:hover {\n",
       "  /* unfitted */\n",
       "  background-color: var(--sklearn-color-unfitted-level-3);\n",
       "  color: var(--sklearn-color-background);\n",
       "  text-decoration: none;\n",
       "}\n",
       "\n",
       "#sk-container-id-2 a.estimator_doc_link.fitted:hover {\n",
       "  /* fitted */\n",
       "  background-color: var(--sklearn-color-fitted-level-3);\n",
       "}\n",
       "</style><div id=\"sk-container-id-2\" class=\"sk-top-container\"><div class=\"sk-text-repr-fallback\"><pre>RandomizedSearchCV(cv=2, error_score=&#x27;raise&#x27;,\n",
       "                   estimator=Pipeline(steps=[(&#x27;transformation&#x27;,\n",
       "                                              ColumnTransformer(remainder=&#x27;passthrough&#x27;,\n",
       "                                                                sparse_threshold=0,\n",
       "                                                                transformers=[(&#x27;numerical&#x27;,\n",
       "                                                                               Pipeline(steps=[(&#x27;null&#x27;,\n",
       "                                                                                                SimpleImputer()),\n",
       "                                                                                               (&#x27;min_max&#x27;,\n",
       "                                                                                                MinMaxScaler())]),\n",
       "                                                                               [&#x27;Depression&#x27;,\n",
       "                                                                                &#x27;Insomnia&#x27;,\n",
       "                                                                                &#x27;OCD&#x27;,\n",
       "                                                                                &#x27;Age&#x27;,\n",
       "                                                                                &#x27;Hours &#x27;\n",
       "                                                                                &#x27;per &#x27;\n",
       "                                                                                &#x27;day&#x27;]),\n",
       "                                                                              (&#x27;bpm&#x27;,\n",
       "                                                                               Pipeline(steps=[(&#x27;imputer&#x27;,\n",
       "                                                                                                BPMImputer())...\n",
       "                                              SMOTE(n_jobs=-1,\n",
       "                                                    sampling_strategy=&#x27;minority&#x27;)),\n",
       "                                             (&#x27;dim_reduction&#x27;, None),\n",
       "                                             (&#x27;classifier&#x27;,\n",
       "                                              RandomForestClassifier(max_depth=10,\n",
       "                                                                     min_samples_leaf=2,\n",
       "                                                                     random_state=42))]),\n",
       "                   n_iter=100, n_jobs=-1,\n",
       "                   param_distributions={&#x27;classifier__max_depth&#x27;: [5, 10, 20, 30,\n",
       "                                                                  50],\n",
       "                                        &#x27;classifier__min_samples_leaf&#x27;: [1, 2,\n",
       "                                                                         3, 5],\n",
       "                                        &#x27;sampler__sampling_strategy&#x27;: [&#x27;minority&#x27;,\n",
       "                                                                       0.9,\n",
       "                                                                       0.7]},\n",
       "                   random_state=42, scoring=&#x27;f1&#x27;)</pre><b>In a Jupyter environment, please rerun this cell to show the HTML representation or trust the notebook. <br />On GitHub, the HTML representation is unable to render, please try loading this page with nbviewer.org.</b></div><div class=\"sk-container\" hidden><div class=\"sk-item sk-dashed-wrapped\"><div class=\"sk-label-container\"><div class=\"sk-label fitted sk-toggleable\"><input class=\"sk-toggleable__control sk-hidden--visually\" id=\"sk-estimator-id-21\" type=\"checkbox\" ><label for=\"sk-estimator-id-21\" class=\"sk-toggleable__label fitted sk-toggleable__label-arrow\"><div><div>RandomizedSearchCV</div></div><div><a class=\"sk-estimator-doc-link fitted\" rel=\"noreferrer\" target=\"_blank\" href=\"https://scikit-learn.org/1.6/modules/generated/sklearn.model_selection.RandomizedSearchCV.html\">?<span>Documentation for RandomizedSearchCV</span></a><span class=\"sk-estimator-doc-link fitted\">i<span>Fitted</span></span></div></label><div class=\"sk-toggleable__content fitted\"><pre>RandomizedSearchCV(cv=2, error_score=&#x27;raise&#x27;,\n",
       "                   estimator=Pipeline(steps=[(&#x27;transformation&#x27;,\n",
       "                                              ColumnTransformer(remainder=&#x27;passthrough&#x27;,\n",
       "                                                                sparse_threshold=0,\n",
       "                                                                transformers=[(&#x27;numerical&#x27;,\n",
       "                                                                               Pipeline(steps=[(&#x27;null&#x27;,\n",
       "                                                                                                SimpleImputer()),\n",
       "                                                                                               (&#x27;min_max&#x27;,\n",
       "                                                                                                MinMaxScaler())]),\n",
       "                                                                               [&#x27;Depression&#x27;,\n",
       "                                                                                &#x27;Insomnia&#x27;,\n",
       "                                                                                &#x27;OCD&#x27;,\n",
       "                                                                                &#x27;Age&#x27;,\n",
       "                                                                                &#x27;Hours &#x27;\n",
       "                                                                                &#x27;per &#x27;\n",
       "                                                                                &#x27;day&#x27;]),\n",
       "                                                                              (&#x27;bpm&#x27;,\n",
       "                                                                               Pipeline(steps=[(&#x27;imputer&#x27;,\n",
       "                                                                                                BPMImputer())...\n",
       "                                              SMOTE(n_jobs=-1,\n",
       "                                                    sampling_strategy=&#x27;minority&#x27;)),\n",
       "                                             (&#x27;dim_reduction&#x27;, None),\n",
       "                                             (&#x27;classifier&#x27;,\n",
       "                                              RandomForestClassifier(max_depth=10,\n",
       "                                                                     min_samples_leaf=2,\n",
       "                                                                     random_state=42))]),\n",
       "                   n_iter=100, n_jobs=-1,\n",
       "                   param_distributions={&#x27;classifier__max_depth&#x27;: [5, 10, 20, 30,\n",
       "                                                                  50],\n",
       "                                        &#x27;classifier__min_samples_leaf&#x27;: [1, 2,\n",
       "                                                                         3, 5],\n",
       "                                        &#x27;sampler__sampling_strategy&#x27;: [&#x27;minority&#x27;,\n",
       "                                                                       0.9,\n",
       "                                                                       0.7]},\n",
       "                   random_state=42, scoring=&#x27;f1&#x27;)</pre></div> </div></div><div class=\"sk-parallel\"><div class=\"sk-parallel-item\"><div class=\"sk-item\"><div class=\"sk-label-container\"><div class=\"sk-label fitted sk-toggleable\"><input class=\"sk-toggleable__control sk-hidden--visually\" id=\"sk-estimator-id-22\" type=\"checkbox\" ><label for=\"sk-estimator-id-22\" class=\"sk-toggleable__label fitted sk-toggleable__label-arrow\"><div><div>best_estimator_: Pipeline</div></div></label><div class=\"sk-toggleable__content fitted\"><pre>Pipeline(steps=[(&#x27;transformation&#x27;,\n",
       "                 ColumnTransformer(remainder=&#x27;passthrough&#x27;, sparse_threshold=0,\n",
       "                                   transformers=[(&#x27;numerical&#x27;,\n",
       "                                                  Pipeline(steps=[(&#x27;null&#x27;,\n",
       "                                                                   SimpleImputer()),\n",
       "                                                                  (&#x27;min_max&#x27;,\n",
       "                                                                   MinMaxScaler())]),\n",
       "                                                  [&#x27;Depression&#x27;, &#x27;Insomnia&#x27;,\n",
       "                                                   &#x27;OCD&#x27;, &#x27;Age&#x27;,\n",
       "                                                   &#x27;Hours per day&#x27;]),\n",
       "                                                 (&#x27;bpm&#x27;,\n",
       "                                                  Pipeline(steps=[(&#x27;imputer&#x27;,\n",
       "                                                                   BPMImputer()),\n",
       "                                                                  (&#x27;scaler&#x27;,\n",
       "                                                                   MinMaxScaler())]),\n",
       "                                                  [&#x27;BPM&#x27;, &#x27;Fav genre&#x27;]),\n",
       "                                                 (&#x27;categor...\n",
       "                                                                   SimpleImputer(strategy=&#x27;most_frequent&#x27;)),\n",
       "                                                                  (&#x27;one_hot_encoder&#x27;,\n",
       "                                                                   OneHotEncoder(drop=&#x27;first&#x27;,\n",
       "                                                                                 handle_unknown=&#x27;ignore&#x27;)),\n",
       "                                                                  (&#x27;max_abs&#x27;,\n",
       "                                                                   MaxAbsScaler())]),\n",
       "                                                  [&#x27;Fav genre&#x27;])],\n",
       "                                   verbose_feature_names_out=False)),\n",
       "                (&#x27;sampler&#x27;, SMOTE(n_jobs=-1, sampling_strategy=0.7)),\n",
       "                (&#x27;dim_reduction&#x27;, None),\n",
       "                (&#x27;classifier&#x27;,\n",
       "                 RandomForestClassifier(max_depth=30, min_samples_leaf=5,\n",
       "                                        random_state=42))])</pre></div> </div></div><div class=\"sk-serial\"><div class=\"sk-item\"><div class=\"sk-serial\"><div class=\"sk-item sk-dashed-wrapped\"><div class=\"sk-label-container\"><div class=\"sk-label fitted sk-toggleable\"><input class=\"sk-toggleable__control sk-hidden--visually\" id=\"sk-estimator-id-23\" type=\"checkbox\" ><label for=\"sk-estimator-id-23\" class=\"sk-toggleable__label fitted sk-toggleable__label-arrow\"><div><div>transformation: ColumnTransformer</div></div><div><a class=\"sk-estimator-doc-link fitted\" rel=\"noreferrer\" target=\"_blank\" href=\"https://scikit-learn.org/1.6/modules/generated/sklearn.compose.ColumnTransformer.html\">?<span>Documentation for transformation: ColumnTransformer</span></a></div></label><div class=\"sk-toggleable__content fitted\"><pre>ColumnTransformer(remainder=&#x27;passthrough&#x27;, sparse_threshold=0,\n",
       "                  transformers=[(&#x27;numerical&#x27;,\n",
       "                                 Pipeline(steps=[(&#x27;null&#x27;, SimpleImputer()),\n",
       "                                                 (&#x27;min_max&#x27;, MinMaxScaler())]),\n",
       "                                 [&#x27;Depression&#x27;, &#x27;Insomnia&#x27;, &#x27;OCD&#x27;, &#x27;Age&#x27;,\n",
       "                                  &#x27;Hours per day&#x27;]),\n",
       "                                (&#x27;bpm&#x27;,\n",
       "                                 Pipeline(steps=[(&#x27;imputer&#x27;, BPMImputer()),\n",
       "                                                 (&#x27;scaler&#x27;, MinMaxScaler())]),\n",
       "                                 [&#x27;BPM&#x27;, &#x27;Fav genre&#x27;]),\n",
       "                                (&#x27;categorical&#x27;,\n",
       "                                 Pipeline(steps=[(&#x27;null&#x27;,\n",
       "                                                  Simp...\n",
       "                                  &#x27;Frequency _Lofi_&#x27;, &#x27;Frequency _Metal_&#x27;,\n",
       "                                  &#x27;Frequency _Pop_&#x27;, &#x27;Frequency _R&amp;B_&#x27;,\n",
       "                                  &#x27;Frequency _Rap_&#x27;, &#x27;Frequency _Rock_&#x27;,\n",
       "                                  &#x27;Frequency _Video game music_&#x27;,\n",
       "                                  &#x27;Music effects&#x27;]),\n",
       "                                (&#x27;fav_genre&#x27;,\n",
       "                                 Pipeline(steps=[(&#x27;null&#x27;,\n",
       "                                                  SimpleImputer(strategy=&#x27;most_frequent&#x27;)),\n",
       "                                                 (&#x27;one_hot_encoder&#x27;,\n",
       "                                                  OneHotEncoder(drop=&#x27;first&#x27;,\n",
       "                                                                handle_unknown=&#x27;ignore&#x27;)),\n",
       "                                                 (&#x27;max_abs&#x27;, MaxAbsScaler())]),\n",
       "                                 [&#x27;Fav genre&#x27;])],\n",
       "                  verbose_feature_names_out=False)</pre></div> </div></div><div class=\"sk-parallel\"><div class=\"sk-parallel-item\"><div class=\"sk-item\"><div class=\"sk-label-container\"><div class=\"sk-label fitted sk-toggleable\"><input class=\"sk-toggleable__control sk-hidden--visually\" id=\"sk-estimator-id-24\" type=\"checkbox\" ><label for=\"sk-estimator-id-24\" class=\"sk-toggleable__label fitted sk-toggleable__label-arrow\"><div><div>numerical</div></div></label><div class=\"sk-toggleable__content fitted\"><pre>[&#x27;Depression&#x27;, &#x27;Insomnia&#x27;, &#x27;OCD&#x27;, &#x27;Age&#x27;, &#x27;Hours per day&#x27;]</pre></div> </div></div><div class=\"sk-serial\"><div class=\"sk-item\"><div class=\"sk-serial\"><div class=\"sk-item\"><div class=\"sk-estimator fitted sk-toggleable\"><input class=\"sk-toggleable__control sk-hidden--visually\" id=\"sk-estimator-id-25\" type=\"checkbox\" ><label for=\"sk-estimator-id-25\" class=\"sk-toggleable__label fitted sk-toggleable__label-arrow\"><div><div>SimpleImputer</div></div><div><a class=\"sk-estimator-doc-link fitted\" rel=\"noreferrer\" target=\"_blank\" href=\"https://scikit-learn.org/1.6/modules/generated/sklearn.impute.SimpleImputer.html\">?<span>Documentation for SimpleImputer</span></a></div></label><div class=\"sk-toggleable__content fitted\"><pre>SimpleImputer()</pre></div> </div></div><div class=\"sk-item\"><div class=\"sk-estimator fitted sk-toggleable\"><input class=\"sk-toggleable__control sk-hidden--visually\" id=\"sk-estimator-id-26\" type=\"checkbox\" ><label for=\"sk-estimator-id-26\" class=\"sk-toggleable__label fitted sk-toggleable__label-arrow\"><div><div>MinMaxScaler</div></div><div><a class=\"sk-estimator-doc-link fitted\" rel=\"noreferrer\" target=\"_blank\" href=\"https://scikit-learn.org/1.6/modules/generated/sklearn.preprocessing.MinMaxScaler.html\">?<span>Documentation for MinMaxScaler</span></a></div></label><div class=\"sk-toggleable__content fitted\"><pre>MinMaxScaler()</pre></div> </div></div></div></div></div></div></div><div class=\"sk-parallel-item\"><div class=\"sk-item\"><div class=\"sk-label-container\"><div class=\"sk-label fitted sk-toggleable\"><input class=\"sk-toggleable__control sk-hidden--visually\" id=\"sk-estimator-id-27\" type=\"checkbox\" ><label for=\"sk-estimator-id-27\" class=\"sk-toggleable__label fitted sk-toggleable__label-arrow\"><div><div>bpm</div></div></label><div class=\"sk-toggleable__content fitted\"><pre>[&#x27;BPM&#x27;, &#x27;Fav genre&#x27;]</pre></div> </div></div><div class=\"sk-serial\"><div class=\"sk-item\"><div class=\"sk-serial\"><div class=\"sk-item\"><div class=\"sk-estimator fitted sk-toggleable\"><input class=\"sk-toggleable__control sk-hidden--visually\" id=\"sk-estimator-id-28\" type=\"checkbox\" ><label for=\"sk-estimator-id-28\" class=\"sk-toggleable__label fitted sk-toggleable__label-arrow\"><div><div>BPMImputer</div></div></label><div class=\"sk-toggleable__content fitted\"><pre>BPMImputer()</pre></div> </div></div><div class=\"sk-item\"><div class=\"sk-estimator fitted sk-toggleable\"><input class=\"sk-toggleable__control sk-hidden--visually\" id=\"sk-estimator-id-29\" type=\"checkbox\" ><label for=\"sk-estimator-id-29\" class=\"sk-toggleable__label fitted sk-toggleable__label-arrow\"><div><div>MinMaxScaler</div></div><div><a class=\"sk-estimator-doc-link fitted\" rel=\"noreferrer\" target=\"_blank\" href=\"https://scikit-learn.org/1.6/modules/generated/sklearn.preprocessing.MinMaxScaler.html\">?<span>Documentation for MinMaxScaler</span></a></div></label><div class=\"sk-toggleable__content fitted\"><pre>MinMaxScaler()</pre></div> </div></div></div></div></div></div></div><div class=\"sk-parallel-item\"><div class=\"sk-item\"><div class=\"sk-label-container\"><div class=\"sk-label fitted sk-toggleable\"><input class=\"sk-toggleable__control sk-hidden--visually\" id=\"sk-estimator-id-30\" type=\"checkbox\" ><label for=\"sk-estimator-id-30\" class=\"sk-toggleable__label fitted sk-toggleable__label-arrow\"><div><div>categorical</div></div></label><div class=\"sk-toggleable__content fitted\"><pre>[&#x27;While working&#x27;, &#x27;Instrumentalist&#x27;, &#x27;Composer&#x27;, &#x27;Foreign languages&#x27;, &#x27;Exploratory&#x27;, &#x27;Frequency _Classical_&#x27;, &#x27;Frequency _Country_&#x27;, &#x27;Frequency _EDM_&#x27;, &#x27;Frequency _Folk_&#x27;, &#x27;Frequency _Gospel_&#x27;, &#x27;Frequency _Hip hop_&#x27;, &#x27;Frequency _Jazz_&#x27;, &#x27;Frequency _K pop_&#x27;, &#x27;Frequency _Latin_&#x27;, &#x27;Frequency _Lofi_&#x27;, &#x27;Frequency _Metal_&#x27;, &#x27;Frequency _Pop_&#x27;, &#x27;Frequency _R&amp;B_&#x27;, &#x27;Frequency _Rap_&#x27;, &#x27;Frequency _Rock_&#x27;, &#x27;Frequency _Video game music_&#x27;, &#x27;Music effects&#x27;]</pre></div> </div></div><div class=\"sk-serial\"><div class=\"sk-item\"><div class=\"sk-serial\"><div class=\"sk-item\"><div class=\"sk-estimator fitted sk-toggleable\"><input class=\"sk-toggleable__control sk-hidden--visually\" id=\"sk-estimator-id-31\" type=\"checkbox\" ><label for=\"sk-estimator-id-31\" class=\"sk-toggleable__label fitted sk-toggleable__label-arrow\"><div><div>SimpleImputer</div></div><div><a class=\"sk-estimator-doc-link fitted\" rel=\"noreferrer\" target=\"_blank\" href=\"https://scikit-learn.org/1.6/modules/generated/sklearn.impute.SimpleImputer.html\">?<span>Documentation for SimpleImputer</span></a></div></label><div class=\"sk-toggleable__content fitted\"><pre>SimpleImputer(strategy=&#x27;most_frequent&#x27;)</pre></div> </div></div><div class=\"sk-item\"><div class=\"sk-estimator fitted sk-toggleable\"><input class=\"sk-toggleable__control sk-hidden--visually\" id=\"sk-estimator-id-32\" type=\"checkbox\" ><label for=\"sk-estimator-id-32\" class=\"sk-toggleable__label fitted sk-toggleable__label-arrow\"><div><div>OrdinalEncoder</div></div><div><a class=\"sk-estimator-doc-link fitted\" rel=\"noreferrer\" target=\"_blank\" href=\"https://scikit-learn.org/1.6/modules/generated/sklearn.preprocessing.OrdinalEncoder.html\">?<span>Documentation for OrdinalEncoder</span></a></div></label><div class=\"sk-toggleable__content fitted\"><pre>OrdinalEncoder()</pre></div> </div></div></div></div></div></div></div><div class=\"sk-parallel-item\"><div class=\"sk-item\"><div class=\"sk-label-container\"><div class=\"sk-label fitted sk-toggleable\"><input class=\"sk-toggleable__control sk-hidden--visually\" id=\"sk-estimator-id-33\" type=\"checkbox\" ><label for=\"sk-estimator-id-33\" class=\"sk-toggleable__label fitted sk-toggleable__label-arrow\"><div><div>fav_genre</div></div></label><div class=\"sk-toggleable__content fitted\"><pre>[&#x27;Fav genre&#x27;]</pre></div> </div></div><div class=\"sk-serial\"><div class=\"sk-item\"><div class=\"sk-serial\"><div class=\"sk-item\"><div class=\"sk-estimator fitted sk-toggleable\"><input class=\"sk-toggleable__control sk-hidden--visually\" id=\"sk-estimator-id-34\" type=\"checkbox\" ><label for=\"sk-estimator-id-34\" class=\"sk-toggleable__label fitted sk-toggleable__label-arrow\"><div><div>SimpleImputer</div></div><div><a class=\"sk-estimator-doc-link fitted\" rel=\"noreferrer\" target=\"_blank\" href=\"https://scikit-learn.org/1.6/modules/generated/sklearn.impute.SimpleImputer.html\">?<span>Documentation for SimpleImputer</span></a></div></label><div class=\"sk-toggleable__content fitted\"><pre>SimpleImputer(strategy=&#x27;most_frequent&#x27;)</pre></div> </div></div><div class=\"sk-item\"><div class=\"sk-estimator fitted sk-toggleable\"><input class=\"sk-toggleable__control sk-hidden--visually\" id=\"sk-estimator-id-35\" type=\"checkbox\" ><label for=\"sk-estimator-id-35\" class=\"sk-toggleable__label fitted sk-toggleable__label-arrow\"><div><div>OneHotEncoder</div></div><div><a class=\"sk-estimator-doc-link fitted\" rel=\"noreferrer\" target=\"_blank\" href=\"https://scikit-learn.org/1.6/modules/generated/sklearn.preprocessing.OneHotEncoder.html\">?<span>Documentation for OneHotEncoder</span></a></div></label><div class=\"sk-toggleable__content fitted\"><pre>OneHotEncoder(drop=&#x27;first&#x27;, handle_unknown=&#x27;ignore&#x27;)</pre></div> </div></div><div class=\"sk-item\"><div class=\"sk-estimator fitted sk-toggleable\"><input class=\"sk-toggleable__control sk-hidden--visually\" id=\"sk-estimator-id-36\" type=\"checkbox\" ><label for=\"sk-estimator-id-36\" class=\"sk-toggleable__label fitted sk-toggleable__label-arrow\"><div><div>MaxAbsScaler</div></div><div><a class=\"sk-estimator-doc-link fitted\" rel=\"noreferrer\" target=\"_blank\" href=\"https://scikit-learn.org/1.6/modules/generated/sklearn.preprocessing.MaxAbsScaler.html\">?<span>Documentation for MaxAbsScaler</span></a></div></label><div class=\"sk-toggleable__content fitted\"><pre>MaxAbsScaler()</pre></div> </div></div></div></div></div></div></div><div class=\"sk-parallel-item\"><div class=\"sk-item\"><div class=\"sk-label-container\"><div class=\"sk-label fitted sk-toggleable\"><input class=\"sk-toggleable__control sk-hidden--visually\" id=\"sk-estimator-id-37\" type=\"checkbox\" ><label for=\"sk-estimator-id-37\" class=\"sk-toggleable__label fitted sk-toggleable__label-arrow\"><div><div>remainder</div></div></label><div class=\"sk-toggleable__content fitted\"><pre>[]</pre></div> </div></div><div class=\"sk-serial\"><div class=\"sk-item\"><div class=\"sk-estimator fitted sk-toggleable\"><input class=\"sk-toggleable__control sk-hidden--visually\" id=\"sk-estimator-id-38\" type=\"checkbox\" ><label for=\"sk-estimator-id-38\" class=\"sk-toggleable__label fitted sk-toggleable__label-arrow\"><div><div>passthrough</div></div></label><div class=\"sk-toggleable__content fitted\"><pre>passthrough</pre></div> </div></div></div></div></div></div></div><div class=\"sk-item\"><div class=\"sk-estimator fitted sk-toggleable\"><input class=\"sk-toggleable__control sk-hidden--visually\" id=\"sk-estimator-id-39\" type=\"checkbox\" ><label for=\"sk-estimator-id-39\" class=\"sk-toggleable__label fitted sk-toggleable__label-arrow\"><div><div>SMOTE</div></div></label><div class=\"sk-toggleable__content fitted\"><pre>SMOTE(n_jobs=-1, sampling_strategy=0.7)</pre></div> </div></div><div class=\"sk-item\"><div class=\"sk-estimator fitted sk-toggleable\"><input class=\"sk-toggleable__control sk-hidden--visually\" id=\"sk-estimator-id-40\" type=\"checkbox\" ><label for=\"sk-estimator-id-40\" class=\"sk-toggleable__label fitted sk-toggleable__label-arrow\"><div><div>None</div></div></label><div class=\"sk-toggleable__content fitted\"><pre>None</pre></div> </div></div><div class=\"sk-item\"><div class=\"sk-estimator fitted sk-toggleable\"><input class=\"sk-toggleable__control sk-hidden--visually\" id=\"sk-estimator-id-41\" type=\"checkbox\" ><label for=\"sk-estimator-id-41\" class=\"sk-toggleable__label fitted sk-toggleable__label-arrow\"><div><div>RandomForestClassifier</div></div><div><a class=\"sk-estimator-doc-link fitted\" rel=\"noreferrer\" target=\"_blank\" href=\"https://scikit-learn.org/1.6/modules/generated/sklearn.ensemble.RandomForestClassifier.html\">?<span>Documentation for RandomForestClassifier</span></a></div></label><div class=\"sk-toggleable__content fitted\"><pre>RandomForestClassifier(max_depth=30, min_samples_leaf=5, random_state=42)</pre></div> </div></div></div></div></div></div></div></div></div></div></div>"
      ],
      "text/plain": [
       "RandomizedSearchCV(cv=2, error_score='raise',\n",
       "                   estimator=Pipeline(steps=[('transformation',\n",
       "                                              ColumnTransformer(remainder='passthrough',\n",
       "                                                                sparse_threshold=0,\n",
       "                                                                transformers=[('numerical',\n",
       "                                                                               Pipeline(steps=[('null',\n",
       "                                                                                                SimpleImputer()),\n",
       "                                                                                               ('min_max',\n",
       "                                                                                                MinMaxScaler())]),\n",
       "                                                                               ['Depression',\n",
       "                                                                                'Insomnia',\n",
       "                                                                                'OCD',\n",
       "                                                                                'Age',\n",
       "                                                                                'Hours '\n",
       "                                                                                'per '\n",
       "                                                                                'day']),\n",
       "                                                                              ('bpm',\n",
       "                                                                               Pipeline(steps=[('imputer',\n",
       "                                                                                                BPMImputer())...\n",
       "                                              SMOTE(n_jobs=-1,\n",
       "                                                    sampling_strategy='minority')),\n",
       "                                             ('dim_reduction', None),\n",
       "                                             ('classifier',\n",
       "                                              RandomForestClassifier(max_depth=10,\n",
       "                                                                     min_samples_leaf=2,\n",
       "                                                                     random_state=42))]),\n",
       "                   n_iter=100, n_jobs=-1,\n",
       "                   param_distributions={'classifier__max_depth': [5, 10, 20, 30,\n",
       "                                                                  50],\n",
       "                                        'classifier__min_samples_leaf': [1, 2,\n",
       "                                                                         3, 5],\n",
       "                                        'sampler__sampling_strategy': ['minority',\n",
       "                                                                       0.9,\n",
       "                                                                       0.7]},\n",
       "                   random_state=42, scoring='f1')"
      ]
     },
     "execution_count": 38,
     "metadata": {},
     "output_type": "execute_result"
    }
   ],
   "source": [
    "best_rs.fit(X_train,y_train)"
   ]
  },
  {
   "cell_type": "markdown",
   "metadata": {},
   "source": [
    "The best model pipeline, with the optimal hyperparameter configuration is now displayed using the <code>best_estimator</code> method."
   ]
  },
  {
   "cell_type": "code",
   "execution_count": 39,
   "metadata": {
    "cell_id": "d6479cda92ae426282b888166dc6ed75",
    "deepnote_cell_type": "code",
    "execution_context_id": "bd6ba632-1d63-4e06-aab9-a07fb8971418",
    "execution_millis": 53,
    "execution_start": 1738081320351,
    "source_hash": "26edc656"
   },
   "outputs": [
    {
     "data": {
      "text/html": [
       "<style>#sk-container-id-3 {\n",
       "  /* Definition of color scheme common for light and dark mode */\n",
       "  --sklearn-color-text: #000;\n",
       "  --sklearn-color-text-muted: #666;\n",
       "  --sklearn-color-line: gray;\n",
       "  /* Definition of color scheme for unfitted estimators */\n",
       "  --sklearn-color-unfitted-level-0: #fff5e6;\n",
       "  --sklearn-color-unfitted-level-1: #f6e4d2;\n",
       "  --sklearn-color-unfitted-level-2: #ffe0b3;\n",
       "  --sklearn-color-unfitted-level-3: chocolate;\n",
       "  /* Definition of color scheme for fitted estimators */\n",
       "  --sklearn-color-fitted-level-0: #f0f8ff;\n",
       "  --sklearn-color-fitted-level-1: #d4ebff;\n",
       "  --sklearn-color-fitted-level-2: #b3dbfd;\n",
       "  --sklearn-color-fitted-level-3: cornflowerblue;\n",
       "\n",
       "  /* Specific color for light theme */\n",
       "  --sklearn-color-text-on-default-background: var(--sg-text-color, var(--theme-code-foreground, var(--jp-content-font-color1, black)));\n",
       "  --sklearn-color-background: var(--sg-background-color, var(--theme-background, var(--jp-layout-color0, white)));\n",
       "  --sklearn-color-border-box: var(--sg-text-color, var(--theme-code-foreground, var(--jp-content-font-color1, black)));\n",
       "  --sklearn-color-icon: #696969;\n",
       "\n",
       "  @media (prefers-color-scheme: dark) {\n",
       "    /* Redefinition of color scheme for dark theme */\n",
       "    --sklearn-color-text-on-default-background: var(--sg-text-color, var(--theme-code-foreground, var(--jp-content-font-color1, white)));\n",
       "    --sklearn-color-background: var(--sg-background-color, var(--theme-background, var(--jp-layout-color0, #111)));\n",
       "    --sklearn-color-border-box: var(--sg-text-color, var(--theme-code-foreground, var(--jp-content-font-color1, white)));\n",
       "    --sklearn-color-icon: #878787;\n",
       "  }\n",
       "}\n",
       "\n",
       "#sk-container-id-3 {\n",
       "  color: var(--sklearn-color-text);\n",
       "}\n",
       "\n",
       "#sk-container-id-3 pre {\n",
       "  padding: 0;\n",
       "}\n",
       "\n",
       "#sk-container-id-3 input.sk-hidden--visually {\n",
       "  border: 0;\n",
       "  clip: rect(1px 1px 1px 1px);\n",
       "  clip: rect(1px, 1px, 1px, 1px);\n",
       "  height: 1px;\n",
       "  margin: -1px;\n",
       "  overflow: hidden;\n",
       "  padding: 0;\n",
       "  position: absolute;\n",
       "  width: 1px;\n",
       "}\n",
       "\n",
       "#sk-container-id-3 div.sk-dashed-wrapped {\n",
       "  border: 1px dashed var(--sklearn-color-line);\n",
       "  margin: 0 0.4em 0.5em 0.4em;\n",
       "  box-sizing: border-box;\n",
       "  padding-bottom: 0.4em;\n",
       "  background-color: var(--sklearn-color-background);\n",
       "}\n",
       "\n",
       "#sk-container-id-3 div.sk-container {\n",
       "  /* jupyter's `normalize.less` sets `[hidden] { display: none; }`\n",
       "     but bootstrap.min.css set `[hidden] { display: none !important; }`\n",
       "     so we also need the `!important` here to be able to override the\n",
       "     default hidden behavior on the sphinx rendered scikit-learn.org.\n",
       "     See: https://github.com/scikit-learn/scikit-learn/issues/21755 */\n",
       "  display: inline-block !important;\n",
       "  position: relative;\n",
       "}\n",
       "\n",
       "#sk-container-id-3 div.sk-text-repr-fallback {\n",
       "  display: none;\n",
       "}\n",
       "\n",
       "div.sk-parallel-item,\n",
       "div.sk-serial,\n",
       "div.sk-item {\n",
       "  /* draw centered vertical line to link estimators */\n",
       "  background-image: linear-gradient(var(--sklearn-color-text-on-default-background), var(--sklearn-color-text-on-default-background));\n",
       "  background-size: 2px 100%;\n",
       "  background-repeat: no-repeat;\n",
       "  background-position: center center;\n",
       "}\n",
       "\n",
       "/* Parallel-specific style estimator block */\n",
       "\n",
       "#sk-container-id-3 div.sk-parallel-item::after {\n",
       "  content: \"\";\n",
       "  width: 100%;\n",
       "  border-bottom: 2px solid var(--sklearn-color-text-on-default-background);\n",
       "  flex-grow: 1;\n",
       "}\n",
       "\n",
       "#sk-container-id-3 div.sk-parallel {\n",
       "  display: flex;\n",
       "  align-items: stretch;\n",
       "  justify-content: center;\n",
       "  background-color: var(--sklearn-color-background);\n",
       "  position: relative;\n",
       "}\n",
       "\n",
       "#sk-container-id-3 div.sk-parallel-item {\n",
       "  display: flex;\n",
       "  flex-direction: column;\n",
       "}\n",
       "\n",
       "#sk-container-id-3 div.sk-parallel-item:first-child::after {\n",
       "  align-self: flex-end;\n",
       "  width: 50%;\n",
       "}\n",
       "\n",
       "#sk-container-id-3 div.sk-parallel-item:last-child::after {\n",
       "  align-self: flex-start;\n",
       "  width: 50%;\n",
       "}\n",
       "\n",
       "#sk-container-id-3 div.sk-parallel-item:only-child::after {\n",
       "  width: 0;\n",
       "}\n",
       "\n",
       "/* Serial-specific style estimator block */\n",
       "\n",
       "#sk-container-id-3 div.sk-serial {\n",
       "  display: flex;\n",
       "  flex-direction: column;\n",
       "  align-items: center;\n",
       "  background-color: var(--sklearn-color-background);\n",
       "  padding-right: 1em;\n",
       "  padding-left: 1em;\n",
       "}\n",
       "\n",
       "\n",
       "/* Toggleable style: style used for estimator/Pipeline/ColumnTransformer box that is\n",
       "clickable and can be expanded/collapsed.\n",
       "- Pipeline and ColumnTransformer use this feature and define the default style\n",
       "- Estimators will overwrite some part of the style using the `sk-estimator` class\n",
       "*/\n",
       "\n",
       "/* Pipeline and ColumnTransformer style (default) */\n",
       "\n",
       "#sk-container-id-3 div.sk-toggleable {\n",
       "  /* Default theme specific background. It is overwritten whether we have a\n",
       "  specific estimator or a Pipeline/ColumnTransformer */\n",
       "  background-color: var(--sklearn-color-background);\n",
       "}\n",
       "\n",
       "/* Toggleable label */\n",
       "#sk-container-id-3 label.sk-toggleable__label {\n",
       "  cursor: pointer;\n",
       "  display: flex;\n",
       "  width: 100%;\n",
       "  margin-bottom: 0;\n",
       "  padding: 0.5em;\n",
       "  box-sizing: border-box;\n",
       "  text-align: center;\n",
       "  align-items: start;\n",
       "  justify-content: space-between;\n",
       "  gap: 0.5em;\n",
       "}\n",
       "\n",
       "#sk-container-id-3 label.sk-toggleable__label .caption {\n",
       "  font-size: 0.6rem;\n",
       "  font-weight: lighter;\n",
       "  color: var(--sklearn-color-text-muted);\n",
       "}\n",
       "\n",
       "#sk-container-id-3 label.sk-toggleable__label-arrow:before {\n",
       "  /* Arrow on the left of the label */\n",
       "  content: \"▸\";\n",
       "  float: left;\n",
       "  margin-right: 0.25em;\n",
       "  color: var(--sklearn-color-icon);\n",
       "}\n",
       "\n",
       "#sk-container-id-3 label.sk-toggleable__label-arrow:hover:before {\n",
       "  color: var(--sklearn-color-text);\n",
       "}\n",
       "\n",
       "/* Toggleable content - dropdown */\n",
       "\n",
       "#sk-container-id-3 div.sk-toggleable__content {\n",
       "  max-height: 0;\n",
       "  max-width: 0;\n",
       "  overflow: hidden;\n",
       "  text-align: left;\n",
       "  /* unfitted */\n",
       "  background-color: var(--sklearn-color-unfitted-level-0);\n",
       "}\n",
       "\n",
       "#sk-container-id-3 div.sk-toggleable__content.fitted {\n",
       "  /* fitted */\n",
       "  background-color: var(--sklearn-color-fitted-level-0);\n",
       "}\n",
       "\n",
       "#sk-container-id-3 div.sk-toggleable__content pre {\n",
       "  margin: 0.2em;\n",
       "  border-radius: 0.25em;\n",
       "  color: var(--sklearn-color-text);\n",
       "  /* unfitted */\n",
       "  background-color: var(--sklearn-color-unfitted-level-0);\n",
       "}\n",
       "\n",
       "#sk-container-id-3 div.sk-toggleable__content.fitted pre {\n",
       "  /* unfitted */\n",
       "  background-color: var(--sklearn-color-fitted-level-0);\n",
       "}\n",
       "\n",
       "#sk-container-id-3 input.sk-toggleable__control:checked~div.sk-toggleable__content {\n",
       "  /* Expand drop-down */\n",
       "  max-height: 200px;\n",
       "  max-width: 100%;\n",
       "  overflow: auto;\n",
       "}\n",
       "\n",
       "#sk-container-id-3 input.sk-toggleable__control:checked~label.sk-toggleable__label-arrow:before {\n",
       "  content: \"▾\";\n",
       "}\n",
       "\n",
       "/* Pipeline/ColumnTransformer-specific style */\n",
       "\n",
       "#sk-container-id-3 div.sk-label input.sk-toggleable__control:checked~label.sk-toggleable__label {\n",
       "  color: var(--sklearn-color-text);\n",
       "  background-color: var(--sklearn-color-unfitted-level-2);\n",
       "}\n",
       "\n",
       "#sk-container-id-3 div.sk-label.fitted input.sk-toggleable__control:checked~label.sk-toggleable__label {\n",
       "  background-color: var(--sklearn-color-fitted-level-2);\n",
       "}\n",
       "\n",
       "/* Estimator-specific style */\n",
       "\n",
       "/* Colorize estimator box */\n",
       "#sk-container-id-3 div.sk-estimator input.sk-toggleable__control:checked~label.sk-toggleable__label {\n",
       "  /* unfitted */\n",
       "  background-color: var(--sklearn-color-unfitted-level-2);\n",
       "}\n",
       "\n",
       "#sk-container-id-3 div.sk-estimator.fitted input.sk-toggleable__control:checked~label.sk-toggleable__label {\n",
       "  /* fitted */\n",
       "  background-color: var(--sklearn-color-fitted-level-2);\n",
       "}\n",
       "\n",
       "#sk-container-id-3 div.sk-label label.sk-toggleable__label,\n",
       "#sk-container-id-3 div.sk-label label {\n",
       "  /* The background is the default theme color */\n",
       "  color: var(--sklearn-color-text-on-default-background);\n",
       "}\n",
       "\n",
       "/* On hover, darken the color of the background */\n",
       "#sk-container-id-3 div.sk-label:hover label.sk-toggleable__label {\n",
       "  color: var(--sklearn-color-text);\n",
       "  background-color: var(--sklearn-color-unfitted-level-2);\n",
       "}\n",
       "\n",
       "/* Label box, darken color on hover, fitted */\n",
       "#sk-container-id-3 div.sk-label.fitted:hover label.sk-toggleable__label.fitted {\n",
       "  color: var(--sklearn-color-text);\n",
       "  background-color: var(--sklearn-color-fitted-level-2);\n",
       "}\n",
       "\n",
       "/* Estimator label */\n",
       "\n",
       "#sk-container-id-3 div.sk-label label {\n",
       "  font-family: monospace;\n",
       "  font-weight: bold;\n",
       "  display: inline-block;\n",
       "  line-height: 1.2em;\n",
       "}\n",
       "\n",
       "#sk-container-id-3 div.sk-label-container {\n",
       "  text-align: center;\n",
       "}\n",
       "\n",
       "/* Estimator-specific */\n",
       "#sk-container-id-3 div.sk-estimator {\n",
       "  font-family: monospace;\n",
       "  border: 1px dotted var(--sklearn-color-border-box);\n",
       "  border-radius: 0.25em;\n",
       "  box-sizing: border-box;\n",
       "  margin-bottom: 0.5em;\n",
       "  /* unfitted */\n",
       "  background-color: var(--sklearn-color-unfitted-level-0);\n",
       "}\n",
       "\n",
       "#sk-container-id-3 div.sk-estimator.fitted {\n",
       "  /* fitted */\n",
       "  background-color: var(--sklearn-color-fitted-level-0);\n",
       "}\n",
       "\n",
       "/* on hover */\n",
       "#sk-container-id-3 div.sk-estimator:hover {\n",
       "  /* unfitted */\n",
       "  background-color: var(--sklearn-color-unfitted-level-2);\n",
       "}\n",
       "\n",
       "#sk-container-id-3 div.sk-estimator.fitted:hover {\n",
       "  /* fitted */\n",
       "  background-color: var(--sklearn-color-fitted-level-2);\n",
       "}\n",
       "\n",
       "/* Specification for estimator info (e.g. \"i\" and \"?\") */\n",
       "\n",
       "/* Common style for \"i\" and \"?\" */\n",
       "\n",
       ".sk-estimator-doc-link,\n",
       "a:link.sk-estimator-doc-link,\n",
       "a:visited.sk-estimator-doc-link {\n",
       "  float: right;\n",
       "  font-size: smaller;\n",
       "  line-height: 1em;\n",
       "  font-family: monospace;\n",
       "  background-color: var(--sklearn-color-background);\n",
       "  border-radius: 1em;\n",
       "  height: 1em;\n",
       "  width: 1em;\n",
       "  text-decoration: none !important;\n",
       "  margin-left: 0.5em;\n",
       "  text-align: center;\n",
       "  /* unfitted */\n",
       "  border: var(--sklearn-color-unfitted-level-1) 1pt solid;\n",
       "  color: var(--sklearn-color-unfitted-level-1);\n",
       "}\n",
       "\n",
       ".sk-estimator-doc-link.fitted,\n",
       "a:link.sk-estimator-doc-link.fitted,\n",
       "a:visited.sk-estimator-doc-link.fitted {\n",
       "  /* fitted */\n",
       "  border: var(--sklearn-color-fitted-level-1) 1pt solid;\n",
       "  color: var(--sklearn-color-fitted-level-1);\n",
       "}\n",
       "\n",
       "/* On hover */\n",
       "div.sk-estimator:hover .sk-estimator-doc-link:hover,\n",
       ".sk-estimator-doc-link:hover,\n",
       "div.sk-label-container:hover .sk-estimator-doc-link:hover,\n",
       ".sk-estimator-doc-link:hover {\n",
       "  /* unfitted */\n",
       "  background-color: var(--sklearn-color-unfitted-level-3);\n",
       "  color: var(--sklearn-color-background);\n",
       "  text-decoration: none;\n",
       "}\n",
       "\n",
       "div.sk-estimator.fitted:hover .sk-estimator-doc-link.fitted:hover,\n",
       ".sk-estimator-doc-link.fitted:hover,\n",
       "div.sk-label-container:hover .sk-estimator-doc-link.fitted:hover,\n",
       ".sk-estimator-doc-link.fitted:hover {\n",
       "  /* fitted */\n",
       "  background-color: var(--sklearn-color-fitted-level-3);\n",
       "  color: var(--sklearn-color-background);\n",
       "  text-decoration: none;\n",
       "}\n",
       "\n",
       "/* Span, style for the box shown on hovering the info icon */\n",
       ".sk-estimator-doc-link span {\n",
       "  display: none;\n",
       "  z-index: 9999;\n",
       "  position: relative;\n",
       "  font-weight: normal;\n",
       "  right: .2ex;\n",
       "  padding: .5ex;\n",
       "  margin: .5ex;\n",
       "  width: min-content;\n",
       "  min-width: 20ex;\n",
       "  max-width: 50ex;\n",
       "  color: var(--sklearn-color-text);\n",
       "  box-shadow: 2pt 2pt 4pt #999;\n",
       "  /* unfitted */\n",
       "  background: var(--sklearn-color-unfitted-level-0);\n",
       "  border: .5pt solid var(--sklearn-color-unfitted-level-3);\n",
       "}\n",
       "\n",
       ".sk-estimator-doc-link.fitted span {\n",
       "  /* fitted */\n",
       "  background: var(--sklearn-color-fitted-level-0);\n",
       "  border: var(--sklearn-color-fitted-level-3);\n",
       "}\n",
       "\n",
       ".sk-estimator-doc-link:hover span {\n",
       "  display: block;\n",
       "}\n",
       "\n",
       "/* \"?\"-specific style due to the `<a>` HTML tag */\n",
       "\n",
       "#sk-container-id-3 a.estimator_doc_link {\n",
       "  float: right;\n",
       "  font-size: 1rem;\n",
       "  line-height: 1em;\n",
       "  font-family: monospace;\n",
       "  background-color: var(--sklearn-color-background);\n",
       "  border-radius: 1rem;\n",
       "  height: 1rem;\n",
       "  width: 1rem;\n",
       "  text-decoration: none;\n",
       "  /* unfitted */\n",
       "  color: var(--sklearn-color-unfitted-level-1);\n",
       "  border: var(--sklearn-color-unfitted-level-1) 1pt solid;\n",
       "}\n",
       "\n",
       "#sk-container-id-3 a.estimator_doc_link.fitted {\n",
       "  /* fitted */\n",
       "  border: var(--sklearn-color-fitted-level-1) 1pt solid;\n",
       "  color: var(--sklearn-color-fitted-level-1);\n",
       "}\n",
       "\n",
       "/* On hover */\n",
       "#sk-container-id-3 a.estimator_doc_link:hover {\n",
       "  /* unfitted */\n",
       "  background-color: var(--sklearn-color-unfitted-level-3);\n",
       "  color: var(--sklearn-color-background);\n",
       "  text-decoration: none;\n",
       "}\n",
       "\n",
       "#sk-container-id-3 a.estimator_doc_link.fitted:hover {\n",
       "  /* fitted */\n",
       "  background-color: var(--sklearn-color-fitted-level-3);\n",
       "}\n",
       "</style><div id=\"sk-container-id-3\" class=\"sk-top-container\"><div class=\"sk-text-repr-fallback\"><pre>Pipeline(steps=[(&#x27;transformation&#x27;,\n",
       "                 ColumnTransformer(remainder=&#x27;passthrough&#x27;, sparse_threshold=0,\n",
       "                                   transformers=[(&#x27;numerical&#x27;,\n",
       "                                                  Pipeline(steps=[(&#x27;null&#x27;,\n",
       "                                                                   SimpleImputer()),\n",
       "                                                                  (&#x27;min_max&#x27;,\n",
       "                                                                   MinMaxScaler())]),\n",
       "                                                  [&#x27;Depression&#x27;, &#x27;Insomnia&#x27;,\n",
       "                                                   &#x27;OCD&#x27;, &#x27;Age&#x27;,\n",
       "                                                   &#x27;Hours per day&#x27;]),\n",
       "                                                 (&#x27;bpm&#x27;,\n",
       "                                                  Pipeline(steps=[(&#x27;imputer&#x27;,\n",
       "                                                                   BPMImputer()),\n",
       "                                                                  (&#x27;scaler&#x27;,\n",
       "                                                                   MinMaxScaler())]),\n",
       "                                                  [&#x27;BPM&#x27;, &#x27;Fav genre&#x27;]),\n",
       "                                                 (&#x27;categor...\n",
       "                                                                   SimpleImputer(strategy=&#x27;most_frequent&#x27;)),\n",
       "                                                                  (&#x27;one_hot_encoder&#x27;,\n",
       "                                                                   OneHotEncoder(drop=&#x27;first&#x27;,\n",
       "                                                                                 handle_unknown=&#x27;ignore&#x27;)),\n",
       "                                                                  (&#x27;max_abs&#x27;,\n",
       "                                                                   MaxAbsScaler())]),\n",
       "                                                  [&#x27;Fav genre&#x27;])],\n",
       "                                   verbose_feature_names_out=False)),\n",
       "                (&#x27;sampler&#x27;, SMOTE(n_jobs=-1, sampling_strategy=0.7)),\n",
       "                (&#x27;dim_reduction&#x27;, None),\n",
       "                (&#x27;classifier&#x27;,\n",
       "                 RandomForestClassifier(max_depth=30, min_samples_leaf=5,\n",
       "                                        random_state=42))])</pre><b>In a Jupyter environment, please rerun this cell to show the HTML representation or trust the notebook. <br />On GitHub, the HTML representation is unable to render, please try loading this page with nbviewer.org.</b></div><div class=\"sk-container\" hidden><div class=\"sk-item sk-dashed-wrapped\"><div class=\"sk-label-container\"><div class=\"sk-label fitted sk-toggleable\"><input class=\"sk-toggleable__control sk-hidden--visually\" id=\"sk-estimator-id-42\" type=\"checkbox\" ><label for=\"sk-estimator-id-42\" class=\"sk-toggleable__label fitted sk-toggleable__label-arrow\"><div><div>Pipeline</div></div><div><span class=\"sk-estimator-doc-link fitted\">i<span>Fitted</span></span></div></label><div class=\"sk-toggleable__content fitted\"><pre>Pipeline(steps=[(&#x27;transformation&#x27;,\n",
       "                 ColumnTransformer(remainder=&#x27;passthrough&#x27;, sparse_threshold=0,\n",
       "                                   transformers=[(&#x27;numerical&#x27;,\n",
       "                                                  Pipeline(steps=[(&#x27;null&#x27;,\n",
       "                                                                   SimpleImputer()),\n",
       "                                                                  (&#x27;min_max&#x27;,\n",
       "                                                                   MinMaxScaler())]),\n",
       "                                                  [&#x27;Depression&#x27;, &#x27;Insomnia&#x27;,\n",
       "                                                   &#x27;OCD&#x27;, &#x27;Age&#x27;,\n",
       "                                                   &#x27;Hours per day&#x27;]),\n",
       "                                                 (&#x27;bpm&#x27;,\n",
       "                                                  Pipeline(steps=[(&#x27;imputer&#x27;,\n",
       "                                                                   BPMImputer()),\n",
       "                                                                  (&#x27;scaler&#x27;,\n",
       "                                                                   MinMaxScaler())]),\n",
       "                                                  [&#x27;BPM&#x27;, &#x27;Fav genre&#x27;]),\n",
       "                                                 (&#x27;categor...\n",
       "                                                                   SimpleImputer(strategy=&#x27;most_frequent&#x27;)),\n",
       "                                                                  (&#x27;one_hot_encoder&#x27;,\n",
       "                                                                   OneHotEncoder(drop=&#x27;first&#x27;,\n",
       "                                                                                 handle_unknown=&#x27;ignore&#x27;)),\n",
       "                                                                  (&#x27;max_abs&#x27;,\n",
       "                                                                   MaxAbsScaler())]),\n",
       "                                                  [&#x27;Fav genre&#x27;])],\n",
       "                                   verbose_feature_names_out=False)),\n",
       "                (&#x27;sampler&#x27;, SMOTE(n_jobs=-1, sampling_strategy=0.7)),\n",
       "                (&#x27;dim_reduction&#x27;, None),\n",
       "                (&#x27;classifier&#x27;,\n",
       "                 RandomForestClassifier(max_depth=30, min_samples_leaf=5,\n",
       "                                        random_state=42))])</pre></div> </div></div><div class=\"sk-serial\"><div class=\"sk-item sk-dashed-wrapped\"><div class=\"sk-label-container\"><div class=\"sk-label fitted sk-toggleable\"><input class=\"sk-toggleable__control sk-hidden--visually\" id=\"sk-estimator-id-43\" type=\"checkbox\" ><label for=\"sk-estimator-id-43\" class=\"sk-toggleable__label fitted sk-toggleable__label-arrow\"><div><div>transformation: ColumnTransformer</div></div><div><a class=\"sk-estimator-doc-link fitted\" rel=\"noreferrer\" target=\"_blank\" href=\"https://scikit-learn.org/1.6/modules/generated/sklearn.compose.ColumnTransformer.html\">?<span>Documentation for transformation: ColumnTransformer</span></a></div></label><div class=\"sk-toggleable__content fitted\"><pre>ColumnTransformer(remainder=&#x27;passthrough&#x27;, sparse_threshold=0,\n",
       "                  transformers=[(&#x27;numerical&#x27;,\n",
       "                                 Pipeline(steps=[(&#x27;null&#x27;, SimpleImputer()),\n",
       "                                                 (&#x27;min_max&#x27;, MinMaxScaler())]),\n",
       "                                 [&#x27;Depression&#x27;, &#x27;Insomnia&#x27;, &#x27;OCD&#x27;, &#x27;Age&#x27;,\n",
       "                                  &#x27;Hours per day&#x27;]),\n",
       "                                (&#x27;bpm&#x27;,\n",
       "                                 Pipeline(steps=[(&#x27;imputer&#x27;, BPMImputer()),\n",
       "                                                 (&#x27;scaler&#x27;, MinMaxScaler())]),\n",
       "                                 [&#x27;BPM&#x27;, &#x27;Fav genre&#x27;]),\n",
       "                                (&#x27;categorical&#x27;,\n",
       "                                 Pipeline(steps=[(&#x27;null&#x27;,\n",
       "                                                  Simp...\n",
       "                                  &#x27;Frequency _Lofi_&#x27;, &#x27;Frequency _Metal_&#x27;,\n",
       "                                  &#x27;Frequency _Pop_&#x27;, &#x27;Frequency _R&amp;B_&#x27;,\n",
       "                                  &#x27;Frequency _Rap_&#x27;, &#x27;Frequency _Rock_&#x27;,\n",
       "                                  &#x27;Frequency _Video game music_&#x27;,\n",
       "                                  &#x27;Music effects&#x27;]),\n",
       "                                (&#x27;fav_genre&#x27;,\n",
       "                                 Pipeline(steps=[(&#x27;null&#x27;,\n",
       "                                                  SimpleImputer(strategy=&#x27;most_frequent&#x27;)),\n",
       "                                                 (&#x27;one_hot_encoder&#x27;,\n",
       "                                                  OneHotEncoder(drop=&#x27;first&#x27;,\n",
       "                                                                handle_unknown=&#x27;ignore&#x27;)),\n",
       "                                                 (&#x27;max_abs&#x27;, MaxAbsScaler())]),\n",
       "                                 [&#x27;Fav genre&#x27;])],\n",
       "                  verbose_feature_names_out=False)</pre></div> </div></div><div class=\"sk-parallel\"><div class=\"sk-parallel-item\"><div class=\"sk-item\"><div class=\"sk-label-container\"><div class=\"sk-label fitted sk-toggleable\"><input class=\"sk-toggleable__control sk-hidden--visually\" id=\"sk-estimator-id-44\" type=\"checkbox\" ><label for=\"sk-estimator-id-44\" class=\"sk-toggleable__label fitted sk-toggleable__label-arrow\"><div><div>numerical</div></div></label><div class=\"sk-toggleable__content fitted\"><pre>[&#x27;Depression&#x27;, &#x27;Insomnia&#x27;, &#x27;OCD&#x27;, &#x27;Age&#x27;, &#x27;Hours per day&#x27;]</pre></div> </div></div><div class=\"sk-serial\"><div class=\"sk-item\"><div class=\"sk-serial\"><div class=\"sk-item\"><div class=\"sk-estimator fitted sk-toggleable\"><input class=\"sk-toggleable__control sk-hidden--visually\" id=\"sk-estimator-id-45\" type=\"checkbox\" ><label for=\"sk-estimator-id-45\" class=\"sk-toggleable__label fitted sk-toggleable__label-arrow\"><div><div>SimpleImputer</div></div><div><a class=\"sk-estimator-doc-link fitted\" rel=\"noreferrer\" target=\"_blank\" href=\"https://scikit-learn.org/1.6/modules/generated/sklearn.impute.SimpleImputer.html\">?<span>Documentation for SimpleImputer</span></a></div></label><div class=\"sk-toggleable__content fitted\"><pre>SimpleImputer()</pre></div> </div></div><div class=\"sk-item\"><div class=\"sk-estimator fitted sk-toggleable\"><input class=\"sk-toggleable__control sk-hidden--visually\" id=\"sk-estimator-id-46\" type=\"checkbox\" ><label for=\"sk-estimator-id-46\" class=\"sk-toggleable__label fitted sk-toggleable__label-arrow\"><div><div>MinMaxScaler</div></div><div><a class=\"sk-estimator-doc-link fitted\" rel=\"noreferrer\" target=\"_blank\" href=\"https://scikit-learn.org/1.6/modules/generated/sklearn.preprocessing.MinMaxScaler.html\">?<span>Documentation for MinMaxScaler</span></a></div></label><div class=\"sk-toggleable__content fitted\"><pre>MinMaxScaler()</pre></div> </div></div></div></div></div></div></div><div class=\"sk-parallel-item\"><div class=\"sk-item\"><div class=\"sk-label-container\"><div class=\"sk-label fitted sk-toggleable\"><input class=\"sk-toggleable__control sk-hidden--visually\" id=\"sk-estimator-id-47\" type=\"checkbox\" ><label for=\"sk-estimator-id-47\" class=\"sk-toggleable__label fitted sk-toggleable__label-arrow\"><div><div>bpm</div></div></label><div class=\"sk-toggleable__content fitted\"><pre>[&#x27;BPM&#x27;, &#x27;Fav genre&#x27;]</pre></div> </div></div><div class=\"sk-serial\"><div class=\"sk-item\"><div class=\"sk-serial\"><div class=\"sk-item\"><div class=\"sk-estimator fitted sk-toggleable\"><input class=\"sk-toggleable__control sk-hidden--visually\" id=\"sk-estimator-id-48\" type=\"checkbox\" ><label for=\"sk-estimator-id-48\" class=\"sk-toggleable__label fitted sk-toggleable__label-arrow\"><div><div>BPMImputer</div></div></label><div class=\"sk-toggleable__content fitted\"><pre>BPMImputer()</pre></div> </div></div><div class=\"sk-item\"><div class=\"sk-estimator fitted sk-toggleable\"><input class=\"sk-toggleable__control sk-hidden--visually\" id=\"sk-estimator-id-49\" type=\"checkbox\" ><label for=\"sk-estimator-id-49\" class=\"sk-toggleable__label fitted sk-toggleable__label-arrow\"><div><div>MinMaxScaler</div></div><div><a class=\"sk-estimator-doc-link fitted\" rel=\"noreferrer\" target=\"_blank\" href=\"https://scikit-learn.org/1.6/modules/generated/sklearn.preprocessing.MinMaxScaler.html\">?<span>Documentation for MinMaxScaler</span></a></div></label><div class=\"sk-toggleable__content fitted\"><pre>MinMaxScaler()</pre></div> </div></div></div></div></div></div></div><div class=\"sk-parallel-item\"><div class=\"sk-item\"><div class=\"sk-label-container\"><div class=\"sk-label fitted sk-toggleable\"><input class=\"sk-toggleable__control sk-hidden--visually\" id=\"sk-estimator-id-50\" type=\"checkbox\" ><label for=\"sk-estimator-id-50\" class=\"sk-toggleable__label fitted sk-toggleable__label-arrow\"><div><div>categorical</div></div></label><div class=\"sk-toggleable__content fitted\"><pre>[&#x27;While working&#x27;, &#x27;Instrumentalist&#x27;, &#x27;Composer&#x27;, &#x27;Foreign languages&#x27;, &#x27;Exploratory&#x27;, &#x27;Frequency _Classical_&#x27;, &#x27;Frequency _Country_&#x27;, &#x27;Frequency _EDM_&#x27;, &#x27;Frequency _Folk_&#x27;, &#x27;Frequency _Gospel_&#x27;, &#x27;Frequency _Hip hop_&#x27;, &#x27;Frequency _Jazz_&#x27;, &#x27;Frequency _K pop_&#x27;, &#x27;Frequency _Latin_&#x27;, &#x27;Frequency _Lofi_&#x27;, &#x27;Frequency _Metal_&#x27;, &#x27;Frequency _Pop_&#x27;, &#x27;Frequency _R&amp;B_&#x27;, &#x27;Frequency _Rap_&#x27;, &#x27;Frequency _Rock_&#x27;, &#x27;Frequency _Video game music_&#x27;, &#x27;Music effects&#x27;]</pre></div> </div></div><div class=\"sk-serial\"><div class=\"sk-item\"><div class=\"sk-serial\"><div class=\"sk-item\"><div class=\"sk-estimator fitted sk-toggleable\"><input class=\"sk-toggleable__control sk-hidden--visually\" id=\"sk-estimator-id-51\" type=\"checkbox\" ><label for=\"sk-estimator-id-51\" class=\"sk-toggleable__label fitted sk-toggleable__label-arrow\"><div><div>SimpleImputer</div></div><div><a class=\"sk-estimator-doc-link fitted\" rel=\"noreferrer\" target=\"_blank\" href=\"https://scikit-learn.org/1.6/modules/generated/sklearn.impute.SimpleImputer.html\">?<span>Documentation for SimpleImputer</span></a></div></label><div class=\"sk-toggleable__content fitted\"><pre>SimpleImputer(strategy=&#x27;most_frequent&#x27;)</pre></div> </div></div><div class=\"sk-item\"><div class=\"sk-estimator fitted sk-toggleable\"><input class=\"sk-toggleable__control sk-hidden--visually\" id=\"sk-estimator-id-52\" type=\"checkbox\" ><label for=\"sk-estimator-id-52\" class=\"sk-toggleable__label fitted sk-toggleable__label-arrow\"><div><div>OrdinalEncoder</div></div><div><a class=\"sk-estimator-doc-link fitted\" rel=\"noreferrer\" target=\"_blank\" href=\"https://scikit-learn.org/1.6/modules/generated/sklearn.preprocessing.OrdinalEncoder.html\">?<span>Documentation for OrdinalEncoder</span></a></div></label><div class=\"sk-toggleable__content fitted\"><pre>OrdinalEncoder()</pre></div> </div></div></div></div></div></div></div><div class=\"sk-parallel-item\"><div class=\"sk-item\"><div class=\"sk-label-container\"><div class=\"sk-label fitted sk-toggleable\"><input class=\"sk-toggleable__control sk-hidden--visually\" id=\"sk-estimator-id-53\" type=\"checkbox\" ><label for=\"sk-estimator-id-53\" class=\"sk-toggleable__label fitted sk-toggleable__label-arrow\"><div><div>fav_genre</div></div></label><div class=\"sk-toggleable__content fitted\"><pre>[&#x27;Fav genre&#x27;]</pre></div> </div></div><div class=\"sk-serial\"><div class=\"sk-item\"><div class=\"sk-serial\"><div class=\"sk-item\"><div class=\"sk-estimator fitted sk-toggleable\"><input class=\"sk-toggleable__control sk-hidden--visually\" id=\"sk-estimator-id-54\" type=\"checkbox\" ><label for=\"sk-estimator-id-54\" class=\"sk-toggleable__label fitted sk-toggleable__label-arrow\"><div><div>SimpleImputer</div></div><div><a class=\"sk-estimator-doc-link fitted\" rel=\"noreferrer\" target=\"_blank\" href=\"https://scikit-learn.org/1.6/modules/generated/sklearn.impute.SimpleImputer.html\">?<span>Documentation for SimpleImputer</span></a></div></label><div class=\"sk-toggleable__content fitted\"><pre>SimpleImputer(strategy=&#x27;most_frequent&#x27;)</pre></div> </div></div><div class=\"sk-item\"><div class=\"sk-estimator fitted sk-toggleable\"><input class=\"sk-toggleable__control sk-hidden--visually\" id=\"sk-estimator-id-55\" type=\"checkbox\" ><label for=\"sk-estimator-id-55\" class=\"sk-toggleable__label fitted sk-toggleable__label-arrow\"><div><div>OneHotEncoder</div></div><div><a class=\"sk-estimator-doc-link fitted\" rel=\"noreferrer\" target=\"_blank\" href=\"https://scikit-learn.org/1.6/modules/generated/sklearn.preprocessing.OneHotEncoder.html\">?<span>Documentation for OneHotEncoder</span></a></div></label><div class=\"sk-toggleable__content fitted\"><pre>OneHotEncoder(drop=&#x27;first&#x27;, handle_unknown=&#x27;ignore&#x27;)</pre></div> </div></div><div class=\"sk-item\"><div class=\"sk-estimator fitted sk-toggleable\"><input class=\"sk-toggleable__control sk-hidden--visually\" id=\"sk-estimator-id-56\" type=\"checkbox\" ><label for=\"sk-estimator-id-56\" class=\"sk-toggleable__label fitted sk-toggleable__label-arrow\"><div><div>MaxAbsScaler</div></div><div><a class=\"sk-estimator-doc-link fitted\" rel=\"noreferrer\" target=\"_blank\" href=\"https://scikit-learn.org/1.6/modules/generated/sklearn.preprocessing.MaxAbsScaler.html\">?<span>Documentation for MaxAbsScaler</span></a></div></label><div class=\"sk-toggleable__content fitted\"><pre>MaxAbsScaler()</pre></div> </div></div></div></div></div></div></div><div class=\"sk-parallel-item\"><div class=\"sk-item\"><div class=\"sk-label-container\"><div class=\"sk-label fitted sk-toggleable\"><input class=\"sk-toggleable__control sk-hidden--visually\" id=\"sk-estimator-id-57\" type=\"checkbox\" ><label for=\"sk-estimator-id-57\" class=\"sk-toggleable__label fitted sk-toggleable__label-arrow\"><div><div>remainder</div></div></label><div class=\"sk-toggleable__content fitted\"><pre>[]</pre></div> </div></div><div class=\"sk-serial\"><div class=\"sk-item\"><div class=\"sk-estimator fitted sk-toggleable\"><input class=\"sk-toggleable__control sk-hidden--visually\" id=\"sk-estimator-id-58\" type=\"checkbox\" ><label for=\"sk-estimator-id-58\" class=\"sk-toggleable__label fitted sk-toggleable__label-arrow\"><div><div>passthrough</div></div></label><div class=\"sk-toggleable__content fitted\"><pre>passthrough</pre></div> </div></div></div></div></div></div></div><div class=\"sk-item\"><div class=\"sk-estimator fitted sk-toggleable\"><input class=\"sk-toggleable__control sk-hidden--visually\" id=\"sk-estimator-id-59\" type=\"checkbox\" ><label for=\"sk-estimator-id-59\" class=\"sk-toggleable__label fitted sk-toggleable__label-arrow\"><div><div>SMOTE</div></div></label><div class=\"sk-toggleable__content fitted\"><pre>SMOTE(n_jobs=-1, sampling_strategy=0.7)</pre></div> </div></div><div class=\"sk-item\"><div class=\"sk-estimator fitted sk-toggleable\"><input class=\"sk-toggleable__control sk-hidden--visually\" id=\"sk-estimator-id-60\" type=\"checkbox\" ><label for=\"sk-estimator-id-60\" class=\"sk-toggleable__label fitted sk-toggleable__label-arrow\"><div><div>None</div></div></label><div class=\"sk-toggleable__content fitted\"><pre>None</pre></div> </div></div><div class=\"sk-item\"><div class=\"sk-estimator fitted sk-toggleable\"><input class=\"sk-toggleable__control sk-hidden--visually\" id=\"sk-estimator-id-61\" type=\"checkbox\" ><label for=\"sk-estimator-id-61\" class=\"sk-toggleable__label fitted sk-toggleable__label-arrow\"><div><div>RandomForestClassifier</div></div><div><a class=\"sk-estimator-doc-link fitted\" rel=\"noreferrer\" target=\"_blank\" href=\"https://scikit-learn.org/1.6/modules/generated/sklearn.ensemble.RandomForestClassifier.html\">?<span>Documentation for RandomForestClassifier</span></a></div></label><div class=\"sk-toggleable__content fitted\"><pre>RandomForestClassifier(max_depth=30, min_samples_leaf=5, random_state=42)</pre></div> </div></div></div></div></div></div>"
      ],
      "text/plain": [
       "Pipeline(steps=[('transformation',\n",
       "                 ColumnTransformer(remainder='passthrough', sparse_threshold=0,\n",
       "                                   transformers=[('numerical',\n",
       "                                                  Pipeline(steps=[('null',\n",
       "                                                                   SimpleImputer()),\n",
       "                                                                  ('min_max',\n",
       "                                                                   MinMaxScaler())]),\n",
       "                                                  ['Depression', 'Insomnia',\n",
       "                                                   'OCD', 'Age',\n",
       "                                                   'Hours per day']),\n",
       "                                                 ('bpm',\n",
       "                                                  Pipeline(steps=[('imputer',\n",
       "                                                                   BPMImputer()),\n",
       "                                                                  ('scaler',\n",
       "                                                                   MinMaxScaler())]),\n",
       "                                                  ['BPM', 'Fav genre']),\n",
       "                                                 ('categor...\n",
       "                                                                   SimpleImputer(strategy='most_frequent')),\n",
       "                                                                  ('one_hot_encoder',\n",
       "                                                                   OneHotEncoder(drop='first',\n",
       "                                                                                 handle_unknown='ignore')),\n",
       "                                                                  ('max_abs',\n",
       "                                                                   MaxAbsScaler())]),\n",
       "                                                  ['Fav genre'])],\n",
       "                                   verbose_feature_names_out=False)),\n",
       "                ('sampler', SMOTE(n_jobs=-1, sampling_strategy=0.7)),\n",
       "                ('dim_reduction', None),\n",
       "                ('classifier',\n",
       "                 RandomForestClassifier(max_depth=30, min_samples_leaf=5,\n",
       "                                        random_state=42))])"
      ]
     },
     "execution_count": 39,
     "metadata": {},
     "output_type": "execute_result"
    }
   ],
   "source": [
    "best_estimator = best_rs.best_estimator_\n",
    "best_estimator"
   ]
  },
  {
   "cell_type": "markdown",
   "metadata": {},
   "source": [
    "The final pipeline, after *hyperparameter tuning*, shows that the best model configuration for the *RandomForestClassifier* includes a <code>max_depth</code> of 30, <code>min_samples_leaf</code> of 5, and a <code>sampling_strategy</code> of 0.7 for *SMOTE*. The <code>random_state</code> is fixed at 42 to ensure reproducibility.\n",
    "\n",
    "In comparison with the initial configuration, this setup allows for a more controlled model.\n",
    "\n",
    "- The initial configuration, with a <code>max_depth</code> of 10 and <code>min_samples_leaf</code> of 2, was more shallow and less regularized. While it could capture basic patterns in the data, the model had higher potential for overfitting.\n",
    "\n",
    "- In contrast, the tuned configuration increases the <code>max_depth</code> to 30, allowing for deeper trees that can capture more complex relationships. The higher <code>min_samples_leaf</code> of 5 reduces overfitting by ensuring each leaf node has more samples, promoting generalization.\n",
    "\n",
    "- The application of *SMOTE* with a <code>sampling_strategy</code> of 0.7 helps address class imbalance by generating synthetic samples for 70% of the minority class, offering a more moderate approach compared to the initial configuration, which applied it with a <code>sampling_strategy</code> of \"minority,\" resulting in a more aggressive oversampling."
   ]
  },
  {
   "cell_type": "markdown",
   "metadata": {
    "cell_id": "bde788ee73f540b790defbb15b084fd2",
    "deepnote_cell_type": "text-cell-h1",
    "formattedRanges": []
   },
   "source": [
    "# Evaluation"
   ]
  },
  {
   "cell_type": "markdown",
   "metadata": {},
   "source": [
    "During evaluation, our goal is to assess the model's performance on unseen data, represented by the test set. We first measure the model's performance using various metrics, such as *F1-score, precision, recall*, and *accuracy*."
   ]
  },
  {
   "cell_type": "code",
   "execution_count": 40,
   "metadata": {
    "cell_id": "9a6dfaa1805343798b5c18f107cfbc5c",
    "deepnote_cell_type": "code",
    "execution_context_id": "bd6ba632-1d63-4e06-aab9-a07fb8971418",
    "execution_millis": 84,
    "execution_start": 1738081320447,
    "source_hash": "c023ed58"
   },
   "outputs": [
    {
     "name": "stdout",
     "output_type": "stream",
     "text": [
      "F1 Score: 0.8557692307692307\n",
      "Precision: 0.8240740740740741\n",
      "Recall: 0.89\n",
      "Accuracy: 0.7945205479452054\n"
     ]
    }
   ],
   "source": [
    "f1_score = f1_score(y_test, best_estimator.predict(X_test), average='binary')\n",
    "precision = precision_score(y_test, best_estimator.predict(X_test))\n",
    "recall = recall_score(y_test, best_estimator.predict(X_test))\n",
    "accuracy = accuracy_score(y_test, best_estimator.predict(X_test))\n",
    "\n",
    "print(\"F1 Score:\", f1_score)\n",
    "print(\"Precision:\", precision)\n",
    "print(\"Recall:\", recall)\n",
    "print(\"Accuracy:\", accuracy)"
   ]
  },
  {
   "cell_type": "markdown",
   "metadata": {
    "cell_id": "90f41e9a41c842e4ac03b3ec4cd4014e",
    "deepnote_cell_type": "text-cell-h2",
    "formattedRanges": []
   },
   "source": [
    "## Confusion Matrix"
   ]
  },
  {
   "cell_type": "markdown",
   "metadata": {},
   "source": [
    "The confusion matrix is visualized to analyze how precision, recall, F1 score, and accuracy are derived. It breaks down predictions into True Positives (TP), False Positives (FP), True Negatives (TN), and False Negatives (FN), highlighting the relationships:\n",
    "- Precision depends on TP and FP;\n",
    "- Recall on TP and FN;\n",
    "- F1 balances the two;\n",
    "- Accuracy reflects overall correct predictions."
   ]
  },
  {
   "cell_type": "code",
   "execution_count": 41,
   "metadata": {
    "cell_id": "d5fb917431df48a48f10469dba666b60",
    "deepnote_cell_type": "code",
    "execution_context_id": "bd6ba632-1d63-4e06-aab9-a07fb8971418",
    "execution_millis": 223,
    "execution_start": 1738081320595,
    "source_hash": "84745778"
   },
   "outputs": [
    {
     "data": {
      "image/png": "[encoded data removed]",
      "text/plain": [
       "<Figure size 640x480 with 2 Axes>"
      ]
     },
     "metadata": {
      "image/png": {
       "height": 469,
       "width": 629
      }
     },
     "output_type": "display_data"
    }
   ],
   "source": [
    "# Generate predictions\n",
    "y_pred = best_estimator.predict(X_test)\n",
    "\n",
    "# Compute confusion matrix\n",
    "cm = confusion_matrix(y_test, y_pred)\n",
    "\n",
    "disp = ConfusionMatrixDisplay(confusion_matrix=cm, display_labels=[\"Not Significant (0)\", \"Significant (1)\"])\n",
    "disp.plot(cmap='Blues')\n",
    "plt.title('Confusion Matrix for Anxiety Classification', fontsize=14)\n",
    "plt.xlabel('Predicted Labels', fontsize=12)\n",
    "plt.ylabel('True Labels', fontsize=12)\n",
    "plt.tight_layout()\n",
    "plt.show()"
   ]
  },
  {
   "cell_type": "markdown",
   "metadata": {},
   "source": [
    "The confusion matrix reveals that the model correctly identifies 89 significant cases of anxiety as significant (True Positives, TP = 89) and accurately classifies 27 not significant cases as not significant (True Negatives, TN = 27).\n",
    "\n",
    "However, 19 cases are incorrectly classified as significant when they are not (False Positives, FP = 19), lowering precision.\n",
    "\n",
    "Additionally, 11 significant cases are missed and classified as not significant (False Negatives, FN = 11), which impacts recall."
   ]
  },
  {
   "cell_type": "markdown",
   "metadata": {
    "cell_id": "acc355245f6f45ae89d9282acb4d2daf",
    "deepnote_cell_type": "text-cell-h2",
    "formattedRanges": []
   },
   "source": [
    "## Precision-Recall Curve (PRC)"
   ]
  },
  {
   "cell_type": "markdown",
   "metadata": {},
   "source": [
    "Next, the *Precision-Recall Curve* is visualized to evaluate the model's performance specifically for the positive class. This curve highlights the trade-off between precision (the proportion of true positives among predicted positives) and recall (the proportion of true positives among actual positives) as the classification threshold varies."
   ]
  },
  {
   "cell_type": "code",
   "execution_count": 42,
   "metadata": {
    "cell_id": "1ac7ca8a3e454817aac27ab444be713f",
    "deepnote_cell_type": "code",
    "execution_context_id": "bd6ba632-1d63-4e06-aab9-a07fb8971418",
    "execution_millis": 171,
    "execution_start": 1738081320867,
    "source_hash": "bddcec60"
   },
   "outputs": [
    {
     "data": {
      "image/png": "[encoded data removed]",
      "text/plain": [
       "<Figure size 640x480 with 1 Axes>"
      ]
     },
     "metadata": {
      "image/png": {
       "height": 455,
       "width": 576
      }
     },
     "output_type": "display_data"
    }
   ],
   "source": [
    "# Predicted probabilities for the positive class\n",
    "y_prob = best_estimator.predict_proba(X_test)[:, 1]\n",
    "\n",
    "# Compute Precision-Recall Curve\n",
    "precision, recall, thresholds = precision_recall_curve(y_test, y_prob)\n",
    "\n",
    "# Plot the curve\n",
    "plt.plot(recall, precision, label=\"Precision-Recall Curve\")\n",
    "plt.xlabel(\"Recall\")\n",
    "plt.ylabel(\"Precision\")\n",
    "plt.title(\"Precision-Recall Curve\")\n",
    "plt.legend()\n",
    "plt.show()"
   ]
  },
  {
   "cell_type": "markdown",
   "metadata": {
    "cell_id": "a467dbbda7b5401881cd487afae851ed",
    "deepnote_cell_type": "text-cell-p",
    "formattedRanges": []
   },
   "source": [
    "The Precision-Recall Curve shows that the model achieves an overall balance but does not fully reach optimal performance.\n",
    "\n",
    "- At lower thresholds, recall improves but precision drops to around 0.7 due to false positives.\n",
    "- At higher thresholds, precision increases but recall declines.\n",
    "\n",
    "While the trade-off is reasonable, the model struggles to maintain consistently high precision across all recall values."
   ]
  },
  {
   "cell_type": "markdown",
   "metadata": {
    "cell_id": "d02cef67dca94615ad1ca86f3a359568",
    "deepnote_cell_type": "text-cell-h2",
    "formattedRanges": []
   },
   "source": [
    "## ROC Curve and AUC"
   ]
  },
  {
   "cell_type": "markdown",
   "metadata": {},
   "source": [
    "The *ROC Curve* is visualized to assess the model's overall performance by analyzing the *trade-off* between recall (true positive rate) and the false positive rate across thresholds.\n",
    "\n",
    "Unlike the Precision-Recall Curve, which focuses on the positive class, the ROC Curve provides a global view of the classifier's ability to distinguish between classes."
   ]
  },
  {
   "cell_type": "code",
   "execution_count": 43,
   "metadata": {
    "cell_id": "2a94ae1d25334a3b8a2a3bdf31659e2e",
    "deepnote_cell_type": "code",
    "execution_context_id": "bd6ba632-1d63-4e06-aab9-a07fb8971418",
    "execution_millis": 220,
    "execution_start": 1738081321087,
    "source_hash": "df60d61e"
   },
   "outputs": [
    {
     "data": {
      "image/png": "[encoded data removed]",
      "text/plain": [
       "<Figure size 800x600 with 1 Axes>"
      ]
     },
     "metadata": {
      "image/png": {
       "height": 590,
       "width": 790
      }
     },
     "output_type": "display_data"
    }
   ],
   "source": [
    "# Compute ROC curve\n",
    "fpr, tpr, thresholds = roc_curve(y_test, y_prob)\n",
    "\n",
    "# Compute AUC using 'roc_auc_score'\n",
    "roc_auc = roc_auc_score(y_test, y_prob)\n",
    "\n",
    "# Plot ROC Curve\n",
    "plt.figure(figsize=(8, 6))\n",
    "plt.plot(fpr, tpr, color='blue', label=f\"ROC Curve (AUC = {roc_auc:.2f})\")\n",
    "plt.plot([0, 1], [0, 1], color='gray', linestyle='--', label=\"Random Classifier\")  # Diagonal reference line\n",
    "plt.xlabel(\"False Positive Rate\", fontsize=12)\n",
    "plt.ylabel(\"True Positive Rate (Recall)\", fontsize=12)\n",
    "plt.title(\"ROC Curve\", fontsize=14)\n",
    "plt.legend(loc=\"lower right\", fontsize=10)\n",
    "plt.grid(True)\n",
    "plt.tight_layout()\n",
    "plt.show()"
   ]
  },
  {
   "cell_type": "markdown",
   "metadata": {},
   "source": [
    "The ROC Curve indicates the model's ability to distinguish between classes, with an *AUC (Area Under the Curve)* of 0.85.\n",
    "\n",
    "While the model performs better than random guessing (AUC = 0.5), the curve's deviation from the ideal step-like shape highlights room for improvement in balancing recall and the false positive rate."
   ]
  },
  {
   "cell_type": "markdown",
   "metadata": {
    "cell_id": "8e38164ec25848f1b09c7a40a71cd868",
    "deepnote_cell_type": "text-cell-h2",
    "formattedRanges": []
   },
   "source": [
    "## Learning curve"
   ]
  },
  {
   "cell_type": "markdown",
   "metadata": {},
   "source": [
    "The *Learning Curve* is visualized to evaluate the model's performance as a function of the training set size. This analysis helps identify issues such as overfitting or underfitting by comparing the model's accuracy on the training and validation sets."
   ]
  },
  {
   "cell_type": "code",
   "execution_count": 44,
   "metadata": {
    "cell_id": "7a92f48269c049eeaff584b2924c36b7",
    "deepnote_cell_type": "code",
    "execution_context_id": "bd6ba632-1d63-4e06-aab9-a07fb8971418",
    "execution_millis": 11040,
    "execution_start": 1738081321359,
    "source_hash": "54174704"
   },
   "outputs": [],
   "source": [
    "train_sizes, train_scores, test_scores = learning_curve(\n",
    "    estimator=best_estimator,              \n",
    "    X=X_train,\n",
    "    y=y_train,\n",
    "    train_sizes=[0.01, 0.1, 0.2, 0.3, 0.4, 0.5, 0.6, 0.7, 0.8, 0.9, 1.0],  # Proportions of training data\n",
    "    cv=5,\n",
    "    n_jobs=-1,\n",
    "    scoring='f1',\n",
    "    shuffle=False\n",
    ")"
   ]
  },
  {
   "cell_type": "code",
   "execution_count": 45,
   "metadata": {
    "cell_id": "5d126ef0e3b046aba582fb714c40860c",
    "deepnote_cell_type": "code",
    "execution_context_id": "bd6ba632-1d63-4e06-aab9-a07fb8971418",
    "execution_millis": 0,
    "execution_start": 1738081332451,
    "source_hash": "47c0425e"
   },
   "outputs": [
    {
     "data": {
      "text/plain": [
       "(0.6, 1.03)"
      ]
     },
     "execution_count": 45,
     "metadata": {},
     "output_type": "execute_result"
    },
    {
     "data": {
      "image/png": "[encoded data removed]",
      "text/plain": [
       "<Figure size 1200x700 with 1 Axes>"
      ]
     },
     "metadata": {
      "image/png": {
       "height": 602,
       "width": 1010
      }
     },
     "output_type": "display_data"
    }
   ],
   "source": [
    "train_mean = np.mean(train_scores, axis=1)\n",
    "train_std = np.std(train_scores, axis=1)\n",
    "test_mean = np.mean(test_scores, axis=1)\n",
    "test_std = np.std(test_scores, axis=1)\n",
    "\n",
    "fig=plt.figure(figsize=(12,7))\n",
    "ax = fig.add_subplot()\n",
    "\n",
    "ax.plot(train_sizes, train_mean,\n",
    "         color='blue', marker='+',\n",
    "         markersize=5, label='Training F1')\n",
    "\n",
    "ax.fill_between(train_sizes,\n",
    "                 train_mean + train_std,\n",
    "                 train_mean - train_std,\n",
    "                 alpha=0.15, color='blue')\n",
    "\n",
    "ax.plot(train_sizes, test_mean,\n",
    "         color='green', linestyle='--',\n",
    "         marker='d', markersize=5,\n",
    "         label='Validation F1')\n",
    "\n",
    "ax.fill_between(train_sizes,\n",
    "                 test_mean + test_std,\n",
    "                 test_mean - test_std,\n",
    "                 alpha=0.15, color='green')\n",
    "\n",
    "ax.grid()\n",
    "ax.set_xlabel('Training set size')\n",
    "ax.set_ylabel('F1-score')\n",
    "ax.legend(loc='lower right')\n",
    "ax.set_ylim([0.60, 1.03])"
   ]
  },
  {
   "cell_type": "markdown",
   "metadata": {},
   "source": [
    "The learning curve indicates that the model is overfitted:\n",
    "\n",
    "- *Training F1 Score*: The training curve starts at a perfect F1 score (1.0) but gradually decreases as the training set size increases. This behavior is expected as the model encounters more diverse data, making it harder to fit perfectly. However, the training F1 score remains consistently high, suggesting that the model is fitting noise and struggling to generalize.\n",
    "\n",
    "- *Validation F1 Score*: The validation curve is relatively stable but consistently lower than the training curve, indicating poor generalization. This persistent gap between the two scores highlights overfitting, as the model performs well on the training data but struggles to replicate this performance on unseen data.\n",
    "\n",
    "- *Convergence*: The gap between the training and validation scores does not significantly narrow as the training size increases. Adding more data might help reduce overfitting."
   ]
  },
  {
   "cell_type": "markdown",
   "metadata": {
    "cell_id": "359470263e6c44d8b3dee95baad87bf8",
    "deepnote_cell_type": "text-cell-h2",
    "formattedRanges": []
   },
   "source": [
    "## Validation curve"
   ]
  },
  {
   "cell_type": "markdown",
   "metadata": {},
   "source": [
    "The Validation Curve is visualized to analyze the model's performance as a function of a specific hyperparameter.\n",
    "\n",
    "I chose <code>max_depth</code> of the Random Forest Classifier as the parameter, as it directly controls the complexity of the trees. "
   ]
  },
  {
   "cell_type": "code",
   "execution_count": 49,
   "metadata": {
    "cell_id": "ff83c442233745ffb719566228b5b1b9",
    "deepnote_cell_type": "code",
    "execution_context_id": "bd6ba632-1d63-4e06-aab9-a07fb8971418",
    "execution_millis": 9890,
    "execution_start": 1738081456275,
    "source_hash": "6584bfcc"
   },
   "outputs": [],
   "source": [
    "# Define the range of max_depth values to analyze\n",
    "range_max_depth = [5, 10, 15, 20, 25, 30, 50, 100] \n",
    "\n",
    "train_scores, test_scores = validation_curve(\n",
    "    estimator=best_estimator,\n",
    "    X=X_train, \n",
    "    y=y_train, \n",
    "    param_name='classifier__max_depth',\n",
    "    param_range=range_max_depth,\n",
    "    cv=5,\n",
    "    n_jobs=-1,\n",
    "    scoring='f1'\n",
    ")"
   ]
  },
  {
   "cell_type": "code",
   "execution_count": 50,
   "metadata": {
    "cell_id": "c466df397fa047298722c53325dabc0b",
    "deepnote_cell_type": "code",
    "execution_context_id": "bd6ba632-1d63-4e06-aab9-a07fb8971418",
    "execution_millis": 324,
    "execution_start": 1738081466211,
    "source_hash": "341232b5"
   },
   "outputs": [
    {
     "data": {
      "image/png": "[encoded data removed]",
      "text/plain": [
       "<Figure size 1200x700 with 1 Axes>"
      ]
     },
     "metadata": {
      "image/png": {
       "height": 602,
       "width": 1010
      }
     },
     "output_type": "display_data"
    }
   ],
   "source": [
    "train_mean = np.mean(train_scores, axis=1)\n",
    "train_std = np.std(train_scores, axis=1)\n",
    "test_mean = np.mean(test_scores, axis=1)\n",
    "test_std = np.std(test_scores, axis=1)\n",
    "\n",
    "fig=plt.figure(figsize=(12,7))\n",
    "ax = fig.add_subplot()\n",
    "ax.plot(range_max_depth, train_mean,\n",
    "         color='blue', marker='o',\n",
    "         markersize=5, label='Training F1')\n",
    "\n",
    "ax.fill_between(range_max_depth,\n",
    "                 train_mean + train_std,\n",
    "                 train_mean - train_std,\n",
    "                 alpha=0.15, color='blue')\n",
    "\n",
    "ax.plot(range_max_depth, test_mean,\n",
    "         color='green', linestyle='--',\n",
    "         marker='s', markersize=5,\n",
    "         label='Validation F1')\n",
    "\n",
    "ax.fill_between(range_max_depth,\n",
    "                 test_mean + test_std,\n",
    "                 test_mean - test_std,\n",
    "                 alpha=0.15, color='green')\n",
    "\n",
    "ax.grid()\n",
    "ax.set_xlabel('Parameter max_depth')\n",
    "ax.set_ylabel('F1-score')\n",
    "ax.legend(loc='lower right')\n",
    "plt.show()"
   ]
  },
  {
   "cell_type": "markdown",
   "metadata": {
    "cell_id": "a7ed12956e43471aab4d1f15b262e870",
    "deepnote_cell_type": "text-cell-p",
    "formattedRanges": []
   },
   "source": [
    "The plot shows that the training F1 score increases with <code>max_depth</code> and plateaus around 0.94, while the validation F1 score peaks around <code>max_depth</code> of 20-30 and then remains stable or slightly decreases.\n",
    "\n",
    "This suggests that a <code>max_depth</code> of 30 is a reasonable choice, as it balances model complexity and generalization, with no significant improvement beyond this value."
   ]
  },
  {
   "cell_type": "markdown",
   "metadata": {},
   "source": [
    "# Conclusion"
   ]
  },
  {
   "cell_type": "markdown",
   "metadata": {},
   "source": [
    "In conclusion, this project confirms the relationship between the significance of anxiety based on user-reported data, music preferences, habits, and associated mental health conditions.\n",
    "\n",
    "The final model, a RandomForestClassifier, demonstrated strong performance with an F1 Score of 0.856, Precision of 0.824, Recall of 0.89, and an Accuracy of 0.795. The comprehensive evaluation metrics, including the Precision-Recall Curve (PRC), ROC AUC, confusion matrix, and learning and validation curves, provided valuable insights into the model’s effectiveness and ability to generalize.\n",
    "\n",
    "However, while the model performs well, it is not perfect.\n",
    "\n",
    "- The confusion matrix shows some misclassifications, particularly with instances labeled as Not Significant being incorrectly predicted as Significant and vice versa. This suggests that there is still room for improvement in the model’s ability to distinguish between the classes.\n",
    "\n",
    "- Additionally, the learning curve indicated some overfitting, as the gap between training and validation performance does not significantly narrow as the training set size increases, highlighting overfitting.\n",
    "\n",
    "Future work could focus on enhancing the model by incorporating additional features and data to improve its ability to generalize and its performance."
   ]
  },
  {
   "cell_type": "markdown",
   "metadata": {
    "created_in_deepnote_cell": true,
    "deepnote_cell_type": "markdown"
   },
   "source": [
    "<a style='text-decoration:none;line-height:16px;display:flex;color:#5B5B62;padding:10px;justify-content:end;' href='https://deepnote.com?utm_source=created-in-deepnote-cell&projectId=87871e0b-fc75-4a3d-b8c5-9fe823162465' target=\"_blank\">\n",
    "<img alt='Created in deepnote.com' style='display:inline;max-height:16px;margin:0px;margin-right:7.5px;' src='data:image/svg+xml;base64,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' > </img>\n",
    "Created in <span style='font-weight:600;margin-left:4px;'>Deepnote</span></a>"
   ]
  }
 ],
 "metadata": {
  "deepnote_app_layout": "powerful-article",
  "deepnote_app_reactivity_enabled": true,
  "deepnote_notebook_id": "acd9b55aa4e64543bab7a03eaaf71855",
  "language_info": {
   "name": "python"
  }
 },
 "nbformat": 4,
 "nbformat_minor": 0
}
